{
 "cells": [
  {
   "cell_type": "code",
   "execution_count": 1,
   "id": "8db862e3-4a68-4f18-a068-aaff4ab25e41",
   "metadata": {},
   "outputs": [],
   "source": [
    "#sort , search & Counting Function"
   ]
  },
  {
   "cell_type": "code",
   "execution_count": 2,
   "id": "584da3b8-7254-468a-b902-3a7c04c0293f",
   "metadata": {},
   "outputs": [],
   "source": [
    "import numpy as np"
   ]
  },
  {
   "cell_type": "code",
   "execution_count": 4,
   "id": "7c95533b-9126-48d7-8dbd-47d08fce50dc",
   "metadata": {},
   "outputs": [],
   "source": [
    "arr = np.array([4,3,6,7,56,45,78,5,2,9,4,7,78])"
   ]
  },
  {
   "cell_type": "code",
   "execution_count": 5,
   "id": "44b737f5-1368-4235-8a31-60344984d924",
   "metadata": {},
   "outputs": [
    {
     "data": {
      "text/plain": [
       "array([ 4,  3,  6,  7, 56, 45, 78,  5,  2,  9,  4,  7, 78])"
      ]
     },
     "execution_count": 5,
     "metadata": {},
     "output_type": "execute_result"
    }
   ],
   "source": [
    "arr"
   ]
  },
  {
   "cell_type": "code",
   "execution_count": 6,
   "id": "53d8b1c9-9b37-4258-a672-21c3c9d5d1a6",
   "metadata": {},
   "outputs": [
    {
     "data": {
      "text/plain": [
       "array([ 2,  3,  4,  4,  5,  6,  7,  7,  9, 45, 56, 78, 78])"
      ]
     },
     "execution_count": 6,
     "metadata": {},
     "output_type": "execute_result"
    }
   ],
   "source": [
    "np.sort(arr)"
   ]
  },
  {
   "cell_type": "code",
   "execution_count": 7,
   "id": "b61da24b-47d7-4ebc-8ee8-95a900d36ced",
   "metadata": {},
   "outputs": [
    {
     "data": {
      "text/plain": [
       "4"
      ]
     },
     "execution_count": 7,
     "metadata": {},
     "output_type": "execute_result"
    }
   ],
   "source": [
    "np.searchsorted(arr , 45)"
   ]
  },
  {
   "cell_type": "code",
   "execution_count": 9,
   "id": "418ae47f-a055-4460-aa47-a1e2132521b9",
   "metadata": {},
   "outputs": [],
   "source": [
    "arr1 = np.array([0,74,5,4,0,0,56,0,0,0,1,5])"
   ]
  },
  {
   "cell_type": "code",
   "execution_count": 10,
   "id": "cd9c630c-507f-4169-b728-5f67aeaf3984",
   "metadata": {},
   "outputs": [
    {
     "data": {
      "text/plain": [
       "array([ 0, 74,  5,  4,  0,  0, 56,  0,  0,  0,  1,  5])"
      ]
     },
     "execution_count": 10,
     "metadata": {},
     "output_type": "execute_result"
    }
   ],
   "source": [
    "arr1"
   ]
  },
  {
   "cell_type": "code",
   "execution_count": 11,
   "id": "9294d141-4cb0-4160-a016-998384048bbd",
   "metadata": {},
   "outputs": [
    {
     "data": {
      "text/plain": [
       "6"
      ]
     },
     "execution_count": 11,
     "metadata": {},
     "output_type": "execute_result"
    }
   ],
   "source": [
    "np.count_nonzero(arr1)"
   ]
  },
  {
   "cell_type": "code",
   "execution_count": 13,
   "id": "cdcb5462-89ba-4a53-ac9d-5367693e5779",
   "metadata": {},
   "outputs": [
    {
     "data": {
      "text/plain": [
       "array([ 4,  3,  6,  7, 56, 45, 78,  5,  2,  9,  4,  7, 78])"
      ]
     },
     "execution_count": 13,
     "metadata": {},
     "output_type": "execute_result"
    }
   ],
   "source": [
    "arr"
   ]
  },
  {
   "cell_type": "code",
   "execution_count": 14,
   "id": "b5fa4afc-13b5-4050-a487-a29fc17f979b",
   "metadata": {},
   "outputs": [
    {
     "data": {
      "text/plain": [
       "(array([ 3,  4,  5,  6,  9, 11, 12]),)"
      ]
     },
     "execution_count": 14,
     "metadata": {},
     "output_type": "execute_result"
    }
   ],
   "source": [
    "np.where(arr > 6)"
   ]
  },
  {
   "cell_type": "code",
   "execution_count": 15,
   "id": "6cea34b8-236a-4801-91c1-21abc10ea524",
   "metadata": {},
   "outputs": [
    {
     "data": {
      "text/plain": [
       "array([ 7, 56, 45, 78,  9,  7, 78])"
      ]
     },
     "execution_count": 15,
     "metadata": {},
     "output_type": "execute_result"
    }
   ],
   "source": [
    "np.extract(arr>6 , arr)"
   ]
  },
  {
   "cell_type": "code",
   "execution_count": 16,
   "id": "4f01e824-36da-455e-991e-d0f4c4ab0781",
   "metadata": {},
   "outputs": [],
   "source": [
    "# Byte swapping"
   ]
  },
  {
   "cell_type": "code",
   "execution_count": 17,
   "id": "023247b8-0d73-4aad-a806-5393553859a0",
   "metadata": {},
   "outputs": [
    {
     "data": {
      "text/plain": [
       "array([ 4,  3,  6,  7, 56, 45, 78,  5,  2,  9,  4,  7, 78])"
      ]
     },
     "execution_count": 17,
     "metadata": {},
     "output_type": "execute_result"
    }
   ],
   "source": [
    "arr"
   ]
  },
  {
   "cell_type": "code",
   "execution_count": 18,
   "id": "0c0807e1-319d-4b78-a32b-f5fb87fe1d7f",
   "metadata": {},
   "outputs": [
    {
     "data": {
      "text/plain": [
       "array([ 288230376151711744,  216172782113783808,  432345564227567616,\n",
       "        504403158265495552, 4035225266123964416, 3242591731706757120,\n",
       "       5620492334958379008,  360287970189639680,  144115188075855872,\n",
       "        648518346341351424,  288230376151711744,  504403158265495552,\n",
       "       5620492334958379008])"
      ]
     },
     "execution_count": 18,
     "metadata": {},
     "output_type": "execute_result"
    }
   ],
   "source": [
    "arr.byteswap()"
   ]
  },
  {
   "cell_type": "code",
   "execution_count": 19,
   "id": "322ffa1c-464a-49e5-befd-b2b0a086ad94",
   "metadata": {},
   "outputs": [],
   "source": [
    "#Copies & Views"
   ]
  },
  {
   "cell_type": "code",
   "execution_count": 20,
   "id": "c37bd232-7daa-4f43-9b10-fdf9318708e9",
   "metadata": {},
   "outputs": [
    {
     "data": {
      "text/plain": [
       "array([ 4,  3,  6,  7, 56, 45, 78,  5,  2,  9,  4,  7, 78])"
      ]
     },
     "execution_count": 20,
     "metadata": {},
     "output_type": "execute_result"
    }
   ],
   "source": [
    "arr"
   ]
  },
  {
   "cell_type": "code",
   "execution_count": 21,
   "id": "2eeef1c6-e9ff-4ed4-ae44-a4c058d39962",
   "metadata": {},
   "outputs": [],
   "source": [
    "a = np.copy(arr)"
   ]
  },
  {
   "cell_type": "code",
   "execution_count": 22,
   "id": "12e185b3-6757-4202-b340-7916a30f4e5f",
   "metadata": {},
   "outputs": [],
   "source": [
    "b= arr.view()"
   ]
  },
  {
   "cell_type": "code",
   "execution_count": 28,
   "id": "a87e25e5-1f3f-472e-bb54-5b057faa1c01",
   "metadata": {},
   "outputs": [],
   "source": [
    "b = arr"
   ]
  },
  {
   "cell_type": "code",
   "execution_count": 23,
   "id": "e0aef545-5528-4138-b399-0635cf19adbb",
   "metadata": {},
   "outputs": [
    {
     "data": {
      "text/plain": [
       "array([ 4,  3,  6,  7, 56, 45, 78,  5,  2,  9,  4,  7, 78])"
      ]
     },
     "execution_count": 23,
     "metadata": {},
     "output_type": "execute_result"
    }
   ],
   "source": [
    "b"
   ]
  },
  {
   "cell_type": "code",
   "execution_count": 24,
   "id": "76fcc10e-6d2c-496e-99f0-afb1ed175e23",
   "metadata": {},
   "outputs": [
    {
     "data": {
      "text/plain": [
       "array([ 4,  3,  6,  7, 56, 45, 78,  5,  2,  9,  4,  7, 78])"
      ]
     },
     "execution_count": 24,
     "metadata": {},
     "output_type": "execute_result"
    }
   ],
   "source": [
    "arr"
   ]
  },
  {
   "cell_type": "code",
   "execution_count": 25,
   "id": "90083fc9-ce56-42b5-8464-e8e94320e644",
   "metadata": {},
   "outputs": [],
   "source": [
    "b[0] = 35"
   ]
  },
  {
   "cell_type": "code",
   "execution_count": 26,
   "id": "58ec8061-b280-4ade-a290-937280c9e704",
   "metadata": {},
   "outputs": [
    {
     "data": {
      "text/plain": [
       "array([35,  3,  6,  7, 56, 45, 78,  5,  2,  9,  4,  7, 78])"
      ]
     },
     "execution_count": 26,
     "metadata": {},
     "output_type": "execute_result"
    }
   ],
   "source": [
    "b"
   ]
  },
  {
   "cell_type": "code",
   "execution_count": 27,
   "id": "42a88454-3460-4792-a9df-c7f76c649d79",
   "metadata": {},
   "outputs": [
    {
     "data": {
      "text/plain": [
       "array([35,  3,  6,  7, 56, 45, 78,  5,  2,  9,  4,  7, 78])"
      ]
     },
     "execution_count": 27,
     "metadata": {},
     "output_type": "execute_result"
    }
   ],
   "source": [
    "arr"
   ]
  },
  {
   "cell_type": "code",
   "execution_count": 29,
   "id": "147f2f61-664d-4e73-bd55-548e09572420",
   "metadata": {},
   "outputs": [],
   "source": [
    "# Matrix Library"
   ]
  },
  {
   "cell_type": "code",
   "execution_count": 30,
   "id": "307e224c-a269-4942-85a1-996f67504659",
   "metadata": {},
   "outputs": [],
   "source": [
    "import numpy.matlib as ma"
   ]
  },
  {
   "cell_type": "code",
   "execution_count": 33,
   "id": "a78d4056-6bad-4336-bd52-8474b2ba9a9c",
   "metadata": {},
   "outputs": [
    {
     "data": {
      "text/plain": [
       "matrix([[0., 0., 0., 0., 0.]])"
      ]
     },
     "execution_count": 33,
     "metadata": {},
     "output_type": "execute_result"
    }
   ],
   "source": [
    "ma.zeros(5)"
   ]
  },
  {
   "cell_type": "code",
   "execution_count": 34,
   "id": "f9d0e824-ae50-48e5-ad70-06a5a1c4312b",
   "metadata": {},
   "outputs": [
    {
     "data": {
      "text/plain": [
       "matrix([[1., 1., 1., 1.],\n",
       "        [1., 1., 1., 1.],\n",
       "        [1., 1., 1., 1.]])"
      ]
     },
     "execution_count": 34,
     "metadata": {},
     "output_type": "execute_result"
    }
   ],
   "source": [
    "ma.ones((3,4))"
   ]
  },
  {
   "cell_type": "code",
   "execution_count": 35,
   "id": "f63b0b6a-221b-466c-860c-0961e69c4150",
   "metadata": {},
   "outputs": [
    {
     "data": {
      "text/plain": [
       "matrix([[1., 0., 0., 0., 0.],\n",
       "        [0., 1., 0., 0., 0.],\n",
       "        [0., 0., 1., 0., 0.],\n",
       "        [0., 0., 0., 1., 0.],\n",
       "        [0., 0., 0., 0., 1.]])"
      ]
     },
     "execution_count": 35,
     "metadata": {},
     "output_type": "execute_result"
    }
   ],
   "source": [
    "ma.eye(5)"
   ]
  },
  {
   "cell_type": "code",
   "execution_count": 36,
   "id": "a99f8efb-b765-44a2-8824-87261dcce95f",
   "metadata": {},
   "outputs": [],
   "source": [
    "# numpy - Linear Algebra"
   ]
  },
  {
   "cell_type": "code",
   "execution_count": 37,
   "id": "a6e9219e-91bf-401e-a862-66b8f6dddc7a",
   "metadata": {},
   "outputs": [],
   "source": [
    "arr1 = np.random.randint([[2,3] , [4,5]])"
   ]
  },
  {
   "cell_type": "code",
   "execution_count": 38,
   "id": "49a47f7c-fb93-439a-a607-bb9b9bacded6",
   "metadata": {},
   "outputs": [],
   "source": [
    "arr2 = np.random.randint([[5,3] , [2,5]])"
   ]
  },
  {
   "cell_type": "code",
   "execution_count": 39,
   "id": "017de4e3-ab70-40bc-93a6-b9a50213d352",
   "metadata": {},
   "outputs": [
    {
     "data": {
      "text/plain": [
       "array([[ 0,  0],\n",
       "       [ 0, 12]])"
      ]
     },
     "execution_count": 39,
     "metadata": {},
     "output_type": "execute_result"
    }
   ],
   "source": [
    "np.dot(arr1 , arr2)"
   ]
  },
  {
   "cell_type": "code",
   "execution_count": 40,
   "id": "5890eaf3-5e14-46ba-96b4-867a856d00a9",
   "metadata": {},
   "outputs": [
    {
     "data": {
      "text/plain": [
       "array([[ 0,  0],\n",
       "       [ 0, 12]])"
      ]
     },
     "execution_count": 40,
     "metadata": {},
     "output_type": "execute_result"
    }
   ],
   "source": [
    "arr1 @ arr2"
   ]
  },
  {
   "cell_type": "code",
   "execution_count": null,
   "id": "8626f5be-3c94-40ca-ae8e-c2ea23e4e273",
   "metadata": {},
   "outputs": [],
   "source": []
  }
 ],
 "metadata": {
  "kernelspec": {
   "display_name": "Python 3 (ipykernel)",
   "language": "python",
   "name": "python3"
  },
  "language_info": {
   "codemirror_mode": {
    "name": "ipython",
    "version": 3
   },
   "file_extension": ".py",
   "mimetype": "text/x-python",
   "name": "python",
   "nbconvert_exporter": "python",
   "pygments_lexer": "ipython3",
   "version": "3.10.8"
  }
 },
 "nbformat": 4,
 "nbformat_minor": 5
}
