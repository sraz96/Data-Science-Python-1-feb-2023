{
 "cells": [
  {
   "cell_type": "code",
   "execution_count": 1,
   "id": "405283f8-cbd3-4b03-8c36-2c9a6b5c7ffd",
   "metadata": {},
   "outputs": [],
   "source": [
    "import io "
   ]
  },
  {
   "cell_type": "code",
   "execution_count": 5,
   "id": "0e2b7d5a-3946-4471-94ad-8dd7b8276f3a",
   "metadata": {},
   "outputs": [],
   "source": [
    "with open(\"test1.txt\", \"wb\") as f :\n",
    "    file = io.BufferedWriter(f)\n",
    "    \n",
    "    file.write(b\"Data Science is a blend of several fields including statistics, mathematics, computer science, information science, and domain expertise. It involves a number of tasks such as data cleaning and preprocessing, data visualization, feature selection, model building and evaluation, and deployment.\\n\")\n",
    "    file.write(b\"this is my second line\\n\")\n",
    "    file.flush()"
   ]
  },
  {
   "cell_type": "code",
   "execution_count": 10,
   "id": "aa4f5d6f-be91-4479-9b65-93c4c158f94c",
   "metadata": {},
   "outputs": [
    {
     "name": "stdout",
     "output_type": "stream",
     "text": [
      "b'Data Science is a blend of several fields including statistics, mathematics, computer science, information science, and domain expertise. It involves a number of tasks such as data cleaning and preprocessing, data visualization, feature selection, model building and evaluation, and deployment.\\nthis is my second line\\n'\n"
     ]
    }
   ],
   "source": [
    "with open(\"test1.txt\" , \"rb\") as f:\n",
    "    file = io.BufferedReader(f)\n",
    "    data = file.read(1000)\n",
    "    print(data)"
   ]
  },
  {
   "cell_type": "code",
   "execution_count": null,
   "id": "97d97f38-8da7-4837-804d-66e7348e7af7",
   "metadata": {},
   "outputs": [],
   "source": []
  }
 ],
 "metadata": {
  "kernelspec": {
   "display_name": "Python 3 (ipykernel)",
   "language": "python",
   "name": "python3"
  },
  "language_info": {
   "codemirror_mode": {
    "name": "ipython",
    "version": 3
   },
   "file_extension": ".py",
   "mimetype": "text/x-python",
   "name": "python",
   "nbconvert_exporter": "python",
   "pygments_lexer": "ipython3",
   "version": "3.10.8"
  }
 },
 "nbformat": 4,
 "nbformat_minor": 5
}
