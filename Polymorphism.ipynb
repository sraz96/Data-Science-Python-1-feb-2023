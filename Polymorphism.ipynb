{
 "cells": [
  {
   "cell_type": "code",
   "execution_count": 24,
   "id": "da136647-13ca-4827-9646-f5d4f36c93ad",
   "metadata": {},
   "outputs": [],
   "source": [
    "def test(a, b):\n",
    "    return a+b"
   ]
  },
  {
   "cell_type": "code",
   "execution_count": 25,
   "id": "4b128060-c708-48bc-bea8-98581af63b42",
   "metadata": {},
   "outputs": [
    {
     "data": {
      "text/plain": [
       "7"
      ]
     },
     "execution_count": 25,
     "metadata": {},
     "output_type": "execute_result"
    }
   ],
   "source": [
    "test(3 ,4)"
   ]
  },
  {
   "cell_type": "code",
   "execution_count": 26,
   "id": "124bf964-cf87-44f8-8f15-59ea4afabf19",
   "metadata": {},
   "outputs": [
    {
     "data": {
      "text/plain": [
       "'santomaurya'"
      ]
     },
     "execution_count": 26,
     "metadata": {},
     "output_type": "execute_result"
    }
   ],
   "source": [
    "test(\"santo\" , \"maurya\")"
   ]
  },
  {
   "cell_type": "code",
   "execution_count": 27,
   "id": "be00e6ca-1702-43bd-885d-9d2828a1ae86",
   "metadata": {},
   "outputs": [
    {
     "data": {
      "text/plain": [
       "[3, 4, 5, 6, 5, 6, 7, 8]"
      ]
     },
     "execution_count": 27,
     "metadata": {},
     "output_type": "execute_result"
    }
   ],
   "source": [
    "test([3,4,5,6],[5,6,7,8])"
   ]
  },
  {
   "cell_type": "code",
   "execution_count": 62,
   "id": "a08fc322-4c09-4eb9-a5f9-4bbdc4a08aed",
   "metadata": {},
   "outputs": [],
   "source": [
    "class data_science:\n",
    "    \n",
    "    def syllabus(self):\n",
    "        print(\"this is my syllabus for data science master\")"
   ]
  },
  {
   "cell_type": "code",
   "execution_count": 63,
   "id": "a399e758-022e-41f6-a716-be4e70405121",
   "metadata": {},
   "outputs": [],
   "source": [
    "class web_dev:\n",
    "    \n",
    "    def syllabus(self):\n",
    "        print(\"this is my syllabus for web dev\")"
   ]
  },
  {
   "cell_type": "code",
   "execution_count": 64,
   "id": "40e2d0fb-3b50-4ca7-99bd-b8fe1dbd7b52",
   "metadata": {},
   "outputs": [],
   "source": [
    "def class_parcer(class_object):\n",
    "    for i in class_object :\n",
    "        i.syllabus()"
   ]
  },
  {
   "cell_type": "code",
   "execution_count": 65,
   "id": "640ff55b-97de-4972-bdf2-58f0424f1c27",
   "metadata": {},
   "outputs": [],
   "source": [
    "data_sicence = data_science()"
   ]
  },
  {
   "cell_type": "code",
   "execution_count": 66,
   "id": "3a2c0891-0d7b-4f3f-ae2f-642f1f5a9741",
   "metadata": {},
   "outputs": [],
   "source": [
    "web_dev = web_dev()"
   ]
  },
  {
   "cell_type": "code",
   "execution_count": 67,
   "id": "f042ef96-05d4-42b4-a0c2-8d9061817b48",
   "metadata": {},
   "outputs": [],
   "source": [
    "class_object = [data_science , web_dev]"
   ]
  },
  {
   "cell_type": "code",
   "execution_count": 68,
   "id": "5938ec12-e3ba-40ed-a38c-a4009625a106",
   "metadata": {},
   "outputs": [
    {
     "ename": "TypeError",
     "evalue": "data_science.syllabus() missing 1 required positional argument: 'self'",
     "output_type": "error",
     "traceback": [
      "\u001b[0;31m---------------------------------------------------------------------------\u001b[0m",
      "\u001b[0;31mTypeError\u001b[0m                                 Traceback (most recent call last)",
      "Cell \u001b[0;32mIn[68], line 1\u001b[0m\n\u001b[0;32m----> 1\u001b[0m \u001b[43mclass_parcer\u001b[49m\u001b[43m(\u001b[49m\u001b[43mclass_object\u001b[49m\u001b[43m)\u001b[49m\n",
      "Cell \u001b[0;32mIn[64], line 3\u001b[0m, in \u001b[0;36mclass_parcer\u001b[0;34m(class_object)\u001b[0m\n\u001b[1;32m      1\u001b[0m \u001b[38;5;28;01mdef\u001b[39;00m \u001b[38;5;21mclass_parcer\u001b[39m(class_object):\n\u001b[1;32m      2\u001b[0m     \u001b[38;5;28;01mfor\u001b[39;00m i \u001b[38;5;129;01min\u001b[39;00m class_object :\n\u001b[0;32m----> 3\u001b[0m         \u001b[43mi\u001b[49m\u001b[38;5;241;43m.\u001b[39;49m\u001b[43msyllabus\u001b[49m\u001b[43m(\u001b[49m\u001b[43m)\u001b[49m\n",
      "\u001b[0;31mTypeError\u001b[0m: data_science.syllabus() missing 1 required positional argument: 'self'"
     ]
    }
   ],
   "source": [
    "class_parcer(class_object)"
   ]
  },
  {
   "cell_type": "code",
   "execution_count": null,
   "id": "31f7936a-59bc-4682-b8d7-99bd4d9d7b51",
   "metadata": {},
   "outputs": [],
   "source": []
  }
 ],
 "metadata": {
  "kernelspec": {
   "display_name": "Python 3 (ipykernel)",
   "language": "python",
   "name": "python3"
  },
  "language_info": {
   "codemirror_mode": {
    "name": "ipython",
    "version": 3
   },
   "file_extension": ".py",
   "mimetype": "text/x-python",
   "name": "python",
   "nbconvert_exporter": "python",
   "pygments_lexer": "ipython3",
   "version": "3.10.8"
  }
 },
 "nbformat": 4,
 "nbformat_minor": 5
}
