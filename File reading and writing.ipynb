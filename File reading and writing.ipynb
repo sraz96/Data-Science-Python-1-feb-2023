{
 "cells": [
  {
   "cell_type": "code",
   "execution_count": 2,
   "id": "a3542f20-1c40-438a-9b74-2b3c46bdda85",
   "metadata": {},
   "outputs": [],
   "source": [
    "data = {\n",
    "    \"name\" : \"santo\" ,\n",
    "    \"mail_id\" : \"sat312@gmail.com\" ,\n",
    "    \"phone_num\" : 787654564 ,\n",
    "    \"subject\" : [\"data science\" , \"big data\" , \"data analytics\"]\n",
    "} #json known "
   ]
  },
  {
   "cell_type": "code",
   "execution_count": 3,
   "id": "30466594-239a-4fc3-b1e1-ddfb1703a938",
   "metadata": {},
   "outputs": [],
   "source": [
    "import json"
   ]
  },
  {
   "cell_type": "code",
   "execution_count": 4,
   "id": "04bf2007-0828-42cf-bdfd-c7718b5e719e",
   "metadata": {},
   "outputs": [],
   "source": [
    "with open(\"data.json\" , \"w\") as f :\n",
    "    json.dump(data , f)"
   ]
  },
  {
   "cell_type": "code",
   "execution_count": 5,
   "id": "6acafabf-299d-4897-8a4e-550dfe654711",
   "metadata": {},
   "outputs": [],
   "source": [
    "with open(\"data.json\" , \"r\") as f:\n",
    "    data1 = json.load(f)"
   ]
  },
  {
   "cell_type": "code",
   "execution_count": 6,
   "id": "ce74ea1d-1d56-4613-972b-8032a9e66e49",
   "metadata": {},
   "outputs": [
    {
     "data": {
      "text/plain": [
       "{'name': 'santo',\n",
       " 'mail_id': 'sat312@gmail.com',\n",
       " 'phone_num': 787654564,\n",
       " 'subject': ['data science', 'big data', 'data analytics']}"
      ]
     },
     "execution_count": 6,
     "metadata": {},
     "output_type": "execute_result"
    }
   ],
   "source": [
    "data1"
   ]
  },
  {
   "cell_type": "code",
   "execution_count": 7,
   "id": "f1140ff0-2350-4b2d-b28d-dd9610b5e4c8",
   "metadata": {},
   "outputs": [
    {
     "data": {
      "text/plain": [
       "['data science', 'big data', 'data analytics']"
      ]
     },
     "execution_count": 7,
     "metadata": {},
     "output_type": "execute_result"
    }
   ],
   "source": [
    "data1['subject']"
   ]
  },
  {
   "cell_type": "code",
   "execution_count": 8,
   "id": "962ec027-c163-44b0-bc55-85da97e8cdb9",
   "metadata": {},
   "outputs": [
    {
     "data": {
      "text/plain": [
       "'big data'"
      ]
     },
     "execution_count": 8,
     "metadata": {},
     "output_type": "execute_result"
    }
   ],
   "source": [
    "data1['subject'][1]"
   ]
  },
  {
   "cell_type": "code",
   "execution_count": 9,
   "id": "3b3e7fdd-5958-4de8-99eb-2a2ebef8acd9",
   "metadata": {},
   "outputs": [],
   "source": [
    "import csv"
   ]
  },
  {
   "cell_type": "code",
   "execution_count": 15,
   "id": "5ad15b3e-dcee-463e-bb9d-b3ee1370059b",
   "metadata": {},
   "outputs": [],
   "source": [
    "data = [[\"name\" , \"email_id\" , \"phone_num\"],\n",
    "        [\"santosh\" , \"sudh@gmail.com\" , 8856554546],\n",
    "        [\"sudh\" , 'sudh@gmail.com' , 7814545462]\n",
    "]"
   ]
  },
  {
   "cell_type": "code",
   "execution_count": 16,
   "id": "8f10b71a-7fe3-49d3-a244-93474fc7f1f1",
   "metadata": {},
   "outputs": [],
   "source": [
    "with open(\"data.csv\" , \"w\") as f:\n",
    "    writer = csv.writer(f)\n",
    "    \n",
    "    for i in data :\n",
    "        writer.writerow(i)"
   ]
  },
  {
   "cell_type": "code",
   "execution_count": 17,
   "id": "01b0f085-8921-4031-ac08-815756384ca6",
   "metadata": {},
   "outputs": [
    {
     "name": "stdout",
     "output_type": "stream",
     "text": [
      "['name', 'email_id', 'phone_num']\n",
      "['santosh', 'sudh@gmail.com', '8856554546']\n",
      "['sudh', 'sudh@gmail.com', '7814545462']\n"
     ]
    }
   ],
   "source": [
    "with open(\"data.csv\", \"r\") as f:\n",
    "    read_data = csv.reader(f)\n",
    "    \n",
    "    for i in read_data:\n",
    "        print(i)"
   ]
  },
  {
   "cell_type": "code",
   "execution_count": 20,
   "id": "41d82014-add4-4f01-be02-a4800e00774c",
   "metadata": {},
   "outputs": [],
   "source": [
    "with open(\"test4.bin\" , \"wb\") as f:\n",
    "    f.write(b\"\\x01\\x02\\x03\\x35454\")"
   ]
  },
  {
   "cell_type": "code",
   "execution_count": 21,
   "id": "390e4abe-4830-4ae7-b2ae-571c3498c60d",
   "metadata": {},
   "outputs": [
    {
     "name": "stdout",
     "output_type": "stream",
     "text": [
      "b'\\x01\\x02\\x035454'\n"
     ]
    }
   ],
   "source": [
    "with open(\"test4.bin\" , \"rb\") as f:\n",
    "    print(f.read())"
   ]
  },
  {
   "cell_type": "code",
   "execution_count": null,
   "id": "4c3b0cfe-1f3f-47ac-856d-7481c3e4c47c",
   "metadata": {},
   "outputs": [],
   "source": []
  }
 ],
 "metadata": {
  "kernelspec": {
   "display_name": "Python 3 (ipykernel)",
   "language": "python",
   "name": "python3"
  },
  "language_info": {
   "codemirror_mode": {
    "name": "ipython",
    "version": 3
   },
   "file_extension": ".py",
   "mimetype": "text/x-python",
   "name": "python",
   "nbconvert_exporter": "python",
   "pygments_lexer": "ipython3",
   "version": "3.10.8"
  }
 },
 "nbformat": 4,
 "nbformat_minor": 5
}
