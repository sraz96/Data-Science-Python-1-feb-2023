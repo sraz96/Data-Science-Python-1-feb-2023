{
 "cells": [
  {
   "cell_type": "code",
   "execution_count": 1,
   "id": "d9173a7a-6b14-40c5-9205-cf89f473858a",
   "metadata": {},
   "outputs": [],
   "source": [
    "d = {}"
   ]
  },
  {
   "cell_type": "code",
   "execution_count": 2,
   "id": "57100b5a-95ef-4291-bfe7-4a8bf8a148c8",
   "metadata": {},
   "outputs": [
    {
     "data": {
      "text/plain": [
       "dict"
      ]
     },
     "execution_count": 2,
     "metadata": {},
     "output_type": "execute_result"
    }
   ],
   "source": [
    "type(d)"
   ]
  },
  {
   "cell_type": "code",
   "execution_count": 3,
   "id": "85fb0bf8-89eb-4aa7-a882-aeec647810f5",
   "metadata": {},
   "outputs": [],
   "source": [
    "d1 = {'key' : 'sudh'}"
   ]
  },
  {
   "cell_type": "code",
   "execution_count": 4,
   "id": "5e70a5c8-e269-4b89-815e-81e70be3e795",
   "metadata": {},
   "outputs": [
    {
     "data": {
      "text/plain": [
       "{'key': 'sudh'}"
      ]
     },
     "execution_count": 4,
     "metadata": {},
     "output_type": "execute_result"
    }
   ],
   "source": [
    "d1"
   ]
  },
  {
   "cell_type": "code",
   "execution_count": 6,
   "id": "d99822f0-0ab3-4540-8460-e53da775d8c5",
   "metadata": {},
   "outputs": [],
   "source": [
    "d2 = {'name' : 'santosh' , 'email' : 'mouryasantosh312@gmail.com', 'number' : 89876567565}"
   ]
  },
  {
   "cell_type": "code",
   "execution_count": 7,
   "id": "674fc9f0-90c1-4fc5-92f6-14b37ebed9d8",
   "metadata": {},
   "outputs": [
    {
     "data": {
      "text/plain": [
       "{'name': 'santosh',\n",
       " 'email': 'mouryasantosh312@gmail.com',\n",
       " 'number': 89876567565}"
      ]
     },
     "execution_count": 7,
     "metadata": {},
     "output_type": "execute_result"
    }
   ],
   "source": [
    "d2"
   ]
  },
  {
   "cell_type": "code",
   "execution_count": 12,
   "id": "57a0790a-a1c8-4c56-b34f-e0aec01cb02c",
   "metadata": {},
   "outputs": [],
   "source": [
    "d3 = {234 : 'sant' , '_ert' : 'at' , True : 25454}"
   ]
  },
  {
   "cell_type": "code",
   "execution_count": 13,
   "id": "28775f7d-fe09-4480-a24e-b03c98f58980",
   "metadata": {},
   "outputs": [
    {
     "data": {
      "text/plain": [
       "{234: 'sant', '_ert': 'at', True: 25454}"
      ]
     },
     "execution_count": 13,
     "metadata": {},
     "output_type": "execute_result"
    }
   ],
   "source": [
    "d3"
   ]
  },
  {
   "cell_type": "code",
   "execution_count": 14,
   "id": "bdc09349-80ac-44d0-9ccd-6ce95d519e1d",
   "metadata": {},
   "outputs": [
    {
     "data": {
      "text/plain": [
       "'sant'"
      ]
     },
     "execution_count": 14,
     "metadata": {},
     "output_type": "execute_result"
    }
   ],
   "source": [
    "d3[234]"
   ]
  },
  {
   "cell_type": "code",
   "execution_count": 15,
   "id": "85488006-d856-4bc1-9821-40ba752f4e17",
   "metadata": {},
   "outputs": [
    {
     "data": {
      "text/plain": [
       "25454"
      ]
     },
     "execution_count": 15,
     "metadata": {},
     "output_type": "execute_result"
    }
   ],
   "source": [
    "d3[True]"
   ]
  },
  {
   "cell_type": "code",
   "execution_count": 16,
   "id": "8d0620a8-b0ca-4496-be6d-538c977eb7c8",
   "metadata": {},
   "outputs": [
    {
     "data": {
      "text/plain": [
       "25454"
      ]
     },
     "execution_count": 16,
     "metadata": {},
     "output_type": "execute_result"
    }
   ],
   "source": [
    "d3[1]"
   ]
  },
  {
   "cell_type": "code",
   "execution_count": 17,
   "id": "cbab9fc5-887a-47fe-84cf-688921fb0922",
   "metadata": {},
   "outputs": [],
   "source": [
    "d4 = {'name' : 'sudh' , 'email' : 'ss@gmail.com', 'name':'santosh'}"
   ]
  },
  {
   "cell_type": "code",
   "execution_count": 18,
   "id": "705bdcf9-a80b-4fd8-9102-7c34d25210fc",
   "metadata": {},
   "outputs": [
    {
     "data": {
      "text/plain": [
       "'santosh'"
      ]
     },
     "execution_count": 18,
     "metadata": {},
     "output_type": "execute_result"
    }
   ],
   "source": [
    "d4['name']"
   ]
  },
  {
   "cell_type": "code",
   "execution_count": 20,
   "id": "ad954576-6fe0-4fdd-9318-7c3b6033a973",
   "metadata": {},
   "outputs": [],
   "source": [
    "d5 = {'sompany':'pwskills','courses':['web dev','data science', 'java with system design']}"
   ]
  },
  {
   "cell_type": "code",
   "execution_count": 21,
   "id": "5531a3a6-1ec0-4dbe-b2f9-8ec4bfa2ad33",
   "metadata": {},
   "outputs": [
    {
     "data": {
      "text/plain": [
       "{'sompany': 'pwskills',\n",
       " 'courses': ['web dev', 'data science', 'java with system design']}"
      ]
     },
     "execution_count": 21,
     "metadata": {},
     "output_type": "execute_result"
    }
   ],
   "source": [
    "d5"
   ]
  },
  {
   "cell_type": "code",
   "execution_count": 22,
   "id": "b59626f5-e707-44d8-a408-f1e0c738b98d",
   "metadata": {},
   "outputs": [
    {
     "data": {
      "text/plain": [
       "['web dev', 'data science', 'java with system design']"
      ]
     },
     "execution_count": 22,
     "metadata": {},
     "output_type": "execute_result"
    }
   ],
   "source": [
    "d5['courses']"
   ]
  },
  {
   "cell_type": "code",
   "execution_count": 23,
   "id": "b8e7df8b-3360-4423-be99-be4b4fd9f905",
   "metadata": {},
   "outputs": [
    {
     "data": {
      "text/plain": [
       "'java with system design'"
      ]
     },
     "execution_count": 23,
     "metadata": {},
     "output_type": "execute_result"
    }
   ],
   "source": [
    "d5['courses'][2]"
   ]
  },
  {
   "cell_type": "code",
   "execution_count": 26,
   "id": "a4dc7c81-f1c1-4faf-a8c9-8834ebf881b0",
   "metadata": {},
   "outputs": [],
   "source": [
    "d6 = {'number':[12,13,435,6,5],'assignment':(1,2,3,4,5,6),'launch_date':{28,12,14},'class timing':{'web dev': 8, \"Data science masters\": 8, 'Java with dsa and system design': 7}}"
   ]
  },
  {
   "cell_type": "code",
   "execution_count": 27,
   "id": "97f9c86f-2978-4db4-8cbf-2ae7d7a7e26d",
   "metadata": {},
   "outputs": [
    {
     "data": {
      "text/plain": [
       "{'number': [12, 13, 435, 6, 5],\n",
       " 'assignment': (1, 2, 3, 4, 5, 6),\n",
       " 'launch_date': {12, 14, 28},\n",
       " 'class timing': {'web dev': 8,\n",
       "  'Data science masters': 8,\n",
       "  'Java with dsa and system design': 7}}"
      ]
     },
     "execution_count": 27,
     "metadata": {},
     "output_type": "execute_result"
    }
   ],
   "source": [
    "d6"
   ]
  },
  {
   "cell_type": "code",
   "execution_count": 28,
   "id": "6d2a6b89-c023-4ce6-95cc-f91a010f3854",
   "metadata": {},
   "outputs": [
    {
     "data": {
      "text/plain": [
       "8"
      ]
     },
     "execution_count": 28,
     "metadata": {},
     "output_type": "execute_result"
    }
   ],
   "source": [
    "d6['class timing']['web dev']"
   ]
  },
  {
   "cell_type": "code",
   "execution_count": 29,
   "id": "1574ca0f-45ce-429e-928c-8952a7d165e2",
   "metadata": {},
   "outputs": [
    {
     "data": {
      "text/plain": [
       "{'number': [12, 13, 435, 6, 5],\n",
       " 'assignment': (1, 2, 3, 4, 5, 6),\n",
       " 'launch_date': {12, 14, 28},\n",
       " 'class timing': {'web dev': 8,\n",
       "  'Data science masters': 8,\n",
       "  'Java with dsa and system design': 7}}"
      ]
     },
     "execution_count": 29,
     "metadata": {},
     "output_type": "execute_result"
    }
   ],
   "source": [
    "d6"
   ]
  },
  {
   "cell_type": "code",
   "execution_count": 30,
   "id": "6c9fd68d-1e62-4858-ba7e-9adb4277294b",
   "metadata": {},
   "outputs": [],
   "source": [
    "d6['mentor'] = ['sudanshu','krish','hayder','anurag']"
   ]
  },
  {
   "cell_type": "code",
   "execution_count": 31,
   "id": "4453f961-3b27-445a-9f85-3529fc2cfa4f",
   "metadata": {},
   "outputs": [
    {
     "data": {
      "text/plain": [
       "{'number': [12, 13, 435, 6, 5],\n",
       " 'assignment': (1, 2, 3, 4, 5, 6),\n",
       " 'launch_date': {12, 14, 28},\n",
       " 'class timing': {'web dev': 8,\n",
       "  'Data science masters': 8,\n",
       "  'Java with dsa and system design': 7},\n",
       " 'mentor': ['sudanshu', 'krish', 'hayder', 'anurag']}"
      ]
     },
     "execution_count": 31,
     "metadata": {},
     "output_type": "execute_result"
    }
   ],
   "source": [
    "d6"
   ]
  },
  {
   "cell_type": "code",
   "execution_count": 32,
   "id": "25de558a-bcac-430a-a180-22a2648c47ad",
   "metadata": {},
   "outputs": [],
   "source": [
    "del d6['mentor']"
   ]
  },
  {
   "cell_type": "code",
   "execution_count": 33,
   "id": "c986162a-c437-40c5-b533-badca9168c5f",
   "metadata": {},
   "outputs": [
    {
     "data": {
      "text/plain": [
       "{'number': [12, 13, 435, 6, 5],\n",
       " 'assignment': (1, 2, 3, 4, 5, 6),\n",
       " 'launch_date': {12, 14, 28},\n",
       " 'class timing': {'web dev': 8,\n",
       "  'Data science masters': 8,\n",
       "  'Java with dsa and system design': 7}}"
      ]
     },
     "execution_count": 33,
     "metadata": {},
     "output_type": "execute_result"
    }
   ],
   "source": [
    "d6"
   ]
  },
  {
   "cell_type": "code",
   "execution_count": 35,
   "id": "3d0b609b-33b1-4197-86dc-7aef1397d557",
   "metadata": {},
   "outputs": [
    {
     "data": {
      "text/plain": [
       "['number', 'assignment', 'launch_date', 'class timing']"
      ]
     },
     "execution_count": 35,
     "metadata": {},
     "output_type": "execute_result"
    }
   ],
   "source": [
    "list(d6.keys())"
   ]
  },
  {
   "cell_type": "code",
   "execution_count": 38,
   "id": "60be04ff-943c-436a-8370-c87c2d7a0ff3",
   "metadata": {},
   "outputs": [
    {
     "data": {
      "text/plain": [
       "[[12, 13, 435, 6, 5],\n",
       " (1, 2, 3, 4, 5, 6),\n",
       " {12, 14, 28},\n",
       " {'web dev': 8,\n",
       "  'Data science masters': 8,\n",
       "  'Java with dsa and system design': 7}]"
      ]
     },
     "execution_count": 38,
     "metadata": {},
     "output_type": "execute_result"
    }
   ],
   "source": [
    "list(d6.values())"
   ]
  },
  {
   "cell_type": "code",
   "execution_count": 43,
   "id": "4162433c-8591-4c35-a0a2-322b966e77cf",
   "metadata": {},
   "outputs": [
    {
     "data": {
      "text/plain": [
       "(('number', [12, 13, 435, 6, 5]),\n",
       " ('assignment', (1, 2, 3, 4, 5, 6)),\n",
       " ('launch_date', {12, 14, 28}),\n",
       " ('class timing',\n",
       "  {'web dev': 8,\n",
       "   'Data science masters': 8,\n",
       "   'Java with dsa and system design': 7}))"
      ]
     },
     "execution_count": 43,
     "metadata": {},
     "output_type": "execute_result"
    }
   ],
   "source": [
    "tuple(d6.items())"
   ]
  },
  {
   "cell_type": "code",
   "execution_count": 44,
   "id": "9dcae326-3578-4375-adfe-0295d6a44e33",
   "metadata": {},
   "outputs": [
    {
     "data": {
      "text/plain": [
       "[12, 13, 435, 6, 5]"
      ]
     },
     "execution_count": 44,
     "metadata": {},
     "output_type": "execute_result"
    }
   ],
   "source": [
    "d6.pop('number')"
   ]
  },
  {
   "cell_type": "code",
   "execution_count": 45,
   "id": "2dab1844-dbd5-4744-9493-da4375d73a72",
   "metadata": {},
   "outputs": [
    {
     "data": {
      "text/plain": [
       "{'assignment': (1, 2, 3, 4, 5, 6),\n",
       " 'launch_date': {12, 14, 28},\n",
       " 'class timing': {'web dev': 8,\n",
       "  'Data science masters': 8,\n",
       "  'Java with dsa and system design': 7}}"
      ]
     },
     "execution_count": 45,
     "metadata": {},
     "output_type": "execute_result"
    }
   ],
   "source": [
    "d6"
   ]
  },
  {
   "cell_type": "code",
   "execution_count": 48,
   "id": "66b78fda-e68d-421b-bb43-7956082aa681",
   "metadata": {},
   "outputs": [
    {
     "name": "stdin",
     "output_type": "stream",
     "text": [
      "Enter your marks 89\n"
     ]
    },
    {
     "name": "stdout",
     "output_type": "stream",
     "text": [
      "You will a part of A0 batch\n"
     ]
    }
   ],
   "source": [
    "marks = float(input(\"Enter your marks\"))\n",
    "if marks >= 80 :\n",
    "    print(\"You will a part of A0 batch\")\n",
    "elif marks>=60 and marks<80 :\n",
    "    print(\"You will a part of A1 batch\")\n",
    "elif marks>=40 and marks<60 :\n",
    "    print(\"You will a part of A2 batch\")\n",
    "else :\n",
    "    print(\"You will a part of A3 batch\")"
   ]
  },
  {
   "cell_type": "code",
   "execution_count": 52,
   "id": "69c20f96-5591-4afd-a8ea-bf91435b1843",
   "metadata": {},
   "outputs": [
    {
     "name": "stdin",
     "output_type": "stream",
     "text": [
      "Enter your price 58\n"
     ]
    },
    {
     "name": "stdout",
     "output_type": "stream",
     "text": [
      "I will Purchase\n"
     ]
    }
   ],
   "source": [
    "price = int(input(\"Enter your price\"))\n",
    "if price > 1000:\n",
    "    print(\"I will not purchase\")\n",
    "else :\n",
    "    print(\"I will Purchase\")"
   ]
  },
  {
   "cell_type": "code",
   "execution_count": 58,
   "id": "f4565b98-0c28-4b82-86c3-d0924bd83b88",
   "metadata": {},
   "outputs": [
    {
     "name": "stdin",
     "output_type": "stream",
     "text": [
      "Enter your price 8000\n"
     ]
    },
    {
     "name": "stdout",
     "output_type": "stream",
     "text": [
      "I will not purchase\n",
      "this is too much\n"
     ]
    }
   ],
   "source": [
    "price = int(input(\"Enter your price\"))\n",
    "if price > 1000:\n",
    "    print(\"I will not purchase\")\n",
    "    if price >5000 :\n",
    "        print(\"this is too much\")\n",
    "    elif price < 2000 :\n",
    "        print(\"Its ok\")\n",
    "elif price < 1000 :\n",
    "    print(\"i will purchse\")\n",
    "else :\n",
    "    print(\"not interested \")\n",
    "    print(\"I will not purchase\")\n",
    "       \n",
    "    "
   ]
  },
  {
   "cell_type": "code",
   "execution_count": 59,
   "id": "3f7a8748-abf6-4450-ac05-3b6b8eeb7abc",
   "metadata": {},
   "outputs": [],
   "source": [
    "l = [1,2,3,4,5,6,7,8]"
   ]
  },
  {
   "cell_type": "code",
   "execution_count": 60,
   "id": "9897c3c4-6bbb-40b5-ad9a-cf5b3f01b8b1",
   "metadata": {},
   "outputs": [
    {
     "data": {
      "text/plain": [
       "2"
      ]
     },
     "execution_count": 60,
     "metadata": {},
     "output_type": "execute_result"
    }
   ],
   "source": [
    "l[0]+1"
   ]
  },
  {
   "cell_type": "code",
   "execution_count": 61,
   "id": "21747840-3d13-4491-bc0a-9b1636e149f2",
   "metadata": {},
   "outputs": [],
   "source": [
    "l1 = []"
   ]
  },
  {
   "cell_type": "code",
   "execution_count": 62,
   "id": "021adcfc-61de-4b22-bb87-f79c46ae31ae",
   "metadata": {},
   "outputs": [],
   "source": [
    "l1.append(l[0]+1)"
   ]
  },
  {
   "cell_type": "code",
   "execution_count": 63,
   "id": "a5ab716c-04b7-4bf0-ad64-bc16334c30c2",
   "metadata": {},
   "outputs": [
    {
     "data": {
      "text/plain": [
       "[2]"
      ]
     },
     "execution_count": 63,
     "metadata": {},
     "output_type": "execute_result"
    }
   ],
   "source": [
    "l1"
   ]
  },
  {
   "cell_type": "code",
   "execution_count": 64,
   "id": "a7c176e8-9883-4373-956a-d043aea29303",
   "metadata": {},
   "outputs": [],
   "source": [
    "l = [1,2,3,4,5,6,7,8]"
   ]
  },
  {
   "cell_type": "code",
   "execution_count": 68,
   "id": "9d7f61b9-baaa-4ec2-ac84-2b11e478e54a",
   "metadata": {},
   "outputs": [
    {
     "name": "stdout",
     "output_type": "stream",
     "text": [
      "2\n",
      "3\n",
      "4\n",
      "5\n",
      "6\n",
      "7\n",
      "8\n",
      "9\n"
     ]
    },
    {
     "data": {
      "text/plain": [
       "[2, 3, 4, 5, 6, 7, 8, 9]"
      ]
     },
     "execution_count": 68,
     "metadata": {},
     "output_type": "execute_result"
    }
   ],
   "source": [
    "l1 = []\n",
    "for i in l :\n",
    "    print(i+1)\n",
    "    l1.append(i+1)\n",
    "l1"
   ]
  },
  {
   "cell_type": "code",
   "execution_count": 69,
   "id": "be797e23-75eb-4aa1-bf80-8c75710dd93e",
   "metadata": {},
   "outputs": [
    {
     "data": {
      "text/plain": [
       "[1, 2, 3, 4, 5, 6, 7, 8]"
      ]
     },
     "execution_count": 69,
     "metadata": {},
     "output_type": "execute_result"
    }
   ],
   "source": [
    "l\n"
   ]
  },
  {
   "cell_type": "code",
   "execution_count": 70,
   "id": "17b1b1c1-479e-4c07-b9be-c667acfe7452",
   "metadata": {},
   "outputs": [],
   "source": [
    "l = ['sudh','krish','pwskills','course']"
   ]
  },
  {
   "cell_type": "code",
   "execution_count": 75,
   "id": "fcc1e698-3c2d-467c-ace3-f2f0466b3564",
   "metadata": {},
   "outputs": [
    {
     "name": "stdout",
     "output_type": "stream",
     "text": [
      "sudh\n",
      "krish\n",
      "pwskills\n",
      "course\n"
     ]
    },
    {
     "data": {
      "text/plain": [
       "['SUDH', 'KRISH', 'PWSKILLS', 'COURSE']"
      ]
     },
     "execution_count": 75,
     "metadata": {},
     "output_type": "execute_result"
    }
   ],
   "source": [
    "l1= []\n",
    "for i in l :\n",
    "    print(i)\n",
    "    l1.append(i.upper())\n",
    "l1    "
   ]
  },
  {
   "cell_type": "code",
   "execution_count": 74,
   "id": "0a53b81a-78eb-4b18-acf5-61d7fd2fca2b",
   "metadata": {},
   "outputs": [
    {
     "data": {
      "text/plain": [
       "['SUDH', 'KRISH', 'PWSKILLS', 'COURSE']"
      ]
     },
     "execution_count": 74,
     "metadata": {},
     "output_type": "execute_result"
    }
   ],
   "source": [
    "l1"
   ]
  },
  {
   "cell_type": "code",
   "execution_count": 76,
   "id": "4f519ed3-83b5-4fad-ae0b-464a0826a7bd",
   "metadata": {},
   "outputs": [],
   "source": [
    "l = [1,2,34,4,5,6,'sudh',234,564,65.66,'abd']"
   ]
  },
  {
   "cell_type": "code",
   "execution_count": 77,
   "id": "4959f01f-5288-4ceb-b451-d18e106fd4ad",
   "metadata": {},
   "outputs": [],
   "source": [
    "l1_num = []\n",
    "l2_str = []\n",
    "for i in  l :\n",
    "    if type(i)==int or type(i)==float :\n",
    "         l1_num.append(i)\n",
    "       \n",
    "    else :\n",
    "        l2_str.append(i)"
   ]
  },
  {
   "cell_type": "code",
   "execution_count": 78,
   "id": "68106798-2e75-436f-917e-ca1b87c43e91",
   "metadata": {},
   "outputs": [
    {
     "data": {
      "text/plain": [
       "[1, 2, 34, 4, 5, 6, 234, 564, 65.66]"
      ]
     },
     "execution_count": 78,
     "metadata": {},
     "output_type": "execute_result"
    }
   ],
   "source": [
    "l1_num"
   ]
  },
  {
   "cell_type": "code",
   "execution_count": 79,
   "id": "112c5c9e-1616-4728-bcc7-c8f5e5a60897",
   "metadata": {},
   "outputs": [
    {
     "data": {
      "text/plain": [
       "['sudh', 'abd']"
      ]
     },
     "execution_count": 79,
     "metadata": {},
     "output_type": "execute_result"
    }
   ],
   "source": [
    "l2_str"
   ]
  },
  {
   "cell_type": "code",
   "execution_count": 80,
   "id": "fe479c62-56c5-45c5-a3af-d4be67017142",
   "metadata": {},
   "outputs": [
    {
     "name": "stdout",
     "output_type": "stream",
     "text": [
      "PwSkills PwSkills "
     ]
    }
   ],
   "source": [
    "for course in ['Data Science Masters', 'ML', 'data science masters', 'DL']:\n",
    "\n",
    "    if len(course)!= 2:\n",
    "\n",
    "        print('PwSkills' , end=' ')"
   ]
  },
  {
   "cell_type": "code",
   "execution_count": 81,
   "id": "45fff58c-ba1a-4710-9930-16cc5d4acb34",
   "metadata": {},
   "outputs": [
    {
     "name": "stdout",
     "output_type": "stream",
     "text": [
      "105\n"
     ]
    }
   ],
   "source": [
    "sum = 0\n",
    "\n",
    "for i in range(1,100):\n",
    "\n",
    "    sum += i\n",
    "\n",
    "    if sum > 100:\n",
    "\n",
    "        break\n",
    "\n",
    "print(sum)"
   ]
  },
  {
   "cell_type": "code",
   "execution_count": null,
   "id": "9d2c651b-9b42-4dda-85c6-4b7736a08c2b",
   "metadata": {},
   "outputs": [],
   "source": [
    "for i in 'Pwskills':\n",
    "\n",
    "    if i.lower() in ['a', 'e', 'i', 'o', 'u']:\n",
    "\n",
    "        print(True)"
   ]
  },
  {
   "cell_type": "code",
   "execution_count": null,
   "id": "a11f5698-9cc8-484d-a8b0-ee4ddd720c58",
   "metadata": {},
   "outputs": [],
   "source": [
    "l = [1,2,3,4,5]"
   ]
  }
 ],
 "metadata": {
  "kernelspec": {
   "display_name": "Python 3 (ipykernel)",
   "language": "python",
   "name": "python3"
  },
  "language_info": {
   "codemirror_mode": {
    "name": "ipython",
    "version": 3
   },
   "file_extension": ".py",
   "mimetype": "text/x-python",
   "name": "python",
   "nbconvert_exporter": "python",
   "pygments_lexer": "ipython3",
   "version": "3.10.8"
  }
 },
 "nbformat": 4,
 "nbformat_minor": 5
}
