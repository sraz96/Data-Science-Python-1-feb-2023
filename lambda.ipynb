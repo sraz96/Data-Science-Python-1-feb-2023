{
 "cells": [
  {
   "cell_type": "code",
   "execution_count": 3,
   "id": "2def3861-a748-49c3-8531-827e58153161",
   "metadata": {},
   "outputs": [],
   "source": [
    "n = 3\n",
    "p = 2"
   ]
  },
  {
   "cell_type": "code",
   "execution_count": 4,
   "id": "3d329d45-9f54-4e1f-a125-c6a369fdb87e",
   "metadata": {},
   "outputs": [],
   "source": [
    "def test(n,p):\n",
    "    return n**p"
   ]
  },
  {
   "cell_type": "code",
   "execution_count": 5,
   "id": "90d8b5e0-c5e9-478b-8f62-d5b6588be871",
   "metadata": {},
   "outputs": [
    {
     "data": {
      "text/plain": [
       "9"
      ]
     },
     "execution_count": 5,
     "metadata": {},
     "output_type": "execute_result"
    }
   ],
   "source": [
    "test(3,2)"
   ]
  },
  {
   "cell_type": "code",
   "execution_count": 7,
   "id": "d394258e-2541-4be2-acfa-3c96a66a2746",
   "metadata": {},
   "outputs": [],
   "source": [
    "a = lambda n, p : n**p #one linear function , anonymous"
   ]
  },
  {
   "cell_type": "code",
   "execution_count": 8,
   "id": "f081ef08-371e-4809-8d08-b913c6a25871",
   "metadata": {},
   "outputs": [
    {
     "data": {
      "text/plain": [
       "9"
      ]
     },
     "execution_count": 8,
     "metadata": {},
     "output_type": "execute_result"
    }
   ],
   "source": [
    "a(3,2) "
   ]
  },
  {
   "cell_type": "code",
   "execution_count": 10,
   "id": "8e10d13a-ffb5-45fb-b1c4-ef79e1f188fe",
   "metadata": {},
   "outputs": [],
   "source": [
    "add = lambda x,y : x+y"
   ]
  },
  {
   "cell_type": "code",
   "execution_count": 11,
   "id": "a3c732b2-b592-435f-8442-943138f47885",
   "metadata": {},
   "outputs": [
    {
     "data": {
      "text/plain": [
       "121"
      ]
     },
     "execution_count": 11,
     "metadata": {},
     "output_type": "execute_result"
    }
   ],
   "source": [
    "add(45,76)"
   ]
  },
  {
   "cell_type": "code",
   "execution_count": 12,
   "id": "c35fa2e1-76d7-4bef-a028-7a14bde595cc",
   "metadata": {},
   "outputs": [],
   "source": [
    "c_to_f = lambda C : (9/5)*C +32"
   ]
  },
  {
   "cell_type": "code",
   "execution_count": 13,
   "id": "7e0b97dc-9ed7-4984-b287-b856d5d93801",
   "metadata": {},
   "outputs": [
    {
     "data": {
      "text/plain": [
       "208.4"
      ]
     },
     "execution_count": 13,
     "metadata": {},
     "output_type": "execute_result"
    }
   ],
   "source": [
    "c_to_f(98)"
   ]
  },
  {
   "cell_type": "code",
   "execution_count": 14,
   "id": "c6d69779-9417-47a9-bbd7-c0ad47e16899",
   "metadata": {},
   "outputs": [],
   "source": [
    "finding_max = lambda x,y : x if x>y else y"
   ]
  },
  {
   "cell_type": "code",
   "execution_count": 15,
   "id": "c7b14d73-25c0-4212-8493-53408659d01d",
   "metadata": {},
   "outputs": [
    {
     "data": {
      "text/plain": [
       "54"
      ]
     },
     "execution_count": 15,
     "metadata": {},
     "output_type": "execute_result"
    }
   ],
   "source": [
    "finding_max(54,34)"
   ]
  },
  {
   "cell_type": "code",
   "execution_count": 16,
   "id": "3f961f54-cc55-4ebb-b22c-4a65325167fa",
   "metadata": {},
   "outputs": [],
   "source": [
    "s = \"pwskills\""
   ]
  },
  {
   "cell_type": "code",
   "execution_count": 17,
   "id": "d7107580-f989-46c3-929a-77c92bc2166c",
   "metadata": {},
   "outputs": [],
   "source": [
    "find_len = lambda s : len(s)"
   ]
  },
  {
   "cell_type": "code",
   "execution_count": 18,
   "id": "47e3b42d-930b-4818-88de-530a38816cfd",
   "metadata": {},
   "outputs": [
    {
     "data": {
      "text/plain": [
       "8"
      ]
     },
     "execution_count": 18,
     "metadata": {},
     "output_type": "execute_result"
    }
   ],
   "source": [
    "find_len(s)"
   ]
  },
  {
   "cell_type": "code",
   "execution_count": null,
   "id": "c2b9a072-ab75-4fb0-b366-560e9b588940",
   "metadata": {},
   "outputs": [],
   "source": []
  }
 ],
 "metadata": {
  "kernelspec": {
   "display_name": "Python 3 (ipykernel)",
   "language": "python",
   "name": "python3"
  },
  "language_info": {
   "codemirror_mode": {
    "name": "ipython",
    "version": 3
   },
   "file_extension": ".py",
   "mimetype": "text/x-python",
   "name": "python",
   "nbconvert_exporter": "python",
   "pygments_lexer": "ipython3",
   "version": "3.10.8"
  }
 },
 "nbformat": 4,
 "nbformat_minor": 5
}
