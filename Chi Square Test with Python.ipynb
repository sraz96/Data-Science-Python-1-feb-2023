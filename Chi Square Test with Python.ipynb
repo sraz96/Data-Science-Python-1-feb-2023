{
 "cells": [
  {
   "cell_type": "markdown",
   "id": "71d65b27-b99b-4040-910e-b8628003b3a1",
   "metadata": {},
   "source": [
    "Chi Square Test With Python"
   ]
  },
  {
   "cell_type": "code",
   "execution_count": 1,
   "id": "1a73ca3c-b938-4b33-8381-9a1c942756d1",
   "metadata": {},
   "outputs": [],
   "source": [
    "import scipy.stats as stat\n",
    "import numpy as np"
   ]
  },
  {
   "cell_type": "code",
   "execution_count": 7,
   "id": "68df098f-959e-470f-8f63-eabd2aedea04",
   "metadata": {},
   "outputs": [],
   "source": [
    "## no of hours student study in a weekly basis daily\n",
    "expected_data = [8,6,7,9,6,9,7]\n",
    "observed_data = [7,8,6,9,9,6,7]"
   ]
  },
  {
   "cell_type": "code",
   "execution_count": 8,
   "id": "563d7bcf-c34e-4fb9-890b-8b3bfbd4ffdd",
   "metadata": {},
   "outputs": [
    {
     "data": {
      "text/plain": [
       "(52, 52)"
      ]
     },
     "execution_count": 8,
     "metadata": {},
     "output_type": "execute_result"
    }
   ],
   "source": [
    "sum(expected_data), sum(observed_data)"
   ]
  },
  {
   "cell_type": "code",
   "execution_count": 10,
   "id": "4f104c9f-1b2b-478b-a49d-219171770a9f",
   "metadata": {},
   "outputs": [],
   "source": [
    "## chi Square goodness of fit\n",
    "\n",
    "chisquare_test_statistic , p_value = stat.chisquare(observed_data , expected_data)"
   ]
  },
  {
   "cell_type": "code",
   "execution_count": 11,
   "id": "f84c64e6-1a0b-4924-84b2-29288af5a27c",
   "metadata": {},
   "outputs": [
    {
     "data": {
      "text/plain": [
       "(3.4345238095238093, 0.7526596580922865)"
      ]
     },
     "execution_count": 11,
     "metadata": {},
     "output_type": "execute_result"
    }
   ],
   "source": [
    "chisquare_test_statistic, p_value"
   ]
  },
  {
   "cell_type": "code",
   "execution_count": 13,
   "id": "425880cc-6bac-4a36-9815-e3d5b9009589",
   "metadata": {},
   "outputs": [
    {
     "name": "stdout",
     "output_type": "stream",
     "text": [
      "7\n"
     ]
    }
   ],
   "source": [
    "# find the critical value\n",
    "significane_value = 0.05\n",
    "dof = len(expected_data)\n",
    "print(dof)\n",
    "critical_value= stat.chi2.ppf(1-significane_value , dof)"
   ]
  },
  {
   "cell_type": "code",
   "execution_count": 14,
   "id": "67d9b80b-2400-4eeb-ad47-41ace040ea7e",
   "metadata": {},
   "outputs": [
    {
     "data": {
      "text/plain": [
       "14.067140449340169"
      ]
     },
     "execution_count": 14,
     "metadata": {},
     "output_type": "execute_result"
    }
   ],
   "source": [
    "critical_value"
   ]
  },
  {
   "cell_type": "code",
   "execution_count": 15,
   "id": "a511619f-3709-4981-9e99-be15fd0b3eb2",
   "metadata": {},
   "outputs": [
    {
     "name": "stdout",
     "output_type": "stream",
     "text": [
      "Accept the null hypothesis\n"
     ]
    }
   ],
   "source": [
    "if chisquare_test_statistic > critical_value:\n",
    "    print(\"We reject the null hypothesis\")\n",
    "else :\n",
    "    print(\"Accept the null hypothesis\")"
   ]
  },
  {
   "cell_type": "code",
   "execution_count": null,
   "id": "6a4f9616-42ae-4e41-aaff-6a799142d145",
   "metadata": {},
   "outputs": [],
   "source": []
  }
 ],
 "metadata": {
  "kernelspec": {
   "display_name": "Python 3 (ipykernel)",
   "language": "python",
   "name": "python3"
  },
  "language_info": {
   "codemirror_mode": {
    "name": "ipython",
    "version": 3
   },
   "file_extension": ".py",
   "mimetype": "text/x-python",
   "name": "python",
   "nbconvert_exporter": "python",
   "pygments_lexer": "ipython3",
   "version": "3.10.8"
  }
 },
 "nbformat": 4,
 "nbformat_minor": 5
}
