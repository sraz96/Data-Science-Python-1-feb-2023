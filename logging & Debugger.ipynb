{
 "cells": [
  {
   "cell_type": "code",
   "execution_count": 1,
   "id": "34c075ef-f2e6-49d0-82f3-2e51584ae75e",
   "metadata": {},
   "outputs": [
    {
     "name": "stdout",
     "output_type": "stream",
     "text": [
      "this is my print\n"
     ]
    }
   ],
   "source": [
    "print(\"this is my print\")"
   ]
  },
  {
   "cell_type": "code",
   "execution_count": 2,
   "id": "5273ea92-27b3-4dd1-9a04-86f833f3df04",
   "metadata": {},
   "outputs": [],
   "source": [
    "import logging"
   ]
  },
  {
   "cell_type": "code",
   "execution_count": 5,
   "id": "7a8ef1cb-9c84-4b0d-876c-37f840d113ec",
   "metadata": {},
   "outputs": [],
   "source": [
    "logging.basicConfig(filename = \"test.log\" , level = logging.INFO)"
   ]
  },
  {
   "cell_type": "code",
   "execution_count": 6,
   "id": "4cadda77-e896-4161-a978-15e3e1f28b95",
   "metadata": {},
   "outputs": [],
   "source": [
    "logging.info(\"log this line of executation\")"
   ]
  },
  {
   "cell_type": "code",
   "execution_count": 7,
   "id": "13d3407c-e6cc-45b4-976e-0b02eb9ac291",
   "metadata": {},
   "outputs": [],
   "source": [
    "logging.info(\"this is my log\")"
   ]
  },
  {
   "cell_type": "code",
   "execution_count": 8,
   "id": "af3e2456-bf0f-46c1-9aa1-264b462b84bf",
   "metadata": {},
   "outputs": [],
   "source": [
    "logging.debug(\"this is my debug\")"
   ]
  },
  {
   "cell_type": "code",
   "execution_count": 9,
   "id": "88c6aa62-59a2-4944-ac7f-2868749ad5f0",
   "metadata": {},
   "outputs": [],
   "source": [
    "logging.warning(\"this is my warning\")"
   ]
  },
  {
   "cell_type": "code",
   "execution_count": 10,
   "id": "4ef9c4f1-4edd-4590-8952-b2dbb3a1e9df",
   "metadata": {},
   "outputs": [],
   "source": [
    "logging.error(\"this is my error\")"
   ]
  },
  {
   "cell_type": "code",
   "execution_count": 11,
   "id": "4d5d60ed-830a-4738-a2b8-2916f6bfeda0",
   "metadata": {},
   "outputs": [],
   "source": [
    "logging.critical(\"this is my critical msg\")"
   ]
  },
  {
   "cell_type": "code",
   "execution_count": 15,
   "id": "79e19c6d-0350-47ca-b975-c5923dfb68e6",
   "metadata": {},
   "outputs": [],
   "source": [
    "logging.shutdown()"
   ]
  },
  {
   "cell_type": "code",
   "execution_count": null,
   "id": "ef7c15fc-57ad-467d-bb6d-eff4f46865ed",
   "metadata": {},
   "outputs": [],
   "source": [
    "1. NOTSET\n",
    "2. DEBUG\n",
    "3. INFO\n",
    "4. WARNING\n",
    "5. ERROR\n",
    "6. CRITICAL"
   ]
  },
  {
   "cell_type": "code",
   "execution_count": 1,
   "id": "82c716c3-c647-4737-a71b-5598c5af2e68",
   "metadata": {},
   "outputs": [],
   "source": [
    "import logging"
   ]
  },
  {
   "cell_type": "code",
   "execution_count": 2,
   "id": "4e812fbd-2c85-4989-bae2-25de709b5954",
   "metadata": {},
   "outputs": [],
   "source": [
    "logging.basicConfig(filename = \"test1.log\" , level = logging.DEBUG , format = '%(asctime)s %(message)s')"
   ]
  },
  {
   "cell_type": "code",
   "execution_count": 3,
   "id": "b2ac8b15-8677-49e2-ab4b-0f1c0446475b",
   "metadata": {},
   "outputs": [],
   "source": [
    "logging.info(\"this is my info logging\")\n",
    "logging.error(\"this is my error mdg\")\n",
    "logging.critical(\"this is my critical\")"
   ]
  },
  {
   "cell_type": "code",
   "execution_count": 1,
   "id": "a795e381-9c4f-4f31-952d-6e7ddba8a5f7",
   "metadata": {},
   "outputs": [
    {
     "ename": "NameError",
     "evalue": "name 'logging' is not defined",
     "output_type": "error",
     "traceback": [
      "\u001b[0;31m---------------------------------------------------------------------------\u001b[0m",
      "\u001b[0;31mNameError\u001b[0m                                 Traceback (most recent call last)",
      "Cell \u001b[0;32mIn[1], line 1\u001b[0m\n\u001b[0;32m----> 1\u001b[0m \u001b[43mlogging\u001b[49m\u001b[38;5;241m.\u001b[39mshutdown()\n",
      "\u001b[0;31mNameError\u001b[0m: name 'logging' is not defined"
     ]
    }
   ],
   "source": [
    "logging.shutdown()"
   ]
  },
  {
   "cell_type": "code",
   "execution_count": 5,
   "id": "33d1fc77-80f9-4b7e-97c5-bc50178b0188",
   "metadata": {},
   "outputs": [],
   "source": [
    "import logging"
   ]
  },
  {
   "cell_type": "code",
   "execution_count": 6,
   "id": "3a102916-c622-4f45-bdaa-a4c204612b91",
   "metadata": {},
   "outputs": [],
   "source": [
    "logging.basicConfig(filename = \"test2.log\" , level = logging.DEBUG , format = '%(asctime)s %(name)s %(levelname)s %(message)s')"
   ]
  },
  {
   "cell_type": "code",
   "execution_count": 7,
   "id": "8d32b598-cf39-4e5a-a8ce-d27ff2e184eb",
   "metadata": {},
   "outputs": [],
   "source": [
    "logging.info(\"this is my info logging\")\n",
    "logging.error(\"this is my error mdg\")\n",
    "logging.critical(\"this is my critical\")"
   ]
  },
  {
   "cell_type": "code",
   "execution_count": 10,
   "id": "41089949-24d1-4d60-b5a9-18d3072d30b0",
   "metadata": {},
   "outputs": [],
   "source": [
    "l = [1,2,3,4,54,65,[343,5,6] , 'santosh' , 'maurya']"
   ]
  },
  {
   "cell_type": "code",
   "execution_count": 21,
   "id": "59a42e46-d647-4ef8-a5c9-b27b53cd8c2b",
   "metadata": {},
   "outputs": [],
   "source": [
    "l1_int = []\n",
    "l2_string = []\n",
    "for i in l:\n",
    "    logging.info(\"we are iterating thorugh our local var is {}\".format(l) )\n",
    "    if type(i) == list :\n",
    "        logging.info(\" i am inside and i am trying to check list types\" + str(i))\n",
    "        for j in i :\n",
    "            logging.info(\"i am in another for loop for list inside list element\" + str(j))\n",
    "            if type(j) == int:\n",
    "                logging.info(\"i am inside if statement\")\n",
    "                l1_int.append(j)\n",
    "           \n",
    "    elif type(i) == int:\n",
    "        l1_int.append(i)\n",
    "    else :\n",
    "        if type(i) == str :\n",
    "            l2_string.append(i)\n",
    "logging.info(\"my final result for int is  {l1}) and str is {l2}\".format(l1 = l1_int , l2 = l2_string))"
   ]
  },
  {
   "cell_type": "code",
   "execution_count": 16,
   "id": "9e6367a5-207d-4a5e-9303-f89e6d638836",
   "metadata": {},
   "outputs": [
    {
     "data": {
      "text/plain": [
       "[1, 2, 3, 4, 54, 65, 343, 5, 6]"
      ]
     },
     "execution_count": 16,
     "metadata": {},
     "output_type": "execute_result"
    }
   ],
   "source": [
    "l1_int"
   ]
  },
  {
   "cell_type": "code",
   "execution_count": 17,
   "id": "be11e5e0-a20c-4c97-91db-c8465245135e",
   "metadata": {},
   "outputs": [
    {
     "data": {
      "text/plain": [
       "['santosh', 'maurya']"
      ]
     },
     "execution_count": 17,
     "metadata": {},
     "output_type": "execute_result"
    }
   ],
   "source": [
    "l2_string"
   ]
  },
  {
   "cell_type": "code",
   "execution_count": null,
   "id": "3c03077a-bfac-40fa-8647-4117f933128c",
   "metadata": {},
   "outputs": [],
   "source": []
  }
 ],
 "metadata": {
  "kernelspec": {
   "display_name": "Python 3 (ipykernel)",
   "language": "python",
   "name": "python3"
  },
  "language_info": {
   "codemirror_mode": {
    "name": "ipython",
    "version": 3
   },
   "file_extension": ".py",
   "mimetype": "text/x-python",
   "name": "python",
   "nbconvert_exporter": "python",
   "pygments_lexer": "ipython3",
   "version": "3.10.8"
  }
 },
 "nbformat": 4,
 "nbformat_minor": 5
}
