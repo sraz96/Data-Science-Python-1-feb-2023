{
 "cells": [
  {
   "cell_type": "code",
   "execution_count": 1,
   "id": "9dc38c73-2139-4a7b-95de-bd830cb17bc5",
   "metadata": {},
   "outputs": [],
   "source": [
    "class sraz :\n",
    "    \n",
    "    def student_details(self , name , mail_id , number) :\n",
    "        print(name , mail_id , number)"
   ]
  },
  {
   "cell_type": "code",
   "execution_count": 2,
   "id": "00ea6f19-2f27-4446-9063-b785e3a4e546",
   "metadata": {},
   "outputs": [],
   "source": [
    "pw = sraz()"
   ]
  },
  {
   "cell_type": "code",
   "execution_count": 3,
   "id": "404024b0-cb87-4559-afd0-9a060309358b",
   "metadata": {},
   "outputs": [
    {
     "name": "stdout",
     "output_type": "stream",
     "text": [
      "santo mourya132@gmail.com 498798464\n"
     ]
    }
   ],
   "source": [
    "pw.student_details(\"santo\" , \"mourya132@gmail.com\" , 498798464)"
   ]
  },
  {
   "cell_type": "code",
   "execution_count": 9,
   "id": "2cf1fc21-bf66-46fd-a428-69037fd0a2cb",
   "metadata": {},
   "outputs": [],
   "source": [
    "class sraz1 :\n",
    "    \n",
    "    def student_details(self , name , mail_id , number) :\n",
    "        print(name , mail_id , number)\n",
    "        \n",
    "    @staticmethod\n",
    "    def mentor_class(list_mentor):\n",
    "        print(list_mentor)\n",
    "        \n",
    "    def mentor(self , mentor_list) :\n",
    "        print(mentor_list)"
   ]
  },
  {
   "cell_type": "code",
   "execution_count": 10,
   "id": "0521bf98-d6d6-4712-b69a-1e57e3e28302",
   "metadata": {},
   "outputs": [
    {
     "name": "stdout",
     "output_type": "stream",
     "text": [
      "['sudh', 'krish']\n"
     ]
    }
   ],
   "source": [
    "sraz1.mentor_class([\"sudh\" , \"krish\"])"
   ]
  },
  {
   "cell_type": "code",
   "execution_count": 11,
   "id": "e611e65a-3609-4aa1-bac6-dc9241e17b36",
   "metadata": {},
   "outputs": [],
   "source": [
    "stu1 = sraz1()"
   ]
  },
  {
   "cell_type": "code",
   "execution_count": 12,
   "id": "6568b0ed-2341-416c-b5cc-06786a1e1768",
   "metadata": {},
   "outputs": [],
   "source": [
    "stu2 = sraz1()"
   ]
  },
  {
   "cell_type": "code",
   "execution_count": 13,
   "id": "ef5a7069-7968-4b77-9c8f-37877f7a3cb5",
   "metadata": {},
   "outputs": [],
   "source": [
    "stu3 = sraz1()"
   ]
  },
  {
   "cell_type": "code",
   "execution_count": 14,
   "id": "eab4d499-ccd5-4159-aa49-780b1ca88a46",
   "metadata": {},
   "outputs": [
    {
     "name": "stdout",
     "output_type": "stream",
     "text": [
      "['sudh', 'kumar']\n"
     ]
    }
   ],
   "source": [
    "stu1.mentor([\"sudh\" , \"kumar\"])"
   ]
  },
  {
   "cell_type": "code",
   "execution_count": 21,
   "id": "d629c04a-0583-4cc8-9686-db2ded348bba",
   "metadata": {},
   "outputs": [],
   "source": [
    "class sraz2 :\n",
    "    \n",
    "    def student_details(self , name , mail_id , number) :\n",
    "        print(name , mail_id , number)\n",
    "    \n",
    "    @staticmethod\n",
    "    def mentor_mail_id(mail_id_mentor) :\n",
    "        print(mail_id_mentor)\n",
    "        \n",
    "    @staticmethod\n",
    "    def mentor_class(list_mentor):\n",
    "        sraz2.mentor_mail_id([\"sudh@gmail.com\" ,\"krish@gmail.com\"])\n",
    "        print(list_mentor)\n",
    "        \n",
    "    @classmethod\n",
    "    def class_name(cls):\n",
    "        cls.mentor_class([\"krish\" , \"sraz\"])\n",
    "        \n",
    "    def mentor(self , mentor_list) :\n",
    "        print(mentor_list)\n",
    "        self.mentor_class([\"krish\" , \"sudh\"])"
   ]
  },
  {
   "cell_type": "code",
   "execution_count": 22,
   "id": "2de3c6dc-8e3e-4e86-98cd-7cf089f58bc1",
   "metadata": {},
   "outputs": [
    {
     "name": "stdout",
     "output_type": "stream",
     "text": [
      "['sudh@gmail.com', 'krish@gmail.com']\n",
      "['krish', 'sudh']\n"
     ]
    }
   ],
   "source": [
    "sraz2.mentor_class([\"krish\",\"sudh\"])"
   ]
  },
  {
   "cell_type": "code",
   "execution_count": 23,
   "id": "b8b82f50-6390-4b99-9a84-ac43a7dc7432",
   "metadata": {},
   "outputs": [
    {
     "name": "stdout",
     "output_type": "stream",
     "text": [
      "['sudh@gmail.com', 'krish@gmail.com']\n",
      "['krish', 'sraz']\n"
     ]
    }
   ],
   "source": [
    "sraz2.class_name()"
   ]
  },
  {
   "cell_type": "code",
   "execution_count": 24,
   "id": "edaa3736-a184-4748-8b23-91c1a9866bb5",
   "metadata": {},
   "outputs": [],
   "source": [
    "pw = sraz2()"
   ]
  },
  {
   "cell_type": "code",
   "execution_count": 26,
   "id": "b1bbf5f7-3384-4017-9495-2fa44c09e9d7",
   "metadata": {},
   "outputs": [
    {
     "name": "stdout",
     "output_type": "stream",
     "text": [
      "['krish', 'sudh']\n",
      "['sudh@gmail.com', 'krish@gmail.com']\n",
      "['krish', 'sudh']\n"
     ]
    }
   ],
   "source": [
    "pw.mentor([\"krish\" , \"sudh\"])"
   ]
  },
  {
   "cell_type": "code",
   "execution_count": null,
   "id": "7156c987-2eff-4b0f-a253-9c310bad8ff5",
   "metadata": {},
   "outputs": [],
   "source": []
  }
 ],
 "metadata": {
  "kernelspec": {
   "display_name": "Python 3 (ipykernel)",
   "language": "python",
   "name": "python3"
  },
  "language_info": {
   "codemirror_mode": {
    "name": "ipython",
    "version": 3
   },
   "file_extension": ".py",
   "mimetype": "text/x-python",
   "name": "python",
   "nbconvert_exporter": "python",
   "pygments_lexer": "ipython3",
   "version": "3.10.8"
  }
 },
 "nbformat": 4,
 "nbformat_minor": 5
}
