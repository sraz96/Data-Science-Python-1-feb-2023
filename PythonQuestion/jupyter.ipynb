{
 "cells": [
  {
   "cell_type": "code",
   "execution_count": 2,
   "metadata": {},
   "outputs": [
    {
     "name": "stdout",
     "output_type": "stream",
     "text": [
      "Name: Narashimha\n",
      "Age: 58\n",
      "Gender: Male\n"
     ]
    }
   ],
   "source": [
    "class Person:\n",
    "\n",
    "    def __init__(self, name, age, gender):\n",
    "        self.name = name\n",
    "        self.age = age\n",
    "        self.gender = gender\n",
    "\n",
    "Person1 = Person(\"Narashimha\", 58 , \"Male\")\n",
    "print(\"Name:\", Person1.name)\n",
    "print(\"Age:\", Person1.age)\n",
    "print(\"Gender:\", Person1.gender)"
   ]
  },
  {
   "cell_type": "code",
   "execution_count": 4,
   "metadata": {},
   "outputs": [
    {
     "name": "stdout",
     "output_type": "stream",
     "text": [
      "area: 112\n",
      "perimeter: 14\n"
     ]
    }
   ],
   "source": [
    "class Rectangle:\n",
    "\n",
    "    def __init__(self, width ,height):\n",
    "        self.width = width\n",
    "        self.height = height\n",
    "\n",
    "    def area(self):\n",
    "        return self.width * self.height\n",
    "    \n",
    "    def perimeter(self):\n",
    "        return 2*(self.width+self.height)\n",
    "    \n",
    "result = Rectangle(8,14)\n",
    "print(\"area:\", result.area())\n",
    "print(\"perimeter:\", result.height)"
   ]
  },
  {
   "cell_type": "code",
   "execution_count": 4,
   "metadata": {},
   "outputs": [
    {
     "name": "stdout",
     "output_type": "stream",
     "text": [
      "Balance: 2950\n",
      "Interest_earned: 44.25\n"
     ]
    }
   ],
   "source": [
    "class BankAccount:\n",
    "\n",
    "    def __init__(self, balance, interest_rate):\n",
    "        self.balance = balance\n",
    "        self.interest_rate = interest_rate\n",
    "\n",
    "    def deposit(self, amount):\n",
    "        self.balance += amount\n",
    "\n",
    "    def withdrawl(self, amount):\n",
    "        self.balance -= amount\n",
    "    \n",
    "    def cal_interest(self):\n",
    "        return self.balance * self.interest_rate/100\n",
    "    \n",
    "account1 = BankAccount(2000 , 1.5)\n",
    "\n",
    "account1.deposit(1000)\n",
    "account1.withdrawl(300)\n",
    "account1.deposit(400)\n",
    "account1.withdrawl(150)\n",
    "\n",
    "interest_earned = account1.cal_interest()\n",
    "print(\"Balance:\", account1.balance)\n",
    "print(\"Interest_earned:\", account1.cal_interest())\n",
    "\n"
   ]
  },
  {
   "cell_type": "code",
   "execution_count": 2,
   "metadata": {},
   "outputs": [
    {
     "name": "stdout",
     "output_type": "stream",
     "text": [
      "{'hello': 2, 'world': 1}\n"
     ]
    }
   ],
   "source": [
    "def word_count(text):\n",
    "    words = text.lower().split()\n",
    "    counts = {}\n",
    "    for word in words:\n",
    "        if word in counts:\n",
    "            counts[word] += 1\n",
    "        else:\n",
    "            counts[word] = 1\n",
    "        \n",
    "    return counts\n",
    "\n",
    "results = word_count(\"Hello  world  Hello\")\n",
    "print(results)"
   ]
  },
  {
   "cell_type": "code",
   "execution_count": 12,
   "metadata": {},
   "outputs": [
    {
     "name": "stdout",
     "output_type": "stream",
     "text": [
      " not matched with phone book\n"
     ]
    }
   ],
   "source": [
    "phone_book = {\n",
    "    \"Raju\" : \"8840998322\",\n",
    "    \"Mangesh\" : \"9988334476\",\n",
    "    \"Rathour\" : \"6734987512\"\n",
    "}\n",
    "\n",
    "name = input(\"Enter the name of the user\")\n",
    "\n",
    "if name in phone_book:\n",
    "    phone_number = phone_book[name]\n",
    "    print(f\"{name} phone number is {phone_number}\")\n",
    "\n",
    "else:\n",
    "    print(f\"{name} not matched with phone book\")"
   ]
  },
  {
   "cell_type": "code",
   "execution_count": 16,
   "metadata": {},
   "outputs": [
    {
     "ename": "ValueError",
     "evalue": "invalid literal for int() with base 10: ''",
     "output_type": "error",
     "traceback": [
      "\u001b[1;31m---------------------------------------------------------------------------\u001b[0m",
      "\u001b[1;31mValueError\u001b[0m                                Traceback (most recent call last)",
      "Cell \u001b[1;32mIn[16], line 5\u001b[0m\n\u001b[0;32m      1\u001b[0m \u001b[38;5;28;01mimport\u001b[39;00m \u001b[38;5;21;01mrandom\u001b[39;00m\n\u001b[0;32m      3\u001b[0m secret_num \u001b[38;5;241m=\u001b[39m random\u001b[38;5;241m.\u001b[39mrandint(\u001b[38;5;241m1\u001b[39m , \u001b[38;5;241m100\u001b[39m)\n\u001b[1;32m----> 5\u001b[0m guess_num \u001b[38;5;241m=\u001b[39m \u001b[38;5;28;43mint\u001b[39;49m\u001b[43m(\u001b[49m\u001b[38;5;28;43minput\u001b[39;49m\u001b[43m(\u001b[49m\u001b[38;5;124;43m\"\u001b[39;49m\u001b[38;5;124;43mEnter the guess number\u001b[39;49m\u001b[38;5;124;43m\"\u001b[39;49m\u001b[43m)\u001b[49m\u001b[43m)\u001b[49m\n\u001b[0;32m      7\u001b[0m \u001b[38;5;28;01mwhile\u001b[39;00m guess_num \u001b[38;5;241m!=\u001b[39m secret_num:\n\u001b[0;32m      8\u001b[0m     \u001b[38;5;28;01mif\u001b[39;00m guess_num \u001b[38;5;241m<\u001b[39m secret_num:\n",
      "\u001b[1;31mValueError\u001b[0m: invalid literal for int() with base 10: ''"
     ]
    }
   ],
   "source": [
    "import random\n",
    "\n",
    "secret_num = random.randint(1 , 100)\n",
    "\n",
    "guess_num = int(input(\"Enter the guess number\"))\n",
    "\n",
    "while guess_num != secret_num:\n",
    "    if guess_num < secret_num:\n",
    "        print(\"guess num is Too Low\")\n",
    "    else :\n",
    "        print(\"guess num is Too High\")\n",
    "    guess_num = int(input(\"AGain Guess\"))\n",
    "\n",
    "print(\"You win!\")"
   ]
  },
  {
   "cell_type": "code",
   "execution_count": null,
   "metadata": {},
   "outputs": [],
   "source": []
  }
 ],
 "metadata": {
  "kernelspec": {
   "display_name": "Python 3",
   "language": "python",
   "name": "python3"
  },
  "language_info": {
   "codemirror_mode": {
    "name": "ipython",
    "version": 3
   },
   "file_extension": ".py",
   "mimetype": "text/x-python",
   "name": "python",
   "nbconvert_exporter": "python",
   "pygments_lexer": "ipython3",
   "version": "3.12.2"
  }
 },
 "nbformat": 4,
 "nbformat_minor": 2
}
