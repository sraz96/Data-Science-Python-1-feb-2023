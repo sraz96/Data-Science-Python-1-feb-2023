{
 "cells": [
  {
   "cell_type": "code",
   "execution_count": 23,
   "id": "22503c80-3b1e-4e75-abfa-74892db10b8a",
   "metadata": {},
   "outputs": [],
   "source": [
    "l=[1,345,'sudh',True,5+9j,543,65]"
   ]
  },
  {
   "cell_type": "code",
   "execution_count": 24,
   "id": "c4f581d4-5883-477d-8284-924c7a495436",
   "metadata": {},
   "outputs": [
    {
     "data": {
      "text/plain": [
       "int"
      ]
     },
     "execution_count": 24,
     "metadata": {},
     "output_type": "execute_result"
    }
   ],
   "source": [
    "type(1)"
   ]
  },
  {
   "cell_type": "code",
   "execution_count": 25,
   "id": "3b0a4c38-f541-4f88-99b3-c7a8f69a5b2c",
   "metadata": {},
   "outputs": [
    {
     "data": {
      "text/plain": [
       "list"
      ]
     },
     "execution_count": 25,
     "metadata": {},
     "output_type": "execute_result"
    }
   ],
   "source": [
    "type(l)"
   ]
  },
  {
   "cell_type": "code",
   "execution_count": 26,
   "id": "d003e4b8-49a9-4d84-85c4-24f21ef3560c",
   "metadata": {},
   "outputs": [
    {
     "data": {
      "text/plain": [
       "65"
      ]
     },
     "execution_count": 26,
     "metadata": {},
     "output_type": "execute_result"
    }
   ],
   "source": [
    "l[6]"
   ]
  },
  {
   "cell_type": "code",
   "execution_count": 27,
   "id": "e3183737-4d51-4047-93d8-054609e16f59",
   "metadata": {},
   "outputs": [
    {
     "data": {
      "text/plain": [
       "345"
      ]
     },
     "execution_count": 27,
     "metadata": {},
     "output_type": "execute_result"
    }
   ],
   "source": [
    "l[1]"
   ]
  },
  {
   "cell_type": "code",
   "execution_count": 28,
   "id": "3060c01f-2bde-4e11-a221-e4765271b1c7",
   "metadata": {},
   "outputs": [
    {
     "data": {
      "text/plain": [
       "[1, 345, 'sudh', True, (5+9j), 543, 65]"
      ]
     },
     "execution_count": 28,
     "metadata": {},
     "output_type": "execute_result"
    }
   ],
   "source": [
    "l"
   ]
  },
  {
   "cell_type": "code",
   "execution_count": 29,
   "id": "80266784-848c-40d7-80bc-a5a165be4a1f",
   "metadata": {},
   "outputs": [
    {
     "data": {
      "text/plain": [
       "[1, 345, 'sudh']"
      ]
     },
     "execution_count": 29,
     "metadata": {},
     "output_type": "execute_result"
    }
   ],
   "source": [
    "l[0:3]"
   ]
  },
  {
   "cell_type": "code",
   "execution_count": 30,
   "id": "98b0be26-180b-41fb-b905-60c98960a76f",
   "metadata": {},
   "outputs": [
    {
     "data": {
      "text/plain": [
       "65"
      ]
     },
     "execution_count": 30,
     "metadata": {},
     "output_type": "execute_result"
    }
   ],
   "source": [
    "l[-1]"
   ]
  },
  {
   "cell_type": "code",
   "execution_count": 31,
   "id": "dd061c03-2b7b-4344-86a9-b1e3b0792815",
   "metadata": {},
   "outputs": [
    {
     "data": {
      "text/plain": [
       "[65, 543, (5+9j), True, 'sudh', 345, 1]"
      ]
     },
     "execution_count": 31,
     "metadata": {},
     "output_type": "execute_result"
    }
   ],
   "source": [
    "l[::-1]"
   ]
  },
  {
   "cell_type": "code",
   "execution_count": 32,
   "id": "cc3ac7dc-e93a-4122-b57c-e49710bc1a6a",
   "metadata": {},
   "outputs": [
    {
     "data": {
      "text/plain": [
       "[1, 'sudh', (5+9j), 65]"
      ]
     },
     "execution_count": 32,
     "metadata": {},
     "output_type": "execute_result"
    }
   ],
   "source": [
    "l[0::2]"
   ]
  },
  {
   "cell_type": "code",
   "execution_count": 33,
   "id": "dc8ecfb0-2638-4c76-8720-bdcaf458fe82",
   "metadata": {},
   "outputs": [
    {
     "data": {
      "text/plain": [
       "[1, 345, 'sudh', True, (5+9j), 543, 65]"
      ]
     },
     "execution_count": 33,
     "metadata": {},
     "output_type": "execute_result"
    }
   ],
   "source": [
    "l"
   ]
  },
  {
   "cell_type": "code",
   "execution_count": 34,
   "id": "50c69c5a-a383-4862-8512-4f0dfb494b4f",
   "metadata": {},
   "outputs": [],
   "source": [
    "l.append(6.25)"
   ]
  },
  {
   "cell_type": "code",
   "execution_count": 35,
   "id": "1f2ad6a6-2ac4-406e-9f72-7652db8b13fa",
   "metadata": {},
   "outputs": [
    {
     "data": {
      "text/plain": [
       "[1, 345, 'sudh', True, (5+9j), 543, 65, 6.25]"
      ]
     },
     "execution_count": 35,
     "metadata": {},
     "output_type": "execute_result"
    }
   ],
   "source": [
    "l"
   ]
  },
  {
   "cell_type": "code",
   "execution_count": 36,
   "id": "f1cf729d-fd77-49d9-82aa-009af7dc498d",
   "metadata": {},
   "outputs": [],
   "source": [
    "l1= [566,78,84,3]"
   ]
  },
  {
   "cell_type": "code",
   "execution_count": null,
   "id": "cc3a4ee7-226c-4bbf-9284-9a7c9811b020",
   "metadata": {},
   "outputs": [
    {
     "ename": "NameError",
     "evalue": "name 'l' is not defined",
     "output_type": "error",
     "traceback": [
      "\u001b[0;31m---------------------------------------------------------------------------\u001b[0m",
      "\u001b[0;31mNameError\u001b[0m                                 Traceback (most recent call last)",
      "Cell \u001b[0;32mIn[1], line 1\u001b[0m\n\u001b[0;32m----> 1\u001b[0m \u001b[43ml\u001b[49m\u001b[38;5;241m+\u001b[39ml1\n",
      "\u001b[0;31mNameError\u001b[0m: name 'l' is not defined"
     ]
    }
   ],
   "source": [
    "l+l1"
   ]
  },
  {
   "cell_type": "code",
   "execution_count": null,
   "id": "08785cb6-e936-4452-9807-883c83308d3b",
   "metadata": {},
   "outputs": [],
   "source": [
    "len(l)"
   ]
  },
  {
   "cell_type": "code",
   "execution_count": 41,
   "id": "9e25cef1-e9ed-423d-97a1-dd61bd465274",
   "metadata": {},
   "outputs": [],
   "source": [
    "l.append(l1)"
   ]
  },
  {
   "cell_type": "code",
   "execution_count": 42,
   "id": "4608d8a0-99e7-4f2e-aa06-a717aa94d544",
   "metadata": {},
   "outputs": [
    {
     "data": {
      "text/plain": [
       "[1, 345, 'sudh', True, (5+9j), 543, 65, 6.25, [566, 78, 84, 3]]"
      ]
     },
     "execution_count": 42,
     "metadata": {},
     "output_type": "execute_result"
    }
   ],
   "source": [
    "l"
   ]
  },
  {
   "cell_type": "code",
   "execution_count": 43,
   "id": "16655f66-90f4-415f-97e4-91c861c470c3",
   "metadata": {},
   "outputs": [
    {
     "data": {
      "text/plain": [
       "[566, 78, 84, 3]"
      ]
     },
     "execution_count": 43,
     "metadata": {},
     "output_type": "execute_result"
    }
   ],
   "source": [
    "l[-1]"
   ]
  },
  {
   "cell_type": "code",
   "execution_count": 46,
   "id": "8676f149-d01e-499c-8bff-1d8a98cb49c8",
   "metadata": {},
   "outputs": [
    {
     "data": {
      "text/plain": [
       "78"
      ]
     },
     "execution_count": 46,
     "metadata": {},
     "output_type": "execute_result"
    }
   ],
   "source": [
    "l[-1][1]"
   ]
  },
  {
   "cell_type": "code",
   "execution_count": 47,
   "id": "7d4e1e55-5ecb-439c-a527-78b950af9b36",
   "metadata": {},
   "outputs": [
    {
     "data": {
      "text/plain": [
       "[1, 345, 'sudh', True, (5+9j), 543, 65, 6.25, [566, 78, 84, 3]]"
      ]
     },
     "execution_count": 47,
     "metadata": {},
     "output_type": "execute_result"
    }
   ],
   "source": [
    "l"
   ]
  },
  {
   "cell_type": "code",
   "execution_count": 48,
   "id": "64560b1d-3ca3-4f82-b490-236a14ac0efd",
   "metadata": {},
   "outputs": [],
   "source": [
    "l.extend('sudh')"
   ]
  },
  {
   "cell_type": "code",
   "execution_count": 49,
   "id": "e06810b1-c824-421f-bc76-8b6235307448",
   "metadata": {},
   "outputs": [
    {
     "data": {
      "text/plain": [
       "[1,\n",
       " 345,\n",
       " 'sudh',\n",
       " True,\n",
       " (5+9j),\n",
       " 543,\n",
       " 65,\n",
       " 6.25,\n",
       " [566, 78, 84, 3],\n",
       " 's',\n",
       " 'u',\n",
       " 'd',\n",
       " 'h']"
      ]
     },
     "execution_count": 49,
     "metadata": {},
     "output_type": "execute_result"
    }
   ],
   "source": [
    "l"
   ]
  },
  {
   "cell_type": "code",
   "execution_count": 50,
   "id": "f9823a7c-dd53-43ab-9403-e5725a0f620e",
   "metadata": {},
   "outputs": [],
   "source": [
    "l.extend([2,4,34])"
   ]
  },
  {
   "cell_type": "code",
   "execution_count": 51,
   "id": "c6dc6ef9-12e8-4b0e-afde-8fd645bfc9ca",
   "metadata": {},
   "outputs": [
    {
     "data": {
      "text/plain": [
       "[1,\n",
       " 345,\n",
       " 'sudh',\n",
       " True,\n",
       " (5+9j),\n",
       " 543,\n",
       " 65,\n",
       " 6.25,\n",
       " [566, 78, 84, 3],\n",
       " 's',\n",
       " 'u',\n",
       " 'd',\n",
       " 'h',\n",
       " 2,\n",
       " 4,\n",
       " 34]"
      ]
     },
     "execution_count": 51,
     "metadata": {},
     "output_type": "execute_result"
    }
   ],
   "source": [
    "l"
   ]
  },
  {
   "cell_type": "code",
   "execution_count": 58,
   "id": "e8700d54-e873-40e9-9988-7530cb223131",
   "metadata": {},
   "outputs": [],
   "source": [
    "l.insert(1,'yio')"
   ]
  },
  {
   "cell_type": "code",
   "execution_count": 59,
   "id": "fb65911c-e69f-49f1-a436-cddc75e99dc3",
   "metadata": {},
   "outputs": [
    {
     "data": {
      "text/plain": [
       "[1,\n",
       " 'yio',\n",
       " 345,\n",
       " 'sudh',\n",
       " True,\n",
       " (5+9j),\n",
       " 543,\n",
       " 65,\n",
       " 6.25,\n",
       " [566, 78, 84, 3],\n",
       " 's',\n",
       " 'u',\n",
       " 'd',\n",
       " 'h',\n",
       " 2,\n",
       " 4,\n",
       " 34]"
      ]
     },
     "execution_count": 59,
     "metadata": {},
     "output_type": "execute_result"
    }
   ],
   "source": [
    "l"
   ]
  },
  {
   "cell_type": "code",
   "execution_count": 1,
   "id": "bf72f57d-d4d3-4e93-9cb9-37e090da5a62",
   "metadata": {},
   "outputs": [
    {
     "ename": "ZeroDivisionError",
     "evalue": "division by zero",
     "output_type": "error",
     "traceback": [
      "\u001b[0;31m---------------------------------------------------------------------------\u001b[0m",
      "\u001b[0;31mZeroDivisionError\u001b[0m                         Traceback (most recent call last)",
      "Cell \u001b[0;32mIn[1], line 1\u001b[0m\n\u001b[0;32m----> 1\u001b[0m \u001b[38;5;241;43m1\u001b[39;49m\u001b[38;5;241;43m/\u001b[39;49m\u001b[38;5;241;43m0\u001b[39;49m\n",
      "\u001b[0;31mZeroDivisionError\u001b[0m: division by zero"
     ]
    }
   ],
   "source": [
    "1/0"
   ]
  },
  {
   "cell_type": "code",
   "execution_count": 2,
   "id": "cb3b473d-183b-473c-ba71-e70f992b56cf",
   "metadata": {},
   "outputs": [
    {
     "data": {
      "text/plain": [
       "(-1+3j)"
      ]
     },
     "execution_count": 2,
     "metadata": {},
     "output_type": "execute_result"
    }
   ],
   "source": [
    "num1= 23\n",
    "\n",
    "num2= 44\n",
    "\n",
    "num2= 2+3j\n",
    "\n",
    "num1= num2.imag\n",
    "\n",
    "num2-num1"
   ]
  },
  {
   "cell_type": "code",
   "execution_count": 7,
   "id": "e3e51b59-f4a7-4851-9f82-baa9f0ec1869",
   "metadata": {},
   "outputs": [
    {
     "ename": "SyntaxError",
     "evalue": "invalid character '‘' (U+2018) (1528687964.py, line 1)",
     "output_type": "error",
     "traceback": [
      "\u001b[0;36m  Cell \u001b[0;32mIn[7], line 1\u001b[0;36m\u001b[0m\n\u001b[0;31m    s = ‘pwskills’\u001b[0m\n\u001b[0m        ^\u001b[0m\n\u001b[0;31mSyntaxError\u001b[0m\u001b[0;31m:\u001b[0m invalid character '‘' (U+2018)\n"
     ]
    }
   ],
   "source": [
    "s = ‘pwskills’"
   ]
  },
  {
   "cell_type": "code",
   "execution_count": 11,
   "id": "93bfafc4-e57a-456e-80e7-8b39ae84d8ba",
   "metadata": {},
   "outputs": [],
   "source": [
    "s1 = 'pwskills'"
   ]
  },
  {
   "cell_type": "code",
   "execution_count": 15,
   "id": "3ebb8e7a-fa5a-49a2-bd33-42bb319f6de4",
   "metadata": {},
   "outputs": [
    {
     "ename": "SyntaxError",
     "evalue": "invalid character '‘' (U+2018) (1584215291.py, line 1)",
     "output_type": "error",
     "traceback": [
      "\u001b[0;36m  Cell \u001b[0;32mIn[15], line 1\u001b[0;36m\u001b[0m\n\u001b[0;31m    int(‘pwskills’) + int(1)\u001b[0m\n\u001b[0m        ^\u001b[0m\n\u001b[0;31mSyntaxError\u001b[0m\u001b[0;31m:\u001b[0m invalid character '‘' (U+2018)\n"
     ]
    }
   ],
   "source": [
    "int(‘pwskills’) + int(1) "
   ]
  },
  {
   "cell_type": "code",
   "execution_count": 19,
   "id": "dd422116-5652-477c-bc2f-bb93225647ef",
   "metadata": {},
   "outputs": [],
   "source": [
    "Num_100 = 52"
   ]
  },
  {
   "cell_type": "code",
   "execution_count": 20,
   "id": "5129d511-31f4-460d-b646-853ec7247ed4",
   "metadata": {},
   "outputs": [
    {
     "data": {
      "text/plain": [
       "52"
      ]
     },
     "execution_count": 20,
     "metadata": {},
     "output_type": "execute_result"
    }
   ],
   "source": [
    "Num_100"
   ]
  },
  {
   "cell_type": "code",
   "execution_count": 23,
   "id": "cd453f4c-92a6-42e6-873a-acd64916fe40",
   "metadata": {},
   "outputs": [],
   "source": [
    "_pw_skills = 58"
   ]
  },
  {
   "cell_type": "code",
   "execution_count": 24,
   "id": "988e0365-964d-4b32-a629-02fa3992d033",
   "metadata": {},
   "outputs": [
    {
     "data": {
      "text/plain": [
       "58"
      ]
     },
     "execution_count": 24,
     "metadata": {},
     "output_type": "execute_result"
    }
   ],
   "source": [
    "_pw_skills"
   ]
  },
  {
   "cell_type": "code",
   "execution_count": 28,
   "id": "6d65bb32-f6a2-4476-9a23-53119bd63fdf",
   "metadata": {},
   "outputs": [],
   "source": [
    "a = '''Lorem ipsum dolor sit amet,\n",
    "consectetur adipiscing elit,\n",
    "sed do eiusmod tempor incididunt\n",
    "ut labore et dolore magna aliqua.'''"
   ]
  },
  {
   "cell_type": "code",
   "execution_count": 29,
   "id": "8deeab0a-a087-4c92-9c49-9106f40c90fb",
   "metadata": {},
   "outputs": [
    {
     "name": "stdout",
     "output_type": "stream",
     "text": [
      "Lorem ipsum dolor sit amet,\n",
      "consectetur adipiscing elit,\n",
      "sed do eiusmod tempor incididunt\n",
      "ut labore et dolore magna aliqua.\n"
     ]
    }
   ],
   "source": [
    "print(a)"
   ]
  },
  {
   "cell_type": "code",
   "execution_count": 36,
   "id": "8cca850c-58f0-46ab-ac4a-7dcc94fe2e00",
   "metadata": {},
   "outputs": [
    {
     "ename": "SyntaxError",
     "evalue": "invalid character '‘' (U+2018) (3625871454.py, line 1)",
     "output_type": "error",
     "traceback": [
      "\u001b[0;36m  Cell \u001b[0;32mIn[36], line 1\u001b[0;36m\u001b[0m\n\u001b[0;31m    Name = ‘pwskills’\u001b[0m\n\u001b[0m           ^\u001b[0m\n\u001b[0;31mSyntaxError\u001b[0m\u001b[0;31m:\u001b[0m invalid character '‘' (U+2018)\n"
     ]
    }
   ],
   "source": [
    "Name = ‘pwskills’\n",
    "\n",
    "Name[0] = ‘P’\n"
   ]
  },
  {
   "cell_type": "code",
   "execution_count": 35,
   "id": "f4352d35-d3a1-4854-acfc-dda1b1a6c479",
   "metadata": {},
   "outputs": [
    {
     "data": {
      "text/plain": [
       "'p'"
      ]
     },
     "execution_count": 35,
     "metadata": {},
     "output_type": "execute_result"
    }
   ],
   "source": [
    "Name[0]"
   ]
  },
  {
   "cell_type": "code",
   "execution_count": 37,
   "id": "f4514e85-44c6-43ab-9d66-6fc1629aa386",
   "metadata": {},
   "outputs": [],
   "source": [
    "s4='jkfjkfdh'"
   ]
  },
  {
   "cell_type": "code",
   "execution_count": 38,
   "id": "bb54648c-d650-4f1b-8415-d91886bc72f3",
   "metadata": {},
   "outputs": [
    {
     "data": {
      "text/plain": [
       "True"
      ]
     },
     "execution_count": 38,
     "metadata": {},
     "output_type": "execute_result"
    }
   ],
   "source": [
    "s4.isalnum()"
   ]
  },
  {
   "cell_type": "code",
   "execution_count": 39,
   "id": "b8e013b2-d462-4acc-a14e-330807cb1ff4",
   "metadata": {},
   "outputs": [
    {
     "data": {
      "text/plain": [
       "True"
      ]
     },
     "execution_count": 39,
     "metadata": {},
     "output_type": "execute_result"
    }
   ],
   "source": [
    "'pwskills'.upper().lower().isalnum()"
   ]
  },
  {
   "cell_type": "code",
   "execution_count": 40,
   "id": "f42e5070-f880-4d5b-938e-d59b8402e27b",
   "metadata": {},
   "outputs": [
    {
     "ename": "ZeroDivisionError",
     "evalue": "division by zero",
     "output_type": "error",
     "traceback": [
      "\u001b[0;31m---------------------------------------------------------------------------\u001b[0m",
      "\u001b[0;31mZeroDivisionError\u001b[0m                         Traceback (most recent call last)",
      "Cell \u001b[0;32mIn[40], line 1\u001b[0m\n\u001b[0;32m----> 1\u001b[0m \u001b[38;5;28;43;01mTrue\u001b[39;49;00m\u001b[38;5;241;43m/\u001b[39;49m\u001b[43m \u001b[49m\u001b[38;5;28;43;01mFalse\u001b[39;49;00m\n",
      "\u001b[0;31mZeroDivisionError\u001b[0m: division by zero"
     ]
    }
   ],
   "source": [
    "True/ False"
   ]
  },
  {
   "cell_type": "code",
   "execution_count": 41,
   "id": "4bdc7fcd-f1d2-4b5a-b721-d39d73c4f3d1",
   "metadata": {},
   "outputs": [
    {
     "ename": "AttributeError",
     "evalue": "'str' object has no attribute 'type'",
     "output_type": "error",
     "traceback": [
      "\u001b[0;31m---------------------------------------------------------------------------\u001b[0m",
      "\u001b[0;31mAttributeError\u001b[0m                            Traceback (most recent call last)",
      "Cell \u001b[0;32mIn[41], line 1\u001b[0m\n\u001b[0;32m----> 1\u001b[0m \u001b[43ms1\u001b[49m\u001b[38;5;241;43m.\u001b[39;49m\u001b[43mtype\u001b[49m() \u001b[38;5;129;01mand\u001b[39;00m \u001b[38;5;28mlen\u001b[39m()\n",
      "\u001b[0;31mAttributeError\u001b[0m: 'str' object has no attribute 'type'"
     ]
    }
   ],
   "source": [
    "s1.type() and len()"
   ]
  },
  {
   "cell_type": "code",
   "execution_count": 42,
   "id": "741d2cab-6535-4328-abed-297c5e4ebbfa",
   "metadata": {},
   "outputs": [],
   "source": [
    "j = '435,6,7,8,7'"
   ]
  },
  {
   "cell_type": "code",
   "execution_count": 43,
   "id": "7bedc056-bef7-4527-b977-f9510b72e4e5",
   "metadata": {},
   "outputs": [
    {
     "data": {
      "text/plain": [
       "11"
      ]
     },
     "execution_count": 43,
     "metadata": {},
     "output_type": "execute_result"
    }
   ],
   "source": [
    "len(j)"
   ]
  },
  {
   "cell_type": "code",
   "execution_count": 45,
   "id": "0d32154c-e366-4230-9ad0-2bd8c92f55e6",
   "metadata": {},
   "outputs": [
    {
     "data": {
      "text/plain": [
       "11"
      ]
     },
     "execution_count": 45,
     "metadata": {},
     "output_type": "execute_result"
    }
   ],
   "source": [
    "type(j) and len(j)"
   ]
  },
  {
   "cell_type": "code",
   "execution_count": 46,
   "id": "5ead5ddf-5109-4cb7-af79-cff93c2e707c",
   "metadata": {},
   "outputs": [
    {
     "data": {
      "text/plain": [
       "str"
      ]
     },
     "execution_count": 46,
     "metadata": {},
     "output_type": "execute_result"
    }
   ],
   "source": [
    "type(j)"
   ]
  },
  {
   "cell_type": "code",
   "execution_count": 47,
   "id": "32cf16b3-e677-4fd7-8a8d-f6f7903b35d7",
   "metadata": {},
   "outputs": [
    {
     "data": {
      "text/plain": [
       "(-1+3j)"
      ]
     },
     "execution_count": 47,
     "metadata": {},
     "output_type": "execute_result"
    }
   ],
   "source": [
    "num1= 23\n",
    "\n",
    "num2= 44\n",
    "\n",
    "num2= 2+3j\n",
    "\n",
    "num1= num2.imag\n",
    "\n",
    "num2-num1"
   ]
  },
  {
   "cell_type": "code",
   "execution_count": null,
   "id": "dd732381-39d2-465c-ac98-3026231921c3",
   "metadata": {},
   "outputs": [],
   "source": []
  }
 ],
 "metadata": {
  "kernelspec": {
   "display_name": "Python 3 (ipykernel)",
   "language": "python",
   "name": "python3"
  },
  "language_info": {
   "codemirror_mode": {
    "name": "ipython",
    "version": 3
   },
   "file_extension": ".py",
   "mimetype": "text/x-python",
   "name": "python",
   "nbconvert_exporter": "python",
   "pygments_lexer": "ipython3",
   "version": "3.10.8"
  }
 },
 "nbformat": 4,
 "nbformat_minor": 5
}
