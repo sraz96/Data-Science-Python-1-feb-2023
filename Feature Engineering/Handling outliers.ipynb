{
 "cells": [
  {
   "cell_type": "markdown",
   "id": "c9eeedd6-95f9-4b1c-aa45-918351696d8c",
   "metadata": {},
   "source": [
    "## 5 number Summary\n",
    "1. Minimum value\n",
    "2. Q1- 25 percentile\n",
    "3. Median\n",
    "4. Q3 - 75 percentile\n",
    "5. MAximum"
   ]
  },
  {
   "cell_type": "code",
   "execution_count": 10,
   "id": "5fdceeab-c68c-4d1e-981c-146967acb791",
   "metadata": {},
   "outputs": [],
   "source": [
    "import numpy as np\n",
    "lst_marks= [56,787,64,241,65,32,532,65,68,65,65,35,523,656,868,989]"
   ]
  },
  {
   "cell_type": "code",
   "execution_count": 14,
   "id": "b2f69f42-7a51-4e0a-b635-f5d47c256ff2",
   "metadata": {},
   "outputs": [
    {
     "name": "stdout",
     "output_type": "stream",
     "text": [
      "[64.75]\n"
     ]
    }
   ],
   "source": [
    "## we will create a range [lower fence----->Higher fence]\n",
    "Q1= np.percentile(lst_marks,[25])\n",
    "print(Q1)"
   ]
  },
  {
   "cell_type": "code",
   "execution_count": 17,
   "id": "377c223f-82dd-49fe-996d-61b7dc4fac3a",
   "metadata": {},
   "outputs": [],
   "source": [
    "minimum,Q1,Q2,Q3,maximum = np.quantile(lst_marks,[0,0.25,0.50,0.75,1.0])"
   ]
  },
  {
   "cell_type": "code",
   "execution_count": 18,
   "id": "4b33afab-59db-47c0-8996-f3ffd97c0713",
   "metadata": {},
   "outputs": [
    {
     "data": {
      "text/plain": [
       "989.0"
      ]
     },
     "execution_count": 18,
     "metadata": {},
     "output_type": "execute_result"
    }
   ],
   "source": [
    "maximum"
   ]
  },
  {
   "cell_type": "code",
   "execution_count": 19,
   "id": "1ccce6e1-ac2c-4ef2-b319-540161f03479",
   "metadata": {},
   "outputs": [],
   "source": [
    "IQR=Q3-Q1"
   ]
  },
  {
   "cell_type": "code",
   "execution_count": 20,
   "id": "eb00f4d8-cd8b-4945-b92d-75899a5e877a",
   "metadata": {},
   "outputs": [
    {
     "name": "stdout",
     "output_type": "stream",
     "text": [
      "498.25\n"
     ]
    }
   ],
   "source": [
    "print(IQR)"
   ]
  },
  {
   "cell_type": "code",
   "execution_count": 21,
   "id": "a55066fc-ac0f-41b4-8f04-30682acaeae2",
   "metadata": {},
   "outputs": [],
   "source": [
    "lower_fence= Q1-1.5*(IQR)\n",
    "higher_fence=Q3+1.5*(IQR)"
   ]
  },
  {
   "cell_type": "code",
   "execution_count": 22,
   "id": "6e8622a4-5aa0-4984-bbbc-d67eb7b8e4e2",
   "metadata": {},
   "outputs": [
    {
     "data": {
      "text/plain": [
       "(-682.625, 1310.375)"
      ]
     },
     "execution_count": 22,
     "metadata": {},
     "output_type": "execute_result"
    }
   ],
   "source": [
    "lower_fence,higher_fence"
   ]
  },
  {
   "cell_type": "code",
   "execution_count": 23,
   "id": "d68d2060-2982-4598-bfda-6e1227bca629",
   "metadata": {},
   "outputs": [
    {
     "name": "stdout",
     "output_type": "stream",
     "text": [
      "This is not an outlier\n",
      "This is not an outlier\n",
      "This is not an outlier\n",
      "This is not an outlier\n",
      "This is not an outlier\n",
      "This is not an outlier\n",
      "This is not an outlier\n",
      "This is not an outlier\n",
      "This is not an outlier\n",
      "This is not an outlier\n",
      "This is not an outlier\n",
      "This is not an outlier\n",
      "This is not an outlier\n",
      "This is not an outlier\n",
      "This is not an outlier\n",
      "This is not an outlier\n"
     ]
    }
   ],
   "source": [
    "outliers=[]\n",
    "for i in lst_marks:\n",
    "    if i>=-682.625 and i<=1310.375:\n",
    "        print(\"This is not an outlier\")\n",
    "    else:\n",
    "        outliers.append(i)"
   ]
  },
  {
   "cell_type": "code",
   "execution_count": 24,
   "id": "2cd9c88c-3470-4a7b-9753-2dc0d8826cce",
   "metadata": {},
   "outputs": [
    {
     "data": {
      "text/plain": [
       "[]"
      ]
     },
     "execution_count": 24,
     "metadata": {},
     "output_type": "execute_result"
    }
   ],
   "source": [
    "outliers"
   ]
  },
  {
   "cell_type": "code",
   "execution_count": 25,
   "id": "7f9c694e-6d59-46dc-ab61-c2378e071b8e",
   "metadata": {},
   "outputs": [],
   "source": [
    "import seaborn as sns"
   ]
  },
  {
   "cell_type": "code",
   "execution_count": 26,
   "id": "5a5597a6-a884-4eeb-97eb-cee608e16dcf",
   "metadata": {},
   "outputs": [
    {
     "data": {
      "text/plain": [
       "<AxesSubplot: >"
      ]
     },
     "execution_count": 26,
     "metadata": {},
     "output_type": "execute_result"
    },
    {
     "data": {
      "image/png": "[encoded data removed]",
      "text/plain": [
       "<Figure size 640x480 with 1 Axes>"
      ]
     },
     "metadata": {},
     "output_type": "display_data"
    }
   ],
   "source": [
    "sns.boxplot(lst_marks)"
   ]
  },
  {
   "cell_type": "code",
   "execution_count": 27,
   "id": "5a72fe23-7aad-4e8c-b249-a19d9e2f6314",
   "metadata": {},
   "outputs": [],
   "source": [
    "lst_marks=[78,56,24,45,35,12,45,89,65,45,57,83,23,56,52,36,24,82,99]"
   ]
  },
  {
   "cell_type": "code",
   "execution_count": 28,
   "id": "d43d01e2-0533-4338-a282-571b6440feb2",
   "metadata": {},
   "outputs": [
    {
     "data": {
      "text/plain": [
       "<AxesSubplot: >"
      ]
     },
     "execution_count": 28,
     "metadata": {},
     "output_type": "execute_result"
    },
    {
     "data": {
      "image/png": "[encoded data removed]",
      "text/plain": [
       "<Figure size 640x480 with 1 Axes>"
      ]
     },
     "metadata": {},
     "output_type": "display_data"
    }
   ],
   "source": [
    "sns.boxplot(lst_marks)"
   ]
  },
  {
   "cell_type": "code",
   "execution_count": null,
   "id": "32cdefd3-e8c4-4436-8b17-97acb8d205dc",
   "metadata": {},
   "outputs": [],
   "source": []
  }
 ],
 "metadata": {
  "kernelspec": {
   "display_name": "Python 3 (ipykernel)",
   "language": "python",
   "name": "python3"
  },
  "language_info": {
   "codemirror_mode": {
    "name": "ipython",
    "version": 3
   },
   "file_extension": ".py",
   "mimetype": "text/x-python",
   "name": "python",
   "nbconvert_exporter": "python",
   "pygments_lexer": "ipython3",
   "version": "3.10.8"
  }
 },
 "nbformat": 4,
 "nbformat_minor": 5
}
