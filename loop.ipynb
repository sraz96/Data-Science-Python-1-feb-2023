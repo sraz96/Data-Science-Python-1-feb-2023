{
 "cells": [
  {
   "cell_type": "code",
   "execution_count": 1,
   "id": "5db370e0-4c9c-437a-8fb0-24a7328abac6",
   "metadata": {},
   "outputs": [],
   "source": [
    "l = [1,2,3,4,5]"
   ]
  },
  {
   "cell_type": "code",
   "execution_count": 3,
   "id": "ac31bd79-5e75-4f66-94b5-b077186d1467",
   "metadata": {},
   "outputs": [
    {
     "name": "stdout",
     "output_type": "stream",
     "text": [
      "1 <class 'int'>\n",
      "2 <class 'int'>\n",
      "3 <class 'int'>\n",
      "4 <class 'int'>\n",
      "5 <class 'int'>\n"
     ]
    }
   ],
   "source": [
    "for i in l :\n",
    "    print(i, type(i))"
   ]
  },
  {
   "cell_type": "code",
   "execution_count": 4,
   "id": "cdeabf69-00c9-49f9-b829-807ea2c5f976",
   "metadata": {},
   "outputs": [
    {
     "name": "stdout",
     "output_type": "stream",
     "text": [
      "sudh\n",
      "kumar\n",
      "nayak\n"
     ]
    }
   ],
   "source": [
    "l1 = ['sudh','kumar','nayak']\n",
    "for i in l1 :\n",
    "    print(i)"
   ]
  },
  {
   "cell_type": "code",
   "execution_count": 5,
   "id": "afea6ba1-093c-46ce-955f-6fd8a266071f",
   "metadata": {},
   "outputs": [
    {
     "data": {
      "text/plain": [
       "['sudh', 'kumar', 'nayak']"
      ]
     },
     "execution_count": 5,
     "metadata": {},
     "output_type": "execute_result"
    }
   ],
   "source": [
    "l1"
   ]
  },
  {
   "cell_type": "code",
   "execution_count": 7,
   "id": "ed9c90de-4a74-4d50-9c8b-3d7c28c63c2e",
   "metadata": {},
   "outputs": [
    {
     "name": "stdout",
     "output_type": "stream",
     "text": [
      "['sudh', 'kumar', 'nayak']\n",
      "['sudh', 'kumar', 'nayak']\n",
      "['sudh', 'kumar', 'nayak']\n",
      "If for loop is able to complete itself then only else will executed\n"
     ]
    }
   ],
   "source": [
    "for i in l1:\n",
    "    print(l1)\n",
    "else :\n",
    "    print(\"If for loop is able to complete itself then only else will executed\")"
   ]
  },
  {
   "cell_type": "code",
   "execution_count": 8,
   "id": "5403c25c-4620-4440-94a0-5892dce553a4",
   "metadata": {},
   "outputs": [
    {
     "data": {
      "text/plain": [
       "['sudh', 'kumar', 'nayak']"
      ]
     },
     "execution_count": 8,
     "metadata": {},
     "output_type": "execute_result"
    }
   ],
   "source": [
    "l1"
   ]
  },
  {
   "cell_type": "code",
   "execution_count": 9,
   "id": "548113eb-890e-484e-af29-9222640aa0f6",
   "metadata": {},
   "outputs": [
    {
     "name": "stdout",
     "output_type": "stream",
     "text": [
      "sudh\n"
     ]
    }
   ],
   "source": [
    "for i in l1:\n",
    "    if i == \"kumar\":\n",
    "        break\n",
    "    print(i)"
   ]
  },
  {
   "cell_type": "code",
   "execution_count": 10,
   "id": "aa1e51b4-04ee-40bb-89dc-0c68985a51ea",
   "metadata": {},
   "outputs": [
    {
     "name": "stdout",
     "output_type": "stream",
     "text": [
      "sudh\n"
     ]
    }
   ],
   "source": [
    "for i in l1 :\n",
    "    if i == 'kumar':\n",
    "        break\n",
    "    print(i)\n",
    "else :\n",
    "    print(\"eliminate this if for loop is able to complete itself\")"
   ]
  },
  {
   "cell_type": "code",
   "execution_count": 11,
   "id": "4045f4e9-ab7a-4951-b0ab-af41fe08e5a7",
   "metadata": {},
   "outputs": [
    {
     "data": {
      "text/plain": [
       "['sudh', 'kumar', 'nayak']"
      ]
     },
     "execution_count": 11,
     "metadata": {},
     "output_type": "execute_result"
    }
   ],
   "source": [
    "l1"
   ]
  },
  {
   "cell_type": "code",
   "execution_count": 14,
   "id": "7a4d9b99-223c-403d-a3a7-3671d588ff7b",
   "metadata": {},
   "outputs": [
    {
     "name": "stdout",
     "output_type": "stream",
     "text": [
      "sudh\n",
      "nayak\n",
      "else executed\n"
     ]
    }
   ],
   "source": [
    "for i in l1 :\n",
    "    if i== 'kumar':\n",
    "        continue\n",
    "    print(i)\n",
    "else :\n",
    "    print(\"else executed\")"
   ]
  },
  {
   "cell_type": "code",
   "execution_count": 16,
   "id": "e4f41e59-15f9-401b-a14f-8d0e066d93fa",
   "metadata": {},
   "outputs": [
    {
     "data": {
      "text/plain": [
       "range(0, 5)"
      ]
     },
     "execution_count": 16,
     "metadata": {},
     "output_type": "execute_result"
    }
   ],
   "source": [
    "range(5)"
   ]
  },
  {
   "cell_type": "code",
   "execution_count": 17,
   "id": "b2535f38-a1c1-4342-8f16-cc15762ea4b9",
   "metadata": {},
   "outputs": [
    {
     "data": {
      "text/plain": [
       "[0, 1, 2, 3, 4]"
      ]
     },
     "execution_count": 17,
     "metadata": {},
     "output_type": "execute_result"
    }
   ],
   "source": [
    "list(range(5))"
   ]
  },
  {
   "cell_type": "code",
   "execution_count": 18,
   "id": "4d9f15a2-ea44-4b09-86b5-e91ec494bd24",
   "metadata": {},
   "outputs": [
    {
     "data": {
      "text/plain": [
       "[0, 1, 2, 3, 4]"
      ]
     },
     "execution_count": 18,
     "metadata": {},
     "output_type": "execute_result"
    }
   ],
   "source": [
    "list(range(0,5,1))"
   ]
  },
  {
   "cell_type": "code",
   "execution_count": 21,
   "id": "94fb28b7-1020-479d-8493-38deb4e97a53",
   "metadata": {},
   "outputs": [
    {
     "data": {
      "text/plain": [
       "[0, 2, 4, 6, 8, 10, 12, 14, 16, 18]"
      ]
     },
     "execution_count": 21,
     "metadata": {},
     "output_type": "execute_result"
    }
   ],
   "source": [
    "list(range(0,20,2))"
   ]
  },
  {
   "cell_type": "code",
   "execution_count": 22,
   "id": "0ef1afb9-43d7-457b-be94-4585d6f80715",
   "metadata": {},
   "outputs": [
    {
     "data": {
      "text/plain": [
       "[-10, -9, -8, -7, -6, -5, -4, -3, -2, -1]"
      ]
     },
     "execution_count": 22,
     "metadata": {},
     "output_type": "execute_result"
    }
   ],
   "source": [
    "list(range(-10,0))"
   ]
  },
  {
   "cell_type": "code",
   "execution_count": 25,
   "id": "1086a7cb-dd9d-4c3d-89ae-eb0ac0015806",
   "metadata": {},
   "outputs": [
    {
     "data": {
      "text/plain": [
       "['sudh', 'kumar', 'nayak']"
      ]
     },
     "execution_count": 25,
     "metadata": {},
     "output_type": "execute_result"
    }
   ],
   "source": [
    "l1"
   ]
  },
  {
   "cell_type": "code",
   "execution_count": 26,
   "id": "90246f06-dcbf-49d4-89d4-e6ad395d2700",
   "metadata": {},
   "outputs": [
    {
     "data": {
      "text/plain": [
       "3"
      ]
     },
     "execution_count": 26,
     "metadata": {},
     "output_type": "execute_result"
    }
   ],
   "source": [
    "len(l1)"
   ]
  },
  {
   "cell_type": "code",
   "execution_count": 27,
   "id": "27b24f37-c295-4c32-b094-dc3a7e1d6faf",
   "metadata": {},
   "outputs": [
    {
     "data": {
      "text/plain": [
       "[0, 1, 2]"
      ]
     },
     "execution_count": 27,
     "metadata": {},
     "output_type": "execute_result"
    }
   ],
   "source": [
    "list(range(len(l1)))"
   ]
  },
  {
   "cell_type": "code",
   "execution_count": 28,
   "id": "27434e4c-8ee1-4f50-8f82-a9bd8f5fd0a4",
   "metadata": {},
   "outputs": [
    {
     "name": "stdout",
     "output_type": "stream",
     "text": [
      "sudh\n",
      "kumar\n",
      "nayak\n"
     ]
    }
   ],
   "source": [
    "for i in range(len(l1)):\n",
    "    print(l1[i])"
   ]
  },
  {
   "cell_type": "code",
   "execution_count": 37,
   "id": "a1879dea-5f21-42c7-8df6-fa66fffa493c",
   "metadata": {},
   "outputs": [
    {
     "data": {
      "text/plain": [
       "[2, 1, 0]"
      ]
     },
     "execution_count": 37,
     "metadata": {},
     "output_type": "execute_result"
    }
   ],
   "source": [
    "list (range(len(l1)-1,-1,-1))"
   ]
  },
  {
   "cell_type": "code",
   "execution_count": 34,
   "id": "04820b84-8266-492f-9d58-591226c49ba1",
   "metadata": {},
   "outputs": [
    {
     "data": {
      "text/plain": [
       "['sudh', 'kumar', 'nayak']"
      ]
     },
     "execution_count": 34,
     "metadata": {},
     "output_type": "execute_result"
    }
   ],
   "source": [
    "l1"
   ]
  },
  {
   "cell_type": "code",
   "execution_count": 39,
   "id": "8e001c2d-d927-4ad0-b65a-848e879d6194",
   "metadata": {},
   "outputs": [
    {
     "name": "stdout",
     "output_type": "stream",
     "text": [
      "nayak\n",
      "kumar\n",
      "sudh\n"
     ]
    }
   ],
   "source": [
    "for i in range(len(l1)-1,-1,-1):\n",
    "    print(l1[i])"
   ]
  },
  {
   "cell_type": "code",
   "execution_count": 41,
   "id": "e368adeb-e636-44e2-98c9-8c31e9e62b44",
   "metadata": {},
   "outputs": [
    {
     "name": "stdout",
     "output_type": "stream",
     "text": [
      "nayak\n",
      "kumar\n",
      "sudh\n"
     ]
    }
   ],
   "source": [
    "for i in [2,1,0]:\n",
    "    print(l1[i])"
   ]
  },
  {
   "cell_type": "code",
   "execution_count": 42,
   "id": "ab9ca2b9-d80b-4e41-9fa0-0234272f9776",
   "metadata": {},
   "outputs": [],
   "source": [
    "l2 = [23,34,5,4,656,787,43,21,20]"
   ]
  },
  {
   "cell_type": "code",
   "execution_count": 44,
   "id": "2bcea2e6-a9be-4884-8b66-6742f5323def",
   "metadata": {},
   "outputs": [
    {
     "data": {
      "text/plain": [
       "[0, 2, 4, 6, 8]"
      ]
     },
     "execution_count": 44,
     "metadata": {},
     "output_type": "execute_result"
    }
   ],
   "source": [
    "list( range(0,len(l2),2))"
   ]
  },
  {
   "cell_type": "code",
   "execution_count": 46,
   "id": "35fe4e55-3374-4091-89cf-e8777b124bc5",
   "metadata": {},
   "outputs": [
    {
     "name": "stdout",
     "output_type": "stream",
     "text": [
      "23\n",
      "5\n",
      "656\n",
      "43\n",
      "20\n"
     ]
    }
   ],
   "source": [
    "for i in (range(0,len(l2),2)):\n",
    "    print(l2[i])"
   ]
  },
  {
   "cell_type": "code",
   "execution_count": 47,
   "id": "a2c32eb7-b7bf-4c31-8612-3e1a98da98ba",
   "metadata": {},
   "outputs": [
    {
     "data": {
      "text/plain": [
       "23"
      ]
     },
     "execution_count": 47,
     "metadata": {},
     "output_type": "execute_result"
    }
   ],
   "source": [
    "l2[0]"
   ]
  },
  {
   "cell_type": "code",
   "execution_count": 48,
   "id": "bff08815-e482-4ad3-b8c3-2d7067a8ec63",
   "metadata": {},
   "outputs": [],
   "source": [
    "l = [1,2,3,4,5,6,7,8,89,76]"
   ]
  },
  {
   "cell_type": "code",
   "execution_count": 49,
   "id": "2a5ef604-fea7-452d-84be-c71bd54c4704",
   "metadata": {},
   "outputs": [
    {
     "data": {
      "text/plain": [
       "201"
      ]
     },
     "execution_count": 49,
     "metadata": {},
     "output_type": "execute_result"
    }
   ],
   "source": [
    "sum(l)"
   ]
  },
  {
   "cell_type": "code",
   "execution_count": 50,
   "id": "c22af2c2-8b57-4f72-a5ef-7e21c542e9ed",
   "metadata": {},
   "outputs": [
    {
     "data": {
      "text/plain": [
       "201"
      ]
     },
     "execution_count": 50,
     "metadata": {},
     "output_type": "execute_result"
    }
   ],
   "source": [
    "result = 0\n",
    "for i in l :\n",
    "    result+=i\n",
    "result"
   ]
  },
  {
   "cell_type": "code",
   "execution_count": 51,
   "id": "3272bee8-dd06-4a67-a4b5-e43adf2592d9",
   "metadata": {},
   "outputs": [],
   "source": [
    "t = (1,23,4,5,6,76,54,43)"
   ]
  },
  {
   "cell_type": "code",
   "execution_count": 52,
   "id": "3c1bec88-530e-4312-b41a-9ece02ca92bc",
   "metadata": {},
   "outputs": [
    {
     "name": "stdout",
     "output_type": "stream",
     "text": [
      "1\n",
      "23\n",
      "4\n",
      "5\n",
      "6\n",
      "76\n",
      "54\n",
      "43\n"
     ]
    }
   ],
   "source": [
    "for i in t:\n",
    "    print(i)"
   ]
  },
  {
   "cell_type": "code",
   "execution_count": 54,
   "id": "5efaaf92-1120-4beb-a48b-48d8edbeeaf3",
   "metadata": {},
   "outputs": [
    {
     "data": {
      "text/plain": [
       "212"
      ]
     },
     "execution_count": 54,
     "metadata": {},
     "output_type": "execute_result"
    }
   ],
   "source": [
    "result = 0\n",
    "for i in t :\n",
    "    result+=i\n",
    "result"
   ]
  },
  {
   "cell_type": "code",
   "execution_count": 55,
   "id": "52385bb9-cdd8-44fc-957e-5497f5fd0d76",
   "metadata": {},
   "outputs": [],
   "source": [
    "s = {21,3,254,5,6,'sudh','pwskils'}"
   ]
  },
  {
   "cell_type": "code",
   "execution_count": 56,
   "id": "14a4b889-a50d-461b-9549-c8896aa28e94",
   "metadata": {},
   "outputs": [
    {
     "name": "stdout",
     "output_type": "stream",
     "text": [
      "3\n",
      "254\n",
      "5\n",
      "6\n",
      "21\n",
      "pwskils\n",
      "sudh\n"
     ]
    }
   ],
   "source": [
    "for i in s:\n",
    "    print(i)"
   ]
  },
  {
   "cell_type": "code",
   "execution_count": 57,
   "id": "34010daf-0292-492a-bacc-ab962cb4e646",
   "metadata": {},
   "outputs": [],
   "source": [
    "s1 = 'pwskills'"
   ]
  },
  {
   "cell_type": "code",
   "execution_count": 58,
   "id": "ecc26196-94ea-4c8c-972f-6abbbabe909a",
   "metadata": {},
   "outputs": [
    {
     "name": "stdout",
     "output_type": "stream",
     "text": [
      "p\n",
      "w\n",
      "s\n",
      "k\n",
      "i\n",
      "l\n",
      "l\n",
      "s\n"
     ]
    }
   ],
   "source": [
    "for i in s1:\n",
    "    print(i)"
   ]
  },
  {
   "cell_type": "code",
   "execution_count": 59,
   "id": "e644d161-8bae-4d0c-a662-95fdd929260a",
   "metadata": {},
   "outputs": [],
   "source": [
    "d = {\"name\": \"santosh\",'class':'data science','topic':['python','machine learning','deep learning','dl','cv','Resume','interview']}"
   ]
  },
  {
   "cell_type": "code",
   "execution_count": 60,
   "id": "5d2879a5-5c02-4b8c-93a3-03ccdc4ae257",
   "metadata": {},
   "outputs": [
    {
     "data": {
      "text/plain": [
       "{'name': 'santosh',\n",
       " 'class': 'data science',\n",
       " 'topic': ['python',\n",
       "  'machine learning',\n",
       "  'deep learning',\n",
       "  'dl',\n",
       "  'cv',\n",
       "  'Resume',\n",
       "  'interview']}"
      ]
     },
     "execution_count": 60,
     "metadata": {},
     "output_type": "execute_result"
    }
   ],
   "source": [
    "d"
   ]
  },
  {
   "cell_type": "code",
   "execution_count": 61,
   "id": "05ab2ca5-0ad2-474b-80d0-5a1e20f3aeb6",
   "metadata": {},
   "outputs": [
    {
     "data": {
      "text/plain": [
       "'santosh'"
      ]
     },
     "execution_count": 61,
     "metadata": {},
     "output_type": "execute_result"
    }
   ],
   "source": [
    "d['name']"
   ]
  },
  {
   "cell_type": "code",
   "execution_count": 62,
   "id": "0e93d5dd-864a-4f2d-822f-c26c58bf1145",
   "metadata": {},
   "outputs": [
    {
     "data": {
      "text/plain": [
       "dict_keys(['name', 'class', 'topic'])"
      ]
     },
     "execution_count": 62,
     "metadata": {},
     "output_type": "execute_result"
    }
   ],
   "source": [
    "d.keys()"
   ]
  },
  {
   "cell_type": "code",
   "execution_count": 63,
   "id": "2ddcf9ab-c5bb-449f-a564-9f236d079d36",
   "metadata": {},
   "outputs": [
    {
     "name": "stdout",
     "output_type": "stream",
     "text": [
      "santosh\n",
      "data science\n",
      "['python', 'machine learning', 'deep learning', 'dl', 'cv', 'Resume', 'interview']\n"
     ]
    }
   ],
   "source": [
    "for i in d.keys():\n",
    "    print(d[i])"
   ]
  },
  {
   "cell_type": "code",
   "execution_count": 64,
   "id": "67f939e1-3162-4f95-ac4a-04ea8921b1fe",
   "metadata": {},
   "outputs": [
    {
     "data": {
      "text/plain": [
       "dict_values(['santosh', 'data science', ['python', 'machine learning', 'deep learning', 'dl', 'cv', 'Resume', 'interview']])"
      ]
     },
     "execution_count": 64,
     "metadata": {},
     "output_type": "execute_result"
    }
   ],
   "source": [
    "d.values()"
   ]
  },
  {
   "cell_type": "code",
   "execution_count": 66,
   "id": "bea1d0e4-28e6-4f76-8de4-008f1990035c",
   "metadata": {},
   "outputs": [
    {
     "name": "stdout",
     "output_type": "stream",
     "text": [
      "['santosh']\n",
      "['data science']\n",
      "[['python', 'machine learning', 'deep learning', 'dl', 'cv', 'Resume', 'interview']]\n"
     ]
    }
   ],
   "source": [
    "for i in d.values():\n",
    "    print([i])"
   ]
  },
  {
   "cell_type": "code",
   "execution_count": 67,
   "id": "2643e51e-a30f-4c3b-82ba-7c7da93319d4",
   "metadata": {},
   "outputs": [
    {
     "data": {
      "text/plain": [
       "dict_items([('name', 'santosh'), ('class', 'data science'), ('topic', ['python', 'machine learning', 'deep learning', 'dl', 'cv', 'Resume', 'interview'])])"
      ]
     },
     "execution_count": 67,
     "metadata": {},
     "output_type": "execute_result"
    }
   ],
   "source": [
    "d.items()"
   ]
  },
  {
   "cell_type": "code",
   "execution_count": 68,
   "id": "f1280c2b-71f0-46c1-897f-a612e614f9e3",
   "metadata": {},
   "outputs": [
    {
     "name": "stdout",
     "output_type": "stream",
     "text": [
      "('name', 'santosh')\n",
      "('class', 'data science')\n",
      "('topic', ['python', 'machine learning', 'deep learning', 'dl', 'cv', 'Resume', 'interview'])\n"
     ]
    }
   ],
   "source": [
    "for i in d.items():\n",
    "    print(i)"
   ]
  },
  {
   "cell_type": "code",
   "execution_count": null,
   "id": "7dcf030a-550e-4b21-9c35-60bcef5ed82b",
   "metadata": {},
   "outputs": [],
   "source": []
  }
 ],
 "metadata": {
  "kernelspec": {
   "display_name": "Python 3 (ipykernel)",
   "language": "python",
   "name": "python3"
  },
  "language_info": {
   "codemirror_mode": {
    "name": "ipython",
    "version": 3
   },
   "file_extension": ".py",
   "mimetype": "text/x-python",
   "name": "python",
   "nbconvert_exporter": "python",
   "pygments_lexer": "ipython3",
   "version": "3.10.8"
  }
 },
 "nbformat": 4,
 "nbformat_minor": 5
}
