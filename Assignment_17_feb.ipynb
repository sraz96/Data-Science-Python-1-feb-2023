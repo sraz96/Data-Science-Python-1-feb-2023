{
 "cells": [
  {
   "cell_type": "code",
   "execution_count": null,
   "id": "28cd7b71-2607-4256-ab81-bcfd11e2595f",
   "metadata": {},
   "outputs": [],
   "source": [
    "Solution 1:-"
   ]
  },
  {
   "cell_type": "code",
   "execution_count": null,
   "id": "7f309575-f938-4b04-84af-b676c4282840",
   "metadata": {},
   "outputs": [],
   "source": [
    "MongoDB is a popular, open-source, document-oriented NoSQL database system that is designed to be scalable and flexible. It is a\n",
    "non-relational database, which means that it does not use the traditional tabular relational database model that is used in SQL databases."
   ]
  },
  {
   "cell_type": "code",
   "execution_count": null,
   "id": "67170b08-c71c-4f1f-a847-2587d1b5d9da",
   "metadata": {},
   "outputs": [],
   "source": [
    "Non-relational databases, also known as NoSQL databases, are a type of database system that does not use the traditional relational \n",
    "data model used in SQL databases. Instead, they store data in a variety of non-tabular formats, such as key-value pairs, documents,\n",
    "or graphs. Non-relational databases are designed to be scalable and flexible, and are often used in scenarios where data needs to be \n",
    "processed quickly or where data is unstructured or semi-structured."
   ]
  },
  {
   "cell_type": "code",
   "execution_count": null,
   "id": "c15d50a5-b138-42cd-bfef-a6118f32e8c0",
   "metadata": {},
   "outputs": [],
   "source": [
    "MongoDB is preferred over SQL databases in several scenarios, such as:\n",
    "\n",
    "1.High scalability: MongoDB is designed to be highly scalable and can handle large amounts of data and traffic. It can scale horizontally \n",
    "  by adding more servers to the cluster.\n",
    "\n",
    "2.Unstructured or semi-structured data: MongoDB is a document-oriented database, which means that it can handle unstructured or \n",
    "  semi-structured data more efficiently than SQL databases.\n",
    "\n",
    "3.Rapid application development: MongoDB has a flexible schema that allows for rapid application development and iteration.\n",
    "\n",
    "4.Big data analytics: MongoDB can be used for big data analytics as it can store and analyze large amounts of data in real-time.\n",
    "\n",
    "5.Cloud-based applications: MongoDB is a good choice for cloud-based applications as it can be easily deployed and scaled in cloud environments."
   ]
  },
  {
   "cell_type": "code",
   "execution_count": null,
   "id": "69a8fa6f-cd34-4448-935d-4111c344b79e",
   "metadata": {},
   "outputs": [],
   "source": [
    "Solution 2:-"
   ]
  },
  {
   "cell_type": "code",
   "execution_count": null,
   "id": "97f5e474-a5a0-4e5c-8a05-fb8da78a72c7",
   "metadata": {},
   "outputs": [],
   "source": [
    "MongoDB is a popular NoSQL database that offers a wide range of features and benefits. Some of the key features of MongoDB include:\n",
    "\n",
    "1.Document-Oriented: MongoDB is a document-oriented database, which means that it stores data in the form of documents rather than \n",
    "  tables with rows and columns. Documents are similar to JSON objects, making them easy to work with for developers.\n",
    "\n",
    "2.Flexible Data Model: MongoDB's data model is flexible, which means that data can be easily added, changed or removed without affecting the \n",
    "  structure of the entire database. This is useful when working with data that is constantly changing, as it allows for more agile development.\n",
    "\n",
    "3.Scalability: MongoDB is highly scalable, which means that it can easily handle large amounts of data and distribute it across multiple \n",
    "  servers. This makes it a good choice for applications that need to scale quickly and easily.\n",
    "\n",
    "4.High Performance: MongoDB is designed to provide high performance, even with large amounts of data. It uses in-memory computing and\n",
    "  allows for indexing and query optimization to improve query performance.\n",
    "\n",
    "5.Automatic Sharding: MongoDB can automatically distribute data across multiple servers using a process called sharding. This helps to \n",
    "  ensure high availability and performance for large-scale applications.\n",
    "\n",
    "6.Rich Query Language: MongoDB provides a rich query language that supports complex queries, including joins, aggregation, and full-text search.\n",
    "\n",
    "7.Support for Secondary Indexes: MongoDB supports secondary indexes, which makes it easy to find data based on any field in the document."
   ]
  },
  {
   "cell_type": "code",
   "execution_count": null,
   "id": "e905a712-d88f-43cb-8e61-4b710deb2708",
   "metadata": {},
   "outputs": [],
   "source": [
    "Solution 3:-"
   ]
  },
  {
   "cell_type": "code",
   "execution_count": null,
   "id": "b7bbb43b-d3f2-4a4e-b320-34b6ec61b041",
   "metadata": {},
   "outputs": [],
   "source": [
    "To connect MongoDB to Python, you can use the pymongo library, which provides a Python interface to MongoDB. \n",
    "Here is an example code that connects to a MongoDB server and creates a database and collection:"
   ]
  },
  {
   "cell_type": "code",
   "execution_count": null,
   "id": "6f6e1a84-839e-4774-b044-5a68c9d99668",
   "metadata": {},
   "outputs": [],
   "source": [
    "import pymongo\n",
    "\n",
    "# Connect to the MongoDB server\n",
    "client = pymongo.MongoClient(\"mongodb://localhost:27017/\")\n",
    "\n",
    "# Create a new database\n",
    "mydb = client[\"mydatabase\"]\n",
    "\n",
    "# Create a new collection\n",
    "mycol = mydb[\"customers\"]\n",
    "\n",
    "# Insert a document into the collection\n",
    "mydict = { \"name\": \"John\", \"address\": \"Highway 37\" }\n",
    "x = mycol.insert_one(mydict)\n",
    "\n",
    "# Print the ID of the inserted document\n",
    "print(x.inserted_id)\n"
   ]
  },
  {
   "cell_type": "code",
   "execution_count": null,
   "id": "d85cf81c-8a4b-40a0-baa0-1380780d53f7",
   "metadata": {},
   "outputs": [],
   "source": [
    "Solution 4:-"
   ]
  },
  {
   "cell_type": "code",
   "execution_count": null,
   "id": "f999abef-c22d-48ea-a637-71939a56adca",
   "metadata": {},
   "outputs": [],
   "source": [
    "from pymongo import MongoClient\n",
    "\n",
    "# create a client instance to connect to the MongoDB server\n",
    "client = MongoClient()\n",
    "\n",
    "# create or access a database named \"mydatabase\"\n",
    "db = client.mydatabase\n",
    "\n",
    "# create or access a collection named \"mycollection\"\n",
    "collection = db.mycollection\n",
    "\n",
    "# insert one record\n",
    "record = {\"name\": \"John\", \"age\": 30, \"city\": \"New York\"}\n",
    "collection.insert_one(record)\n",
    "\n",
    "records = [\n",
    "    {\"name\": \"Akshay\", \"age\": 25, \"city\": \"India\"},\n",
    "    {\"name\": \"Bobby\", \"age\": 40, \"city\": \"Chicago\"},\n",
    "    {\"name\": \"Sarah\", \"age\": 35, \"city\": \"Los Angeles\"}\n",
    "]\n",
    "collection.insert_many(records)\n",
    "\n",
    "# find the inserted record using find_one() method\n",
    "one_record = collection.find_one({\"name\": \"Akshay\"})\n",
    "print(\"One record inserted: \", one_record)\n",
    "\n",
    "# find all inserted records using find() method\n",
    "all_records = collection.find()\n",
    "print(\"All records inserted: \")\n",
    "for record in all_records:\n",
    "    print(record)\n"
   ]
  },
  {
   "cell_type": "code",
   "execution_count": null,
   "id": "4047afb8-2f4d-4df8-8916-1cdaf4d47bdb",
   "metadata": {},
   "outputs": [],
   "source": [
    "Solution 5:-"
   ]
  },
  {
   "cell_type": "code",
   "execution_count": null,
   "id": "b552e011-e935-4763-aa65-ae5dd2e8b4a2",
   "metadata": {},
   "outputs": [],
   "source": [
    "The find() method is used to query a MongoDB database to retrieve documents from a collection. It takes an optional query object as a \n",
    "parameter that specifies the selection criteria for the query. Here's how you can use the find() method to query a MongoDB database:"
   ]
  },
  {
   "cell_type": "code",
   "execution_count": null,
   "id": "d615a076-b92e-4b31-8a8c-8fcd04516925",
   "metadata": {},
   "outputs": [],
   "source": [
    "import pymongo\n",
    "\n",
    "client = pymongo.MongoClient(\"mongodb://localhost:27017/\")\n",
    "\n",
    "db = client[\"mydatabase\"]\n",
    "collection = db[\"mycollection\"]\n",
    "\n",
    "query = { \"name\": \"Akshay\" }\n",
    "\n",
    "results = collection.find(query)\n",
    "\n",
    "for result in results:\n",
    "    print(result)\n"
   ]
  },
  {
   "cell_type": "code",
   "execution_count": null,
   "id": "5bce1f28-ab14-4076-84b3-6f308083b904",
   "metadata": {},
   "outputs": [],
   "source": [
    "Solution 6:-"
   ]
  },
  {
   "cell_type": "code",
   "execution_count": null,
   "id": "291900d3-5cfb-4db4-9553-233e5f0096a4",
   "metadata": {},
   "outputs": [],
   "source": [
    "The sort() method in MongoDB is used to sort the results of a query in ascending or descending order based on one or more fields.\n",
    "It can be used in conjunction with the find() method to sort the results based on one or more fields, and can also be used with the \n",
    "aggregate() method to sort the output of an aggregation pipeline.\n",
    "\n",
    "The sort() method takes one or more parameters, each specifying a field to sort on and the order in which to sort the field. If no parameter \n",
    "is provided, the method sorts the results in ascending order based on the _id field."
   ]
  },
  {
   "cell_type": "code",
   "execution_count": null,
   "id": "e8254a8f-bef2-4697-b44a-5bd1bd97169f",
   "metadata": {},
   "outputs": [],
   "source": [
    "Here's an example to demonstrate sorting in MongoDB:\n",
    "\n",
    "Suppose we have a collection named \"employees\" with the following documents:"
   ]
  },
  {
   "cell_type": "code",
   "execution_count": 1,
   "id": "b678e2ea-c40e-4d66-ba27-573f8f1d8a6d",
   "metadata": {},
   "outputs": [
    {
     "data": {
      "text/plain": [
       "{'_id': 4, 'name': 'David', 'salary': 70000}"
      ]
     },
     "execution_count": 1,
     "metadata": {},
     "output_type": "execute_result"
    }
   ],
   "source": [
    "{ \"_id\": 1, \"name\": \"Alice\", \"salary\": 50000 }\n",
    "{ \"_id\": 2, \"name\": \"Bob\", \"salary\": 60000 }\n",
    "{ \"_id\": 3, \"name\": \"Charlie\", \"salary\": 40000 }\n",
    "{ \"_id\": 4, \"name\": \"David\", \"salary\": 70000 }\n"
   ]
  },
  {
   "cell_type": "code",
   "execution_count": null,
   "id": "f7b4f0db-4fbd-40ab-a72e-19e97ae87916",
   "metadata": {},
   "outputs": [],
   "source": [
    "from pymongo import MongoClient\n",
    "\n",
    "client = MongoClient()\n",
    "db = client.mydatabase\n",
    "collection = db.employees\n",
    "\n",
    "results = collection.find().sort(\"salary\")\n",
    "\n",
    "for result in results:\n",
    "    print(result)\n"
   ]
  },
  {
   "cell_type": "code",
   "execution_count": null,
   "id": "3df23a9b-c273-4cdc-b182-7193ca65692a",
   "metadata": {},
   "outputs": [],
   "source": [
    "Solution 7:-"
   ]
  },
  {
   "cell_type": "code",
   "execution_count": null,
   "id": "ed4b6972-e4be-477e-9327-f34301c62dd2",
   "metadata": {},
   "outputs": [],
   "source": [
    "In MongoDB, the delete_one() and delete_many() methods are used to remove one or multiple documents from a collection, respectively.\n",
    "The drop() method is used to drop an entire collection.\n",
    "\n",
    "The delete_one() method is used to remove a single document that matches a specific filter. It takes a query object as a parameter that \n",
    "specifies the selection criteria for the document to be removed. If there are multiple documents that match the query, delete_one() will \n",
    "only remove the first document it finds."
   ]
  },
  {
   "cell_type": "code",
   "execution_count": null,
   "id": "a916545f-8451-4763-afb5-8a884706f377",
   "metadata": {},
   "outputs": [],
   "source": [
    "Here's an example of using delete_one() to remove a single document from a collection:"
   ]
  },
  {
   "cell_type": "code",
   "execution_count": null,
   "id": "5020c7e7-4aab-4c3a-9401-852c92be07aa",
   "metadata": {},
   "outputs": [],
   "source": [
    "import pymongo\n",
    "client = pymongo.MongoClient(\"mongodb://localhost:27017/\")\n",
    "\n",
    "db = client[\"mydatabase\"]\n",
    "collection = db[\"mycollection\"]\n",
    "\n",
    "query = { \"name\": \"John\" }\n",
    "\n",
    "# Remove a single document that matches the query\n",
    "result = collection.delete_one(query)\n",
    "print(result.deleted_count)\n"
   ]
  },
  {
   "cell_type": "code",
   "execution_count": null,
   "id": "0799d2ac-c4c6-4dc3-8352-fc6135f2c357",
   "metadata": {},
   "outputs": [],
   "source": [
    "Here's an example of using delete_many() to remove multiple documents from a collection:"
   ]
  },
  {
   "cell_type": "code",
   "execution_count": null,
   "id": "6e05c4e7-0c33-43a7-8a43-61424ca1b3cf",
   "metadata": {},
   "outputs": [],
   "source": [
    "import pymongo\n",
    "client = pymongo.MongoClient(\"mongodb://localhost:27017/\")\n",
    "\n",
    "db = client[\"mydatabase\"]\n",
    "collection = db[\"mycollection\"]\n",
    "\n",
    "query = { \"age\": { \"$lt\": 18 } }\n",
    "\n",
    "# Remove all documents that match the query\n",
    "result = collection.delete_many(query)\n",
    "print(result.deleted_count)\n"
   ]
  },
  {
   "cell_type": "code",
   "execution_count": null,
   "id": "5ecd6aea-297d-49a1-8641-8cf3dc942fc4",
   "metadata": {},
   "outputs": [],
   "source": [
    "Here's an example of using drop() to drop a collection from a database:"
   ]
  },
  {
   "cell_type": "code",
   "execution_count": null,
   "id": "8f869878-cfa4-4758-b1d5-e6f75fcd0ec0",
   "metadata": {},
   "outputs": [],
   "source": [
    "import pymongo\n",
    "\n",
    "client = pymongo.MongoClient(\"mongodb://localhost:27017/\")\n",
    "db = client[\"mydatabase\"]\n",
    "collection = db[\"mycollection\"]\n",
    "\n",
    "# Drop the collection\n",
    "collection.drop()\n"
   ]
  }
 ],
 "metadata": {
  "kernelspec": {
   "display_name": "Python 3 (ipykernel)",
   "language": "python",
   "name": "python3"
  },
  "language_info": {
   "codemirror_mode": {
    "name": "ipython",
    "version": 3
   },
   "file_extension": ".py",
   "mimetype": "text/x-python",
   "name": "python",
   "nbconvert_exporter": "python",
   "pygments_lexer": "ipython3",
   "version": "3.10.8"
  }
 },
 "nbformat": 4,
 "nbformat_minor": 5
}
