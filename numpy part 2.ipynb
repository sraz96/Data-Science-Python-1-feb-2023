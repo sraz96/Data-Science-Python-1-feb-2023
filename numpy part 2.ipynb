{
 "cells": [
  {
   "cell_type": "code",
   "execution_count": 61,
   "id": "3a3fe540-3334-496a-a54d-a1294559ac76",
   "metadata": {},
   "outputs": [],
   "source": [
    "#numpy array maipulation"
   ]
  },
  {
   "cell_type": "code",
   "execution_count": 62,
   "id": "8187d61f-84b5-4570-9f43-ab78b59d2805",
   "metadata": {},
   "outputs": [],
   "source": [
    "import numpy as np"
   ]
  },
  {
   "cell_type": "code",
   "execution_count": 63,
   "id": "c79d4587-742e-4420-8c41-42edd7ac4897",
   "metadata": {},
   "outputs": [],
   "source": [
    "arr = np.random.randint(1,10,(3,4))"
   ]
  },
  {
   "cell_type": "code",
   "execution_count": 64,
   "id": "2cab0363-b6ef-4148-82dd-8b788025253f",
   "metadata": {},
   "outputs": [
    {
     "data": {
      "text/plain": [
       "array([[4, 7, 5, 8],\n",
       "       [2, 4, 7, 6],\n",
       "       [5, 1, 5, 1]])"
      ]
     },
     "execution_count": 64,
     "metadata": {},
     "output_type": "execute_result"
    }
   ],
   "source": [
    "arr"
   ]
  },
  {
   "cell_type": "code",
   "execution_count": 5,
   "id": "5be26ec2-dfa3-468d-812c-73bee6f18bcd",
   "metadata": {},
   "outputs": [
    {
     "data": {
      "text/plain": [
       "array([[7, 5],\n",
       "       [2, 6],\n",
       "       [7, 5],\n",
       "       [2, 4],\n",
       "       [1, 3],\n",
       "       [4, 7]])"
      ]
     },
     "execution_count": 5,
     "metadata": {},
     "output_type": "execute_result"
    }
   ],
   "source": [
    "arr.reshape(6,2)"
   ]
  },
  {
   "cell_type": "code",
   "execution_count": 7,
   "id": "df64d731-862c-415f-adf7-0b26a6dabb40",
   "metadata": {},
   "outputs": [
    {
     "data": {
      "text/plain": [
       "array([[7, 5, 2, 6, 7, 5],\n",
       "       [2, 4, 1, 3, 4, 7]])"
      ]
     },
     "execution_count": 7,
     "metadata": {},
     "output_type": "execute_result"
    }
   ],
   "source": [
    "arr.reshape(2,6)"
   ]
  },
  {
   "cell_type": "code",
   "execution_count": 9,
   "id": "56ff2334-e223-4bc5-ac36-ed3f67340d7e",
   "metadata": {},
   "outputs": [
    {
     "data": {
      "text/plain": [
       "array([[7, 5, 2, 6, 7, 5],\n",
       "       [2, 4, 1, 3, 4, 7]])"
      ]
     },
     "execution_count": 9,
     "metadata": {},
     "output_type": "execute_result"
    }
   ],
   "source": [
    "arr.reshape(2,-5588454)"
   ]
  },
  {
   "cell_type": "code",
   "execution_count": 10,
   "id": "9ecf863f-c96c-4cd2-9bed-71524a0fa698",
   "metadata": {},
   "outputs": [
    {
     "data": {
      "text/plain": [
       "array([[7, 5, 2, 6],\n",
       "       [7, 5, 2, 4],\n",
       "       [1, 3, 4, 7]])"
      ]
     },
     "execution_count": 10,
     "metadata": {},
     "output_type": "execute_result"
    }
   ],
   "source": [
    "arr "
   ]
  },
  {
   "cell_type": "code",
   "execution_count": 11,
   "id": "b8a640b9-be09-4bbe-b166-62c900705183",
   "metadata": {},
   "outputs": [
    {
     "data": {
      "text/plain": [
       "array([[7, 7, 1],\n",
       "       [5, 5, 3],\n",
       "       [2, 2, 4],\n",
       "       [6, 4, 7]])"
      ]
     },
     "execution_count": 11,
     "metadata": {},
     "output_type": "execute_result"
    }
   ],
   "source": [
    "arr.T"
   ]
  },
  {
   "cell_type": "code",
   "execution_count": 12,
   "id": "67158585-f2ea-4478-a9fd-2f6e5ddb9fcd",
   "metadata": {},
   "outputs": [
    {
     "data": {
      "text/plain": [
       "array([[7, 5, 2, 6],\n",
       "       [7, 5, 2, 4],\n",
       "       [1, 3, 4, 7]])"
      ]
     },
     "execution_count": 12,
     "metadata": {},
     "output_type": "execute_result"
    }
   ],
   "source": [
    "arr"
   ]
  },
  {
   "cell_type": "code",
   "execution_count": 13,
   "id": "8394e018-7f33-404e-905e-1cac49f0c9aa",
   "metadata": {},
   "outputs": [
    {
     "data": {
      "text/plain": [
       "array([7, 5, 2, 6, 7, 5, 2, 4, 1, 3, 4, 7])"
      ]
     },
     "execution_count": 13,
     "metadata": {},
     "output_type": "execute_result"
    }
   ],
   "source": [
    "arr.flatten()"
   ]
  },
  {
   "cell_type": "code",
   "execution_count": 65,
   "id": "d4827a9c-6a80-4c28-a95d-9f0d2fc2f34a",
   "metadata": {},
   "outputs": [],
   "source": [
    "arr1 = np.array([1,2,3,3,4])"
   ]
  },
  {
   "cell_type": "code",
   "execution_count": 15,
   "id": "44e74096-4767-4fcd-93c5-56a2cce37124",
   "metadata": {},
   "outputs": [
    {
     "data": {
      "text/plain": [
       "1"
      ]
     },
     "execution_count": 15,
     "metadata": {},
     "output_type": "execute_result"
    }
   ],
   "source": [
    "arr1.ndim"
   ]
  },
  {
   "cell_type": "code",
   "execution_count": 19,
   "id": "2173c857-b33c-4e07-abaa-c605b72b8d6e",
   "metadata": {},
   "outputs": [
    {
     "data": {
      "text/plain": [
       "array([[1],\n",
       "       [2],\n",
       "       [3],\n",
       "       [3],\n",
       "       [4]])"
      ]
     },
     "execution_count": 19,
     "metadata": {},
     "output_type": "execute_result"
    }
   ],
   "source": [
    "np.expand_dims(arr1 , axis= 1)"
   ]
  },
  {
   "cell_type": "code",
   "execution_count": 20,
   "id": "14d4206e-efe0-4475-9969-a91a8bab825c",
   "metadata": {},
   "outputs": [
    {
     "data": {
      "text/plain": [
       "array([[1, 2, 3, 3, 4]])"
      ]
     },
     "execution_count": 20,
     "metadata": {},
     "output_type": "execute_result"
    }
   ],
   "source": [
    "np.expand_dims(arr1 , axis= 0)"
   ]
  },
  {
   "cell_type": "code",
   "execution_count": 21,
   "id": "36703c6d-a637-49cf-95b4-510e7b0219a3",
   "metadata": {},
   "outputs": [
    {
     "data": {
      "text/plain": [
       "array([[7, 5, 2, 6],\n",
       "       [7, 5, 2, 4],\n",
       "       [1, 3, 4, 7]])"
      ]
     },
     "execution_count": 21,
     "metadata": {},
     "output_type": "execute_result"
    }
   ],
   "source": [
    "arr"
   ]
  },
  {
   "cell_type": "code",
   "execution_count": 22,
   "id": "5aea96c6-013e-4fe2-8d56-f050c1c303e9",
   "metadata": {},
   "outputs": [
    {
     "data": {
      "text/plain": [
       "array([[7, 5, 2, 6],\n",
       "       [7, 5, 2, 4],\n",
       "       [1, 3, 4, 7]])"
      ]
     },
     "execution_count": 22,
     "metadata": {},
     "output_type": "execute_result"
    }
   ],
   "source": [
    "np.squeeze(arr)"
   ]
  },
  {
   "cell_type": "code",
   "execution_count": 23,
   "id": "2d818b14-6a94-4256-b9d6-4658afce20f3",
   "metadata": {},
   "outputs": [],
   "source": [
    "data = np.array([[1],[2],[3]])"
   ]
  },
  {
   "cell_type": "code",
   "execution_count": 24,
   "id": "72182190-4ce3-4cc4-b0ec-ba0673818af8",
   "metadata": {},
   "outputs": [
    {
     "data": {
      "text/plain": [
       "array([[1],\n",
       "       [2],\n",
       "       [3]])"
      ]
     },
     "execution_count": 24,
     "metadata": {},
     "output_type": "execute_result"
    }
   ],
   "source": [
    "data"
   ]
  },
  {
   "cell_type": "code",
   "execution_count": 25,
   "id": "2d975ce5-3505-40a9-99ee-a1ab8abd6b8a",
   "metadata": {},
   "outputs": [
    {
     "data": {
      "text/plain": [
       "array([1, 2, 3])"
      ]
     },
     "execution_count": 25,
     "metadata": {},
     "output_type": "execute_result"
    }
   ],
   "source": [
    "np.squeeze(data)"
   ]
  },
  {
   "cell_type": "code",
   "execution_count": 26,
   "id": "298a1d8f-f0df-45f4-8de1-cdb4257faf09",
   "metadata": {},
   "outputs": [
    {
     "data": {
      "text/plain": [
       "array([1, 2, 3, 3, 4])"
      ]
     },
     "execution_count": 26,
     "metadata": {},
     "output_type": "execute_result"
    }
   ],
   "source": [
    "arr1"
   ]
  },
  {
   "cell_type": "code",
   "execution_count": 27,
   "id": "e7fab3a6-1f75-404d-8f7d-79f525866b01",
   "metadata": {},
   "outputs": [
    {
     "data": {
      "text/plain": [
       "array([1, 1, 1, 2, 2, 2, 3, 3, 3, 3, 3, 3, 4, 4, 4])"
      ]
     },
     "execution_count": 27,
     "metadata": {},
     "output_type": "execute_result"
    }
   ],
   "source": [
    "np.repeat(arr1, 3)"
   ]
  },
  {
   "cell_type": "code",
   "execution_count": 30,
   "id": "5f4e3186-598f-416f-8c0a-14d61132ffd2",
   "metadata": {},
   "outputs": [
    {
     "data": {
      "text/plain": [
       "array([3, 4, 1, 2, 3])"
      ]
     },
     "execution_count": 30,
     "metadata": {},
     "output_type": "execute_result"
    }
   ],
   "source": [
    "np.roll(arr1 , 2)"
   ]
  },
  {
   "cell_type": "code",
   "execution_count": 31,
   "id": "633ac458-b9f8-4427-904a-845e1cfb6c67",
   "metadata": {},
   "outputs": [
    {
     "data": {
      "text/plain": [
       "array([1, 2, 3, 3, 4])"
      ]
     },
     "execution_count": 31,
     "metadata": {},
     "output_type": "execute_result"
    }
   ],
   "source": [
    "arr1"
   ]
  },
  {
   "cell_type": "code",
   "execution_count": 32,
   "id": "f1784483-af99-4eff-a70b-02b0bd418b8b",
   "metadata": {},
   "outputs": [
    {
     "data": {
      "text/plain": [
       "array([[1, 0, 0, 0, 0],\n",
       "       [0, 2, 0, 0, 0],\n",
       "       [0, 0, 3, 0, 0],\n",
       "       [0, 0, 0, 3, 0],\n",
       "       [0, 0, 0, 0, 4]])"
      ]
     },
     "execution_count": 32,
     "metadata": {},
     "output_type": "execute_result"
    }
   ],
   "source": [
    "np.diag(arr1)"
   ]
  },
  {
   "cell_type": "code",
   "execution_count": 33,
   "id": "f0933485-5012-424c-93c4-c4f78adfd56a",
   "metadata": {},
   "outputs": [],
   "source": [
    "#numpy binary operation"
   ]
  },
  {
   "cell_type": "code",
   "execution_count": 67,
   "id": "c8ace950-dd46-4e11-b7cb-aa9588562856",
   "metadata": {},
   "outputs": [],
   "source": [
    "arr1 = np.random.randint(1,10,(3,4))"
   ]
  },
  {
   "cell_type": "code",
   "execution_count": 39,
   "id": "4d9da0bc-8924-456d-9235-f30c2465aac2",
   "metadata": {},
   "outputs": [],
   "source": [
    "arr2 = np.random.randint(1,10,(3,4))"
   ]
  },
  {
   "cell_type": "code",
   "execution_count": 40,
   "id": "ee4447ab-3a29-485e-b8e4-65e29acb08b6",
   "metadata": {},
   "outputs": [
    {
     "data": {
      "text/plain": [
       "array([[2, 3, 1, 9],\n",
       "       [2, 2, 5, 1],\n",
       "       [9, 5, 5, 1]])"
      ]
     },
     "execution_count": 40,
     "metadata": {},
     "output_type": "execute_result"
    }
   ],
   "source": [
    "arr1"
   ]
  },
  {
   "cell_type": "code",
   "execution_count": 41,
   "id": "a797714b-dd0f-4bf3-9eca-84d5cc0c678e",
   "metadata": {},
   "outputs": [
    {
     "data": {
      "text/plain": [
       "array([[7, 9, 5, 5],\n",
       "       [8, 6, 3, 4],\n",
       "       [1, 2, 6, 7]])"
      ]
     },
     "execution_count": 41,
     "metadata": {},
     "output_type": "execute_result"
    }
   ],
   "source": [
    "arr2"
   ]
  },
  {
   "cell_type": "code",
   "execution_count": 42,
   "id": "c22cc4aa-83e1-4dc6-8c37-0f8ff1039942",
   "metadata": {},
   "outputs": [
    {
     "data": {
      "text/plain": [
       "array([[ 9, 12,  6, 14],\n",
       "       [10,  8,  8,  5],\n",
       "       [10,  7, 11,  8]])"
      ]
     },
     "execution_count": 42,
     "metadata": {},
     "output_type": "execute_result"
    }
   ],
   "source": [
    "arr1 + arr2"
   ]
  },
  {
   "cell_type": "code",
   "execution_count": 43,
   "id": "5b7f7737-687b-4478-86ac-f76da88a53ba",
   "metadata": {},
   "outputs": [
    {
     "data": {
      "text/plain": [
       "array([[14, 27,  5, 45],\n",
       "       [16, 12, 15,  4],\n",
       "       [ 9, 10, 30,  7]])"
      ]
     },
     "execution_count": 43,
     "metadata": {},
     "output_type": "execute_result"
    }
   ],
   "source": [
    "arr1 * arr2"
   ]
  },
  {
   "cell_type": "code",
   "execution_count": 44,
   "id": "c9a3252a-ed4d-47d8-9367-d272ccfc7505",
   "metadata": {},
   "outputs": [
    {
     "data": {
      "text/plain": [
       "array([[0.28571429, 0.33333333, 0.2       , 1.8       ],\n",
       "       [0.25      , 0.33333333, 1.66666667, 0.25      ],\n",
       "       [9.        , 2.5       , 0.83333333, 0.14285714]])"
      ]
     },
     "execution_count": 44,
     "metadata": {},
     "output_type": "execute_result"
    }
   ],
   "source": [
    "arr1 / arr2"
   ]
  },
  {
   "cell_type": "code",
   "execution_count": 45,
   "id": "a39ddb8c-2099-4816-a579-647bc3f7da6d",
   "metadata": {},
   "outputs": [
    {
     "data": {
      "text/plain": [
       "array([[-5, -6, -4,  4],\n",
       "       [-6, -4,  2, -3],\n",
       "       [ 8,  3, -1, -6]])"
      ]
     },
     "execution_count": 45,
     "metadata": {},
     "output_type": "execute_result"
    }
   ],
   "source": [
    "arr1 - arr2"
   ]
  },
  {
   "cell_type": "code",
   "execution_count": 46,
   "id": "56553132-9bfd-4150-a050-5b5fe13be40f",
   "metadata": {},
   "outputs": [
    {
     "data": {
      "text/plain": [
       "array([[2, 3, 1, 4],\n",
       "       [2, 2, 2, 1],\n",
       "       [0, 1, 5, 1]])"
      ]
     },
     "execution_count": 46,
     "metadata": {},
     "output_type": "execute_result"
    }
   ],
   "source": [
    "arr1 % arr2"
   ]
  },
  {
   "cell_type": "code",
   "execution_count": 47,
   "id": "ecae0cef-950e-4057-b68a-8aaa0bc925fd",
   "metadata": {},
   "outputs": [
    {
     "data": {
      "text/plain": [
       "array([[  128, 19683,     1, 59049],\n",
       "       [  256,    64,   125,     1],\n",
       "       [    9,    25, 15625,     1]])"
      ]
     },
     "execution_count": 47,
     "metadata": {},
     "output_type": "execute_result"
    }
   ],
   "source": [
    "arr1 ** arr2"
   ]
  },
  {
   "cell_type": "code",
   "execution_count": 48,
   "id": "faa7a169-989f-4cbe-905f-fb8caf27d209",
   "metadata": {},
   "outputs": [
    {
     "data": {
      "text/plain": [
       "array([[2, 1, 1, 1],\n",
       "       [0, 2, 1, 0],\n",
       "       [1, 0, 4, 1]])"
      ]
     },
     "execution_count": 48,
     "metadata": {},
     "output_type": "execute_result"
    }
   ],
   "source": [
    "arr1 & arr2"
   ]
  },
  {
   "cell_type": "code",
   "execution_count": 49,
   "id": "138f1061-4d42-4a44-a770-367cc0a2a706",
   "metadata": {},
   "outputs": [
    {
     "data": {
      "text/plain": [
       "array([[2, 3, 1, 9],\n",
       "       [2, 2, 5, 1],\n",
       "       [9, 5, 5, 1]])"
      ]
     },
     "execution_count": 49,
     "metadata": {},
     "output_type": "execute_result"
    }
   ],
   "source": [
    "arr1"
   ]
  },
  {
   "cell_type": "code",
   "execution_count": 50,
   "id": "9bac09d2-c70e-4087-af32-c492a46f6dc4",
   "metadata": {},
   "outputs": [
    {
     "data": {
      "text/plain": [
       "array([[7, 9, 5, 5],\n",
       "       [8, 6, 3, 4],\n",
       "       [1, 2, 6, 7]])"
      ]
     },
     "execution_count": 50,
     "metadata": {},
     "output_type": "execute_result"
    }
   ],
   "source": [
    "arr2"
   ]
  },
  {
   "cell_type": "code",
   "execution_count": 51,
   "id": "f387f1bd-2aa0-4cd6-b396-445d292959f7",
   "metadata": {},
   "outputs": [
    {
     "data": {
      "text/plain": [
       "array([[-2, -3, -1, -9],\n",
       "       [-2, -2, -5, -1],\n",
       "       [-9, -5, -5, -1]])"
      ]
     },
     "execution_count": 51,
     "metadata": {},
     "output_type": "execute_result"
    }
   ],
   "source": [
    "-arr1"
   ]
  },
  {
   "cell_type": "code",
   "execution_count": 52,
   "id": "c5bae65d-7a70-47fb-b28d-7085a85bb755",
   "metadata": {},
   "outputs": [
    {
     "data": {
      "text/plain": [
       "array([[ 7, 11,  5, 13],\n",
       "       [10,  6,  7,  5],\n",
       "       [ 9,  7,  7,  7]])"
      ]
     },
     "execution_count": 52,
     "metadata": {},
     "output_type": "execute_result"
    }
   ],
   "source": [
    "arr1| arr2"
   ]
  },
  {
   "cell_type": "code",
   "execution_count": 53,
   "id": "ea2b353b-0658-489a-9a39-de671352aabd",
   "metadata": {},
   "outputs": [
    {
     "data": {
      "text/plain": [
       "array([[False, False, False,  True],\n",
       "       [False, False,  True, False],\n",
       "       [ True,  True, False, False]])"
      ]
     },
     "execution_count": 53,
     "metadata": {},
     "output_type": "execute_result"
    }
   ],
   "source": [
    "arr1 > arr2"
   ]
  },
  {
   "cell_type": "code",
   "execution_count": 54,
   "id": "4976228a-fcd0-40dd-906a-99d6110ca1fc",
   "metadata": {},
   "outputs": [],
   "source": [
    "#numpy String function"
   ]
  },
  {
   "cell_type": "code",
   "execution_count": 56,
   "id": "755d3b7d-4dd0-47aa-bca9-c0bc1d072f8a",
   "metadata": {},
   "outputs": [],
   "source": [
    "arr = np.array([\"santosh\" , \"maurya\"])"
   ]
  },
  {
   "cell_type": "code",
   "execution_count": 57,
   "id": "8c586488-b2eb-454b-962d-fbf41f4d0a1f",
   "metadata": {},
   "outputs": [
    {
     "data": {
      "text/plain": [
       "array(['santosh', 'maurya'], dtype='<U7')"
      ]
     },
     "execution_count": 57,
     "metadata": {},
     "output_type": "execute_result"
    }
   ],
   "source": [
    "arr"
   ]
  },
  {
   "cell_type": "code",
   "execution_count": 58,
   "id": "7d9cdfc8-c376-490a-aa2f-a08a0787d977",
   "metadata": {},
   "outputs": [
    {
     "data": {
      "text/plain": [
       "array(['SANTOSH', 'MAURYA'], dtype='<U7')"
      ]
     },
     "execution_count": 58,
     "metadata": {},
     "output_type": "execute_result"
    }
   ],
   "source": [
    "np.char.upper(arr)"
   ]
  },
  {
   "cell_type": "code",
   "execution_count": 59,
   "id": "4bd91a29-3d2e-40a6-9fdf-117cee7f56af",
   "metadata": {},
   "outputs": [
    {
     "data": {
      "text/plain": [
       "array(['Santosh', 'Maurya'], dtype='<U7')"
      ]
     },
     "execution_count": 59,
     "metadata": {},
     "output_type": "execute_result"
    }
   ],
   "source": [
    "np.char.title(arr)"
   ]
  },
  {
   "cell_type": "code",
   "execution_count": 60,
   "id": "2186b49a-09a6-4630-aea8-379e0fdf9703",
   "metadata": {},
   "outputs": [
    {
     "data": {
      "text/plain": [
       "array(['Santosh', 'Maurya'], dtype='<U7')"
      ]
     },
     "execution_count": 60,
     "metadata": {},
     "output_type": "execute_result"
    }
   ],
   "source": [
    "np.char.capitalize(arr)"
   ]
  },
  {
   "cell_type": "code",
   "execution_count": null,
   "id": "cf2cb668-2418-48d0-94bd-773954d4a585",
   "metadata": {},
   "outputs": [],
   "source": [
    "#numpy mathematical Function"
   ]
  },
  {
   "cell_type": "code",
   "execution_count": 68,
   "id": "f568174c-1e3f-4d7c-87a6-8ad5c05cfd3f",
   "metadata": {},
   "outputs": [
    {
     "data": {
      "text/plain": [
       "array([[6, 6, 4, 5],\n",
       "       [4, 1, 6, 1],\n",
       "       [5, 2, 8, 3]])"
      ]
     },
     "execution_count": 68,
     "metadata": {},
     "output_type": "execute_result"
    }
   ],
   "source": [
    "arr1"
   ]
  },
  {
   "cell_type": "code",
   "execution_count": 69,
   "id": "908aa3f5-fdcb-4505-a7b5-4bae7d1b01f3",
   "metadata": {},
   "outputs": [
    {
     "data": {
      "text/plain": [
       "array([[-0.2794155 , -0.2794155 , -0.7568025 , -0.95892427],\n",
       "       [-0.7568025 ,  0.84147098, -0.2794155 ,  0.84147098],\n",
       "       [-0.95892427,  0.90929743,  0.98935825,  0.14112001]])"
      ]
     },
     "execution_count": 69,
     "metadata": {},
     "output_type": "execute_result"
    }
   ],
   "source": [
    "np.sin(arr1)"
   ]
  },
  {
   "cell_type": "code",
   "execution_count": 72,
   "id": "a5c5d601-0249-401b-96fc-48e07062252e",
   "metadata": {},
   "outputs": [
    {
     "data": {
      "text/plain": [
       "array([[ 0.96017029,  0.96017029, -0.65364362,  0.28366219],\n",
       "       [-0.65364362,  0.54030231,  0.96017029,  0.54030231],\n",
       "       [ 0.28366219, -0.41614684, -0.14550003, -0.9899925 ]])"
      ]
     },
     "execution_count": 72,
     "metadata": {},
     "output_type": "execute_result"
    }
   ],
   "source": [
    "np.cos(arr1)"
   ]
  },
  {
   "cell_type": "code",
   "execution_count": 74,
   "id": "4fbdb784-8eea-4785-8a07-6375cbc8f84e",
   "metadata": {},
   "outputs": [
    {
     "data": {
      "text/plain": [
       "array([[-0.29100619, -0.29100619,  1.15782128, -3.38051501],\n",
       "       [ 1.15782128,  1.55740772, -0.29100619,  1.55740772],\n",
       "       [-3.38051501, -2.18503986, -6.79971146, -0.14254654]])"
      ]
     },
     "execution_count": 74,
     "metadata": {},
     "output_type": "execute_result"
    }
   ],
   "source": [
    "np.tan(arr1)"
   ]
  },
  {
   "cell_type": "code",
   "execution_count": 75,
   "id": "93430acf-b0dc-4903-b3a4-e0071c4d6c54",
   "metadata": {},
   "outputs": [
    {
     "data": {
      "text/plain": [
       "array([[0.99998771, 0.99998771, 0.9993293 , 0.9999092 ],\n",
       "       [0.9993293 , 0.76159416, 0.99998771, 0.76159416],\n",
       "       [0.9999092 , 0.96402758, 0.99999977, 0.99505475]])"
      ]
     },
     "execution_count": 75,
     "metadata": {},
     "output_type": "execute_result"
    }
   ],
   "source": [
    "np.tanh(arr1)"
   ]
  },
  {
   "cell_type": "code",
   "execution_count": 76,
   "id": "761c2c8d-7f91-4c11-9136-c8d0b30d141c",
   "metadata": {},
   "outputs": [
    {
     "data": {
      "text/plain": [
       "array([[0.77815125, 0.77815125, 0.60205999, 0.69897   ],\n",
       "       [0.60205999, 0.        , 0.77815125, 0.        ],\n",
       "       [0.69897   , 0.30103   , 0.90308999, 0.47712125]])"
      ]
     },
     "execution_count": 76,
     "metadata": {},
     "output_type": "execute_result"
    }
   ],
   "source": [
    "np.log10(arr1)"
   ]
  },
  {
   "cell_type": "code",
   "execution_count": 77,
   "id": "79ab337e-0d44-40b7-ac6e-24ea4c5463f6",
   "metadata": {},
   "outputs": [
    {
     "data": {
      "text/plain": [
       "array([[4.03428793e+02, 4.03428793e+02, 5.45981500e+01, 1.48413159e+02],\n",
       "       [5.45981500e+01, 2.71828183e+00, 4.03428793e+02, 2.71828183e+00],\n",
       "       [1.48413159e+02, 7.38905610e+00, 2.98095799e+03, 2.00855369e+01]])"
      ]
     },
     "execution_count": 77,
     "metadata": {},
     "output_type": "execute_result"
    }
   ],
   "source": [
    "np.exp(arr1)"
   ]
  },
  {
   "cell_type": "code",
   "execution_count": 78,
   "id": "e7501bf9-65b0-419b-b799-b1d535c8aaa8",
   "metadata": {},
   "outputs": [
    {
     "data": {
      "text/plain": [
       "array([[2.44948974, 2.44948974, 2.        , 2.23606798],\n",
       "       [2.        , 1.        , 2.44948974, 1.        ],\n",
       "       [2.23606798, 1.41421356, 2.82842712, 1.73205081]])"
      ]
     },
     "execution_count": 78,
     "metadata": {},
     "output_type": "execute_result"
    }
   ],
   "source": [
    "np.sqrt(arr1)"
   ]
  },
  {
   "cell_type": "code",
   "execution_count": 79,
   "id": "9d32ace8-69d4-40ee-b60e-590e696a4653",
   "metadata": {},
   "outputs": [
    {
     "data": {
      "text/plain": [
       "array([[36, 36, 16, 25],\n",
       "       [16,  1, 36,  1],\n",
       "       [25,  4, 64,  9]])"
      ]
     },
     "execution_count": 79,
     "metadata": {},
     "output_type": "execute_result"
    }
   ],
   "source": [
    "np.power(arr1, 2)"
   ]
  },
  {
   "cell_type": "code",
   "execution_count": 80,
   "id": "163d3e34-c02d-4e65-b111-c451d2a128ff",
   "metadata": {},
   "outputs": [
    {
     "data": {
      "text/plain": [
       "4.25"
      ]
     },
     "execution_count": 80,
     "metadata": {},
     "output_type": "execute_result"
    }
   ],
   "source": [
    "np.mean(arr1)"
   ]
  },
  {
   "cell_type": "code",
   "execution_count": 81,
   "id": "713db7d7-3efd-4c38-9465-ab154d7c5458",
   "metadata": {},
   "outputs": [
    {
     "data": {
      "text/plain": [
       "1"
      ]
     },
     "execution_count": 81,
     "metadata": {},
     "output_type": "execute_result"
    }
   ],
   "source": [
    "np.min(arr1)"
   ]
  },
  {
   "cell_type": "code",
   "execution_count": 82,
   "id": "ee536746-cf78-49d1-b0e8-894dfafa2505",
   "metadata": {},
   "outputs": [
    {
     "data": {
      "text/plain": [
       "4.5"
      ]
     },
     "execution_count": 82,
     "metadata": {},
     "output_type": "execute_result"
    }
   ],
   "source": [
    "np.median(arr1)"
   ]
  },
  {
   "cell_type": "code",
   "execution_count": 83,
   "id": "54f95086-c8ee-4abf-9c37-4590e41d3f82",
   "metadata": {},
   "outputs": [
    {
     "data": {
      "text/plain": [
       "2.0866640042581523"
      ]
     },
     "execution_count": 83,
     "metadata": {},
     "output_type": "execute_result"
    }
   ],
   "source": [
    "np.std(arr1)"
   ]
  },
  {
   "cell_type": "code",
   "execution_count": 84,
   "id": "1cdc3869-fc2e-4455-a079-de77caf196f5",
   "metadata": {},
   "outputs": [
    {
     "data": {
      "text/plain": [
       "4.354166666666667"
      ]
     },
     "execution_count": 84,
     "metadata": {},
     "output_type": "execute_result"
    }
   ],
   "source": [
    "np.var(arr1)"
   ]
  },
  {
   "cell_type": "code",
   "execution_count": 85,
   "id": "22e4ee9b-9c9b-4fa1-9855-a5eb114f386d",
   "metadata": {},
   "outputs": [
    {
     "data": {
      "text/plain": [
       "8"
      ]
     },
     "execution_count": 85,
     "metadata": {},
     "output_type": "execute_result"
    }
   ],
   "source": [
    "np.max(arr1)"
   ]
  },
  {
   "cell_type": "code",
   "execution_count": null,
   "id": "c490c658-80f1-42f0-869a-d3c8f792d3a9",
   "metadata": {},
   "outputs": [],
   "source": []
  }
 ],
 "metadata": {
  "kernelspec": {
   "display_name": "Python 3 (ipykernel)",
   "language": "python",
   "name": "python3"
  },
  "language_info": {
   "codemirror_mode": {
    "name": "ipython",
    "version": 3
   },
   "file_extension": ".py",
   "mimetype": "text/x-python",
   "name": "python",
   "nbconvert_exporter": "python",
   "pygments_lexer": "ipython3",
   "version": "3.10.8"
  }
 },
 "nbformat": 4,
 "nbformat_minor": 5
}
