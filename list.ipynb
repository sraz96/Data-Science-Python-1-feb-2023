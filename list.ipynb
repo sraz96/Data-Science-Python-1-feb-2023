{
 "cells": [
  {
   "cell_type": "code",
   "execution_count": 1,
   "id": "cd1e90ee-25db-4c0b-8f7c-6e3483b5139b",
   "metadata": {},
   "outputs": [],
   "source": [
    "l=[2,'dddg',(5+8j),True,97,989]"
   ]
  },
  {
   "cell_type": "code",
   "execution_count": 3,
   "id": "8a0c370b-69bd-4107-bf17-5e6a4f3bdb88",
   "metadata": {},
   "outputs": [],
   "source": [
    "l.append(5)"
   ]
  },
  {
   "cell_type": "code",
   "execution_count": 4,
   "id": "a171b2c2-d9cd-41a4-9102-1c140b1c7c09",
   "metadata": {},
   "outputs": [
    {
     "data": {
      "text/plain": [
       "18"
      ]
     },
     "execution_count": 4,
     "metadata": {},
     "output_type": "execute_result"
    }
   ],
   "source": [
    "append(5)9+9"
   ]
  },
  {
   "cell_type": "code",
   "execution_count": 5,
   "id": "03904123-ffea-4375-bfb5-5590faed95e7",
   "metadata": {},
   "outputs": [],
   "source": [
    "l.append(8)"
   ]
  },
  {
   "cell_type": "code",
   "execution_count": 6,
   "id": "4df5b4db-f613-4dc5-bf1a-76cf379fb9c5",
   "metadata": {},
   "outputs": [],
   "source": [
    "l1=[3,45,67]"
   ]
  },
  {
   "cell_type": "code",
   "execution_count": 8,
   "id": "00ef08fa-e1f8-4377-916a-6511331807c5",
   "metadata": {},
   "outputs": [],
   "source": [
    "l.append(l1)"
   ]
  },
  {
   "cell_type": "code",
   "execution_count": 7,
   "id": "f026c169-97cf-4d63-8a7d-1e84a7a83a56",
   "metadata": {},
   "outputs": [
    {
     "name": "stdout",
     "output_type": "stream",
     "text": [
      "I\n",
      "Want\n",
      "To\n",
      "Become\n",
      "A\n",
      "Data\n",
      "Scientist\n"
     ]
    }
   ],
   "source": [
    "s = \"I want to become a data scientist\"\n",
    "\n",
    "for i in s.split():\n",
    "\n",
    "    i.capitalize()\n",
    "\n",
    "    print(i.title())"
   ]
  },
  {
   "cell_type": "code",
   "execution_count": 8,
   "id": "0d802dad-05a9-447c-8a96-c26cf34bb625",
   "metadata": {},
   "outputs": [
    {
     "ename": "TypeError",
     "evalue": "'str' object does not support item assignment",
     "output_type": "error",
     "traceback": [
      "\u001b[0;31m---------------------------------------------------------------------------\u001b[0m",
      "\u001b[0;31mTypeError\u001b[0m                                 Traceback (most recent call last)",
      "Cell \u001b[0;32mIn[8], line 1\u001b[0m\n\u001b[0;32m----> 1\u001b[0m \u001b[38;5;124;43m'\u001b[39;49m\u001b[38;5;124;43mpwskills\u001b[39;49m\u001b[38;5;124;43m'\u001b[39;49m\u001b[43m[\u001b[49m\u001b[38;5;241;43m0\u001b[39;49m\u001b[43m]\u001b[49m\u001b[38;5;241m=\u001b[39m\u001b[38;5;124m'\u001b[39m\u001b[38;5;124mP\u001b[39m\u001b[38;5;124m'\u001b[39m\n",
      "\u001b[0;31mTypeError\u001b[0m: 'str' object does not support item assignment"
     ]
    }
   ],
   "source": [
    "'pwskills'[0]='P'"
   ]
  },
  {
   "cell_type": "code",
   "execution_count": null,
   "id": "e5c06eb2-b5c9-4044-aba8-e61a19d1cbee",
   "metadata": {},
   "outputs": [],
   "source": []
  }
 ],
 "metadata": {
  "kernelspec": {
   "display_name": "Python 3 (ipykernel)",
   "language": "python",
   "name": "python3"
  },
  "language_info": {
   "codemirror_mode": {
    "name": "ipython",
    "version": 3
   },
   "file_extension": ".py",
   "mimetype": "text/x-python",
   "name": "python",
   "nbconvert_exporter": "python",
   "pygments_lexer": "ipython3",
   "version": "3.10.8"
  }
 },
 "nbformat": 4,
 "nbformat_minor": 5
}
