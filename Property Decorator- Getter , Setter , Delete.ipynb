{
 "cells": [
  {
   "cell_type": "code",
   "execution_count": 21,
   "id": "dd0a0af9-c30f-49c5-a2f2-0154debfa93e",
   "metadata": {},
   "outputs": [],
   "source": [
    "class sraz :\n",
    "    \n",
    "    def __init__(self , course_price , course_name) :\n",
    "        \n",
    "        self.__course_price = course_price\n",
    "        self.course_name = course_name\n",
    "        \n",
    "    @property\n",
    "    def course_price_access(self):\n",
    "        return self.__course_price\n",
    "    \n",
    "    @course_price_access.setter\n",
    "    def course_price_set(self , price):\n",
    "        if price <= 3500:\n",
    "            pass\n",
    "        else:\n",
    "            self.__course_price = price\n",
    "            \n",
    "    @course_price_access.deleter\n",
    "    def delete_course_price(self):\n",
    "        del self.__course_price"
   ]
  },
  {
   "cell_type": "code",
   "execution_count": 22,
   "id": "37e5a452-1cce-4e69-b9c4-f2c3616c9a01",
   "metadata": {},
   "outputs": [],
   "source": [
    "sr = sraz(3500 , \"data sience master\")"
   ]
  },
  {
   "cell_type": "code",
   "execution_count": 23,
   "id": "dc0480ff-1d87-4750-8a0f-e2b964ba639f",
   "metadata": {},
   "outputs": [
    {
     "data": {
      "text/plain": [
       "3500"
      ]
     },
     "execution_count": 23,
     "metadata": {},
     "output_type": "execute_result"
    }
   ],
   "source": [
    "sr.course_price_access"
   ]
  },
  {
   "cell_type": "code",
   "execution_count": 25,
   "id": "b96e3312-c1d9-483d-84bd-91ce64f0f6a4",
   "metadata": {},
   "outputs": [
    {
     "ename": "AttributeError",
     "evalue": "_sraz__course_price",
     "output_type": "error",
     "traceback": [
      "\u001b[0;31m---------------------------------------------------------------------------\u001b[0m",
      "\u001b[0;31mAttributeError\u001b[0m                            Traceback (most recent call last)",
      "Cell \u001b[0;32mIn[26], line 1\u001b[0m\n\u001b[0;32m----> 1\u001b[0m \u001b[38;5;28;01mdel\u001b[39;00m sr\u001b[38;5;241m.\u001b[39mdelete_course_price\n",
      "Cell \u001b[0;32mIn[21], line 21\u001b[0m, in \u001b[0;36msraz.delete_course_price\u001b[0;34m(self)\u001b[0m\n\u001b[1;32m     19\u001b[0m \u001b[38;5;129m@course_price_access\u001b[39m\u001b[38;5;241m.\u001b[39mdeleter\n\u001b[1;32m     20\u001b[0m \u001b[38;5;28;01mdef\u001b[39;00m \u001b[38;5;21mdelete_course_price\u001b[39m(\u001b[38;5;28mself\u001b[39m):\n\u001b[0;32m---> 21\u001b[0m     \u001b[38;5;28;01mdel\u001b[39;00m \u001b[38;5;28mself\u001b[39m\u001b[38;5;241m.\u001b[39m__course_price\n",
      "\u001b[0;31mAttributeError\u001b[0m: _sraz__course_price"
     ]
    }
   ],
   "source": [
    "del sr.delete_course_price"
   ]
  },
  {
   "cell_type": "code",
   "execution_count": 14,
   "id": "bdc13c6b-bf12-41a2-a84b-0572550e7eb7",
   "metadata": {},
   "outputs": [
    {
     "ename": "AttributeError",
     "evalue": "'sraz' object has no attribute '_sraz__course_price'",
     "output_type": "error",
     "traceback": [
      "\u001b[0;31m---------------------------------------------------------------------------\u001b[0m",
      "\u001b[0;31mAttributeError\u001b[0m                            Traceback (most recent call last)",
      "Cell \u001b[0;32mIn[27], line 1\u001b[0m\n\u001b[0;32m----> 1\u001b[0m \u001b[43msr\u001b[49m\u001b[38;5;241;43m.\u001b[39;49m\u001b[43mcourse_price_access\u001b[49m\n",
      "Cell \u001b[0;32mIn[21], line 10\u001b[0m, in \u001b[0;36msraz.course_price_access\u001b[0;34m(self)\u001b[0m\n\u001b[1;32m      8\u001b[0m \u001b[38;5;129m@property\u001b[39m\n\u001b[1;32m      9\u001b[0m \u001b[38;5;28;01mdef\u001b[39;00m \u001b[38;5;21mcourse_price_access\u001b[39m(\u001b[38;5;28mself\u001b[39m):\n\u001b[0;32m---> 10\u001b[0m     \u001b[38;5;28;01mreturn\u001b[39;00m \u001b[38;5;28;43mself\u001b[39;49m\u001b[38;5;241;43m.\u001b[39;49m\u001b[43m__course_price\u001b[49m\n",
      "\u001b[0;31mAttributeError\u001b[0m: 'sraz' object has no attribute '_sraz__course_price'"
     ]
    }
   ],
   "source": [
    "sr.course_price_access"
   ]
  },
  {
   "cell_type": "code",
   "execution_count": null,
   "id": "ebe4fb65-4d48-4ecf-8222-611501cc3274",
   "metadata": {},
   "outputs": [],
   "source": []
  },
  {
   "cell_type": "code",
   "execution_count": 15,
   "id": "dec73cf6-42d1-47d5-9ad1-407c6ee95105",
   "metadata": {},
   "outputs": [],
   "source": [
    "sr.course_price_set = 4500"
   ]
  },
  {
   "cell_type": "code",
   "execution_count": 16,
   "id": "fa92df0b-1163-43a9-b43c-7e02eb89d47b",
   "metadata": {},
   "outputs": [
    {
     "data": {
      "text/plain": [
       "4500"
      ]
     },
     "execution_count": 16,
     "metadata": {},
     "output_type": "execute_result"
    }
   ],
   "source": [
    "sr._sraz__course_price"
   ]
  },
  {
   "cell_type": "code",
   "execution_count": 6,
   "id": "0b364bf9-5515-484f-a586-305c0d97e5b4",
   "metadata": {},
   "outputs": [
    {
     "data": {
      "text/plain": [
       "'data sience master'"
      ]
     },
     "execution_count": 6,
     "metadata": {},
     "output_type": "execute_result"
    }
   ],
   "source": [
    "sr.course_name"
   ]
  },
  {
   "cell_type": "code",
   "execution_count": 32,
   "id": "c4369e0b-7edb-4d6c-b078-21457b3eea0b",
   "metadata": {},
   "outputs": [
    {
     "name": "stdout",
     "output_type": "stream",
     "text": [
      "1\n"
     ]
    }
   ],
   "source": [
    "x = [1, 2, 3, 4, 5]\n",
    "\n",
    "for i in x:\n",
    "\n",
    "  if i % 2 == 0:\n",
    "\n",
    "    break\n",
    "\n",
    "  print(i)\n"
   ]
  },
  {
   "cell_type": "code",
   "execution_count": null,
   "id": "eb2b9bed-7683-414a-b554-bde903e75e1a",
   "metadata": {},
   "outputs": [],
   "source": []
  }
 ],
 "metadata": {
  "kernelspec": {
   "display_name": "Python 3 (ipykernel)",
   "language": "python",
   "name": "python3"
  },
  "language_info": {
   "codemirror_mode": {
    "name": "ipython",
    "version": 3
   },
   "file_extension": ".py",
   "mimetype": "text/x-python",
   "name": "python",
   "nbconvert_exporter": "python",
   "pygments_lexer": "ipython3",
   "version": "3.10.8"
  }
 },
 "nbformat": 4,
 "nbformat_minor": 5
}
