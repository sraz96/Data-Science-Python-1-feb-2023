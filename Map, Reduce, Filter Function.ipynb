{
 "cells": [
  {
   "cell_type": "code",
   "execution_count": 8,
   "id": "036bce8e-d3e2-41b8-a56a-9d6ba5ba2be2",
   "metadata": {},
   "outputs": [],
   "source": [
    "l = [2,3,4,5,6]"
   ]
  },
  {
   "cell_type": "code",
   "execution_count": 9,
   "id": "d1709fe2-c5dc-4ef8-af27-18518931fd6a",
   "metadata": {},
   "outputs": [],
   "source": [
    "def test(l):\n",
    "    l1 = []\n",
    "    for i in l:\n",
    "        l1.append(i**2)\n",
    "    return l1"
   ]
  },
  {
   "cell_type": "code",
   "execution_count": 10,
   "id": "df672a72-8c91-4537-831e-b5dd3b7fea52",
   "metadata": {},
   "outputs": [
    {
     "data": {
      "text/plain": [
       "[4, 9, 16, 25, 36]"
      ]
     },
     "execution_count": 10,
     "metadata": {},
     "output_type": "execute_result"
    }
   ],
   "source": [
    "test(l)"
   ]
  },
  {
   "cell_type": "code",
   "execution_count": 11,
   "id": "bb8e8535-3a8e-4394-9a12-2c726aa14d8f",
   "metadata": {},
   "outputs": [],
   "source": [
    "def sq(x):\n",
    "    return x**2"
   ]
  },
  {
   "cell_type": "code",
   "execution_count": 13,
   "id": "ef92f33d-af36-4391-868d-103598c01925",
   "metadata": {},
   "outputs": [
    {
     "data": {
      "text/plain": [
       "[4, 9, 16, 25, 36]"
      ]
     },
     "execution_count": 13,
     "metadata": {},
     "output_type": "execute_result"
    }
   ],
   "source": [
    "list(map(sq , l))"
   ]
  },
  {
   "cell_type": "code",
   "execution_count": 14,
   "id": "e61ce8fd-15c5-486f-8d10-b8aca2a6200a",
   "metadata": {},
   "outputs": [
    {
     "data": {
      "text/plain": [
       "[4, 9, 16, 25, 36]"
      ]
     },
     "execution_count": 14,
     "metadata": {},
     "output_type": "execute_result"
    }
   ],
   "source": [
    "list(map(lambda x : x**2, l))"
   ]
  },
  {
   "cell_type": "code",
   "execution_count": 16,
   "id": "6c7b165a-4092-44d8-a692-6c4dd9086da4",
   "metadata": {},
   "outputs": [
    {
     "data": {
      "text/plain": [
       "[7, 9, 11, 13, 15]"
      ]
     },
     "execution_count": 16,
     "metadata": {},
     "output_type": "execute_result"
    }
   ],
   "source": [
    "l1 = [1,2,3,4,5]\n",
    "l2 = [6,7,8,9,10]\n",
    "list(map(lambda x ,y : x + y , l1 , l2))"
   ]
  },
  {
   "cell_type": "code",
   "execution_count": 17,
   "id": "143c4417-ef53-4572-b9b8-0e87c0624d69",
   "metadata": {},
   "outputs": [],
   "source": [
    "def add(x,y):\n",
    "    return x+y"
   ]
  },
  {
   "cell_type": "code",
   "execution_count": 21,
   "id": "f680a346-e15c-4c6c-b8c8-a9b908ff9e51",
   "metadata": {},
   "outputs": [
    {
     "data": {
      "text/plain": [
       "[7, 9, 11, 13, 15]"
      ]
     },
     "execution_count": 21,
     "metadata": {},
     "output_type": "execute_result"
    }
   ],
   "source": [
    "list(map(add , l1, l2))"
   ]
  },
  {
   "cell_type": "code",
   "execution_count": 23,
   "id": "66ef4777-e506-401c-be13-a7d19614d2f0",
   "metadata": {},
   "outputs": [
    {
     "data": {
      "text/plain": [
       "['P', 'W', 'S', 'K', 'I', 'L', 'L', 'S']"
      ]
     },
     "execution_count": 23,
     "metadata": {},
     "output_type": "execute_result"
    }
   ],
   "source": [
    "s = \"pwskills\"\n",
    "list(map(lambda s : s.upper() ,s))\n"
   ]
  },
  {
   "cell_type": "code",
   "execution_count": 24,
   "id": "e8eb28cb-1e95-4f9c-9b93-f6bdffdaed71",
   "metadata": {},
   "outputs": [],
   "source": [
    "from functools import reduce"
   ]
  },
  {
   "cell_type": "code",
   "execution_count": 25,
   "id": "1bbb122d-4082-4421-93ce-ba4a74b09d3d",
   "metadata": {},
   "outputs": [],
   "source": [
    " l = [1,2,3,4,5]"
   ]
  },
  {
   "cell_type": "code",
   "execution_count": 27,
   "id": "ec86eb8b-ae78-4a8e-a90a-caf367bb2d12",
   "metadata": {},
   "outputs": [
    {
     "data": {
      "text/plain": [
       "15"
      ]
     },
     "execution_count": 27,
     "metadata": {},
     "output_type": "execute_result"
    }
   ],
   "source": [
    "reduce(lambda x, y,: x+y , l)"
   ]
  },
  {
   "cell_type": "code",
   "execution_count": 28,
   "id": "6821570a-e56f-450a-a0b2-279ed6855b07",
   "metadata": {},
   "outputs": [
    {
     "ename": "TypeError",
     "evalue": "reduce() of empty iterable with no initial value",
     "output_type": "error",
     "traceback": [
      "\u001b[0;31m---------------------------------------------------------------------------\u001b[0m",
      "\u001b[0;31mTypeError\u001b[0m                                 Traceback (most recent call last)",
      "Cell \u001b[0;32mIn[28], line 1\u001b[0m\n\u001b[0;32m----> 1\u001b[0m \u001b[43mreduce\u001b[49m\u001b[43m(\u001b[49m\u001b[38;5;28;43;01mlambda\u001b[39;49;00m\u001b[43m \u001b[49m\u001b[43mx\u001b[49m\u001b[43m,\u001b[49m\u001b[43m \u001b[49m\u001b[43my\u001b[49m\u001b[43m,\u001b[49m\u001b[43m:\u001b[49m\u001b[43m \u001b[49m\u001b[43mx\u001b[49m\u001b[38;5;241;43m+\u001b[39;49m\u001b[43my\u001b[49m\u001b[43m \u001b[49m\u001b[43m,\u001b[49m\u001b[43m \u001b[49m\u001b[43m[\u001b[49m\u001b[43m]\u001b[49m\u001b[43m)\u001b[49m\n",
      "\u001b[0;31mTypeError\u001b[0m: reduce() of empty iterable with no initial value"
     ]
    }
   ],
   "source": [
    "reduce(lambda x, y,: x+y , [])"
   ]
  },
  {
   "cell_type": "code",
   "execution_count": 30,
   "id": "9b2c9a89-36fc-47f6-9e71-6867c9445312",
   "metadata": {},
   "outputs": [
    {
     "data": {
      "text/plain": [
       "1"
      ]
     },
     "execution_count": 30,
     "metadata": {},
     "output_type": "execute_result"
    }
   ],
   "source": [
    "reduce(lambda x, y: x+y , [1])"
   ]
  },
  {
   "cell_type": "code",
   "execution_count": 31,
   "id": "a6dc466a-1631-450a-b16f-e257e550ad9b",
   "metadata": {},
   "outputs": [
    {
     "data": {
      "text/plain": [
       "120"
      ]
     },
     "execution_count": 31,
     "metadata": {},
     "output_type": "execute_result"
    }
   ],
   "source": [
    "reduce(lambda x, y : x*y , l)"
   ]
  },
  {
   "cell_type": "code",
   "execution_count": 32,
   "id": "3613cb7a-8d5e-47cd-8e3b-acbeed58ab8e",
   "metadata": {},
   "outputs": [
    {
     "data": {
      "text/plain": [
       "[1, 2, 3, 4, 5]"
      ]
     },
     "execution_count": 32,
     "metadata": {},
     "output_type": "execute_result"
    }
   ],
   "source": [
    "l"
   ]
  },
  {
   "cell_type": "code",
   "execution_count": 33,
   "id": "33c0f834-b7bb-4dff-9987-50cd28f19f92",
   "metadata": {},
   "outputs": [
    {
     "data": {
      "text/plain": [
       "5"
      ]
     },
     "execution_count": 33,
     "metadata": {},
     "output_type": "execute_result"
    }
   ],
   "source": [
    "reduce(lambda x,y : x if x>y else y , l)"
   ]
  },
  {
   "cell_type": "code",
   "execution_count": 34,
   "id": "4d20aeae-83fc-499d-8522-766f4a7d85f7",
   "metadata": {},
   "outputs": [
    {
     "data": {
      "text/plain": [
       "[1, 2, 3, 4, 5]"
      ]
     },
     "execution_count": 34,
     "metadata": {},
     "output_type": "execute_result"
    }
   ],
   "source": [
    "l"
   ]
  },
  {
   "cell_type": "code",
   "execution_count": 35,
   "id": "d73e84e7-ceb4-405a-a723-6e0723e533cd",
   "metadata": {},
   "outputs": [
    {
     "data": {
      "text/plain": [
       "[2, 4]"
      ]
     },
     "execution_count": 35,
     "metadata": {},
     "output_type": "execute_result"
    }
   ],
   "source": [
    "list(filter(lambda x : x%2 == 0 ,l)) "
   ]
  },
  {
   "cell_type": "code",
   "execution_count": 36,
   "id": "623e27c7-4520-49fc-ab15-602eeaf6cafe",
   "metadata": {},
   "outputs": [
    {
     "data": {
      "text/plain": [
       "[1, 3, 5]"
      ]
     },
     "execution_count": 36,
     "metadata": {},
     "output_type": "execute_result"
    }
   ],
   "source": [
    "list(filter(lambda x : x%2 != 0 ,l)) "
   ]
  },
  {
   "cell_type": "code",
   "execution_count": 37,
   "id": "700321a9-f817-4723-a035-f0dcb3a06157",
   "metadata": {},
   "outputs": [],
   "source": [
    "l1 = [-34,456,677,-54,-6]"
   ]
  },
  {
   "cell_type": "code",
   "execution_count": 38,
   "id": "247dacb0-ce26-43e6-b9fe-c871f4f43004",
   "metadata": {},
   "outputs": [
    {
     "data": {
      "text/plain": [
       "[-34, -54, -6]"
      ]
     },
     "execution_count": 38,
     "metadata": {},
     "output_type": "execute_result"
    }
   ],
   "source": [
    "list(filter(lambda x : x<0 , l1))"
   ]
  },
  {
   "cell_type": "code",
   "execution_count": 40,
   "id": "53eee1f9-4d6c-4f72-877b-28e0c7ff2018",
   "metadata": {},
   "outputs": [],
   "source": [
    "l2 = [\"sudjj\",\"pwskills\",\"maurya\",\"bangalore\",\"lucknow\"]"
   ]
  },
  {
   "cell_type": "code",
   "execution_count": 41,
   "id": "a23601c8-95ca-4b31-a308-a83b19f6bad0",
   "metadata": {},
   "outputs": [
    {
     "data": {
      "text/plain": [
       "['sudjj', 'pwskills', 'maurya', 'bangalore', 'lucknow']"
      ]
     },
     "execution_count": 41,
     "metadata": {},
     "output_type": "execute_result"
    }
   ],
   "source": [
    "l2"
   ]
  },
  {
   "cell_type": "code",
   "execution_count": 45,
   "id": "05dc96b6-c912-48c6-81de-86db8f16e53f",
   "metadata": {},
   "outputs": [
    {
     "data": {
      "text/plain": [
       "['sudjj']"
      ]
     },
     "execution_count": 45,
     "metadata": {},
     "output_type": "execute_result"
    }
   ],
   "source": [
    "list(filter(lambda x : len(x) <6 , l2))"
   ]
  },
  {
   "cell_type": "code",
   "execution_count": 46,
   "id": "3d2040d6-acae-4f99-a530-fbf07666069f",
   "metadata": {},
   "outputs": [
    {
     "data": {
      "text/plain": [
       "['pwskills', 'bangalore', 'lucknow']"
      ]
     },
     "execution_count": 47,
     "metadata": {},
     "output_type": "execute_result"
    }
   ],
   "source": [
    "list(filter(lambda x : len(x) >6 , l2))"
   ]
  }
 ],
 "metadata": {
  "kernelspec": {
   "display_name": "Python 3 (ipykernel)",
   "language": "python",
   "name": "python3"
  },
  "language_info": {
   "codemirror_mode": {
    "name": "ipython",
    "version": 3
   },
   "file_extension": ".py",
   "mimetype": "text/x-python",
   "name": "python",
   "nbconvert_exporter": "python",
   "pygments_lexer": "ipython3",
   "version": "3.10.8"
  }
 },
 "nbformat": 4,
 "nbformat_minor": 5
}
