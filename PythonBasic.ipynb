{
 "cells": [
  {
   "cell_type": "code",
   "execution_count": 1,
   "id": "903cbb08-c10f-4fb4-806c-cb26aad090f5",
   "metadata": {},
   "outputs": [
    {
     "data": {
      "text/plain": [
       "2"
      ]
     },
     "execution_count": 1,
     "metadata": {},
     "output_type": "execute_result"
    }
   ],
   "source": [
    "1+1\n"
   ]
  },
  {
   "cell_type": "code",
   "execution_count": 2,
   "id": "2f737341-04fb-4e68-9f2e-e88e00c3bbe4",
   "metadata": {},
   "outputs": [
    {
     "data": {
      "text/plain": [
       "16"
      ]
     },
     "execution_count": 2,
     "metadata": {},
     "output_type": "execute_result"
    }
   ],
   "source": [
    "9+7"
   ]
  },
  {
   "cell_type": "code",
   "execution_count": 3,
   "id": "26dcf939-7dc0-4875-95ac-855e6080d178",
   "metadata": {},
   "outputs": [
    {
     "data": {
      "text/plain": [
       "25"
      ]
     },
     "execution_count": 3,
     "metadata": {},
     "output_type": "execute_result"
    }
   ],
   "source": [
    "5*5"
   ]
  },
  {
   "cell_type": "code",
   "execution_count": 4,
   "id": "d1cc3135-52cc-460c-8039-98bd2c1a38e5",
   "metadata": {},
   "outputs": [],
   "source": [
    "a=10\n"
   ]
  },
  {
   "cell_type": "code",
   "execution_count": 7,
   "id": "7e602674-b05a-4331-8c47-0460dc4ee209",
   "metadata": {},
   "outputs": [],
   "source": [
    "sudh = 50"
   ]
  },
  {
   "cell_type": "code",
   "execution_count": 8,
   "id": "d0844efe-a89d-497c-8ec9-3169ba50609e",
   "metadata": {},
   "outputs": [
    {
     "data": {
      "text/plain": [
       "50"
      ]
     },
     "execution_count": 8,
     "metadata": {},
     "output_type": "execute_result"
    }
   ],
   "source": [
    "sudh\n"
   ]
  },
  {
   "cell_type": "code",
   "execution_count": 9,
   "id": "a1ec5316-2b4e-47b8-a071-be74955e669a",
   "metadata": {},
   "outputs": [
    {
     "data": {
      "text/plain": [
       "60"
      ]
     },
     "execution_count": 9,
     "metadata": {},
     "output_type": "execute_result"
    }
   ],
   "source": [
    "a+sudh"
   ]
  },
  {
   "cell_type": "code",
   "execution_count": 10,
   "id": "ee8d9754-a8ab-454a-a864-917e006aa523",
   "metadata": {},
   "outputs": [
    {
     "data": {
      "text/plain": [
       "int"
      ]
     },
     "execution_count": 10,
     "metadata": {},
     "output_type": "execute_result"
    }
   ],
   "source": [
    "type(a)"
   ]
  },
  {
   "cell_type": "code",
   "execution_count": 11,
   "id": "bed7f44b-f6cd-4968-b750-aaf174af8b6a",
   "metadata": {},
   "outputs": [
    {
     "data": {
      "text/plain": [
       "int"
      ]
     },
     "execution_count": 11,
     "metadata": {},
     "output_type": "execute_result"
    }
   ],
   "source": [
    "type(sudh)"
   ]
  },
  {
   "cell_type": "code",
   "execution_count": 12,
   "id": "21da7a9b-769f-4560-bfb5-22f5599cc922",
   "metadata": {},
   "outputs": [],
   "source": [
    "b=2.09"
   ]
  },
  {
   "cell_type": "code",
   "execution_count": 13,
   "id": "e359c401-8c63-44a2-80d3-42e03de15e08",
   "metadata": {},
   "outputs": [
    {
     "data": {
      "text/plain": [
       "float"
      ]
     },
     "execution_count": 13,
     "metadata": {},
     "output_type": "execute_result"
    }
   ],
   "source": [
    "type(b)"
   ]
  },
  {
   "cell_type": "code",
   "execution_count": 14,
   "id": "811e552f-946f-4c59-9190-1b26944d855d",
   "metadata": {},
   "outputs": [],
   "source": [
    "c=45.88\n"
   ]
  },
  {
   "cell_type": "code",
   "execution_count": 15,
   "id": "245861e2-0f6d-4cb3-861e-d6eedca262ce",
   "metadata": {},
   "outputs": [
    {
     "data": {
      "text/plain": [
       "float"
      ]
     },
     "execution_count": 15,
     "metadata": {},
     "output_type": "execute_result"
    }
   ],
   "source": [
    "type(c)"
   ]
  },
  {
   "cell_type": "code",
   "execution_count": 16,
   "id": "254620eb-652a-4ce5-afae-d90e403e41c1",
   "metadata": {},
   "outputs": [],
   "source": [
    "d=\"Santosh\""
   ]
  },
  {
   "cell_type": "code",
   "execution_count": 17,
   "id": "f931c3fe-72eb-43db-86a3-57eedc105ea0",
   "metadata": {},
   "outputs": [
    {
     "data": {
      "text/plain": [
       "str"
      ]
     },
     "execution_count": 17,
     "metadata": {},
     "output_type": "execute_result"
    }
   ],
   "source": [
    "type(d)"
   ]
  },
  {
   "cell_type": "code",
   "execution_count": 18,
   "id": "e3e45f54-6da2-486e-874d-44a0e085efce",
   "metadata": {},
   "outputs": [],
   "source": [
    "e=\"This is my first tech class\""
   ]
  },
  {
   "cell_type": "code",
   "execution_count": 19,
   "id": "7fd021ac-37d9-4f7b-bfca-59f11f440417",
   "metadata": {},
   "outputs": [
    {
     "data": {
      "text/plain": [
       "str"
      ]
     },
     "execution_count": 19,
     "metadata": {},
     "output_type": "execute_result"
    }
   ],
   "source": [
    "type(e)"
   ]
  },
  {
   "cell_type": "code",
   "execution_count": 20,
   "id": "3352e2e1-d936-453c-98ee-3e9ee3f30525",
   "metadata": {},
   "outputs": [],
   "source": [
    "n=True"
   ]
  },
  {
   "cell_type": "code",
   "execution_count": 21,
   "id": "8b56442c-9d62-41b2-b277-4b0c6f2eec84",
   "metadata": {},
   "outputs": [
    {
     "data": {
      "text/plain": [
       "bool"
      ]
     },
     "execution_count": 21,
     "metadata": {},
     "output_type": "execute_result"
    }
   ],
   "source": [
    "type(n)"
   ]
  },
  {
   "cell_type": "code",
   "execution_count": 23,
   "id": "f913e255-1a74-4822-a572-d5e1c4d787f7",
   "metadata": {},
   "outputs": [],
   "source": [
    "m=False"
   ]
  },
  {
   "cell_type": "code",
   "execution_count": 24,
   "id": "128ae1ee-8dc4-4d39-ac97-eebc5ed2a0c9",
   "metadata": {},
   "outputs": [
    {
     "data": {
      "text/plain": [
       "bool"
      ]
     },
     "execution_count": 24,
     "metadata": {},
     "output_type": "execute_result"
    }
   ],
   "source": [
    "type(m)"
   ]
  },
  {
   "cell_type": "code",
   "execution_count": 25,
   "id": "9585a161-4265-41ed-a18b-e55d858a1e65",
   "metadata": {},
   "outputs": [
    {
     "data": {
      "text/plain": [
       "1"
      ]
     },
     "execution_count": 25,
     "metadata": {},
     "output_type": "execute_result"
    }
   ],
   "source": [
    "n+m"
   ]
  },
  {
   "cell_type": "code",
   "execution_count": 26,
   "id": "15089d72-2d16-4e35-90fa-ddfc24214107",
   "metadata": {},
   "outputs": [
    {
     "data": {
      "text/plain": [
       "1"
      ]
     },
     "execution_count": 26,
     "metadata": {},
     "output_type": "execute_result"
    }
   ],
   "source": [
    "True*True"
   ]
  },
  {
   "cell_type": "code",
   "execution_count": 27,
   "id": "b621a9f7-7783-4201-a951-1086c6072407",
   "metadata": {},
   "outputs": [
    {
     "data": {
      "text/plain": [
       "0"
      ]
     },
     "execution_count": 27,
     "metadata": {},
     "output_type": "execute_result"
    }
   ],
   "source": [
    "True*False"
   ]
  },
  {
   "cell_type": "code",
   "execution_count": 28,
   "id": "ccb56da6-4c19-4c6d-b5a5-27b9a717ce55",
   "metadata": {},
   "outputs": [
    {
     "ename": "ZeroDivisionError",
     "evalue": "division by zero",
     "output_type": "error",
     "traceback": [
      "\u001b[0;31m---------------------------------------------------------------------------\u001b[0m",
      "\u001b[0;31mZeroDivisionError\u001b[0m                         Traceback (most recent call last)",
      "Cell \u001b[0;32mIn[28], line 1\u001b[0m\n\u001b[0;32m----> 1\u001b[0m \u001b[38;5;28;43;01mTrue\u001b[39;49;00m\u001b[38;5;241;43m/\u001b[39;49m\u001b[38;5;28;43;01mFalse\u001b[39;49;00m\n",
      "\u001b[0;31mZeroDivisionError\u001b[0m: division by zero"
     ]
    }
   ],
   "source": [
    "True/False"
   ]
  },
  {
   "cell_type": "code",
   "execution_count": 29,
   "id": "0517d304-f95b-4737-819b-f1c49fdc42dd",
   "metadata": {},
   "outputs": [
    {
     "ename": "ZeroDivisionError",
     "evalue": "division by zero",
     "output_type": "error",
     "traceback": [
      "\u001b[0;31m---------------------------------------------------------------------------\u001b[0m",
      "\u001b[0;31mZeroDivisionError\u001b[0m                         Traceback (most recent call last)",
      "Cell \u001b[0;32mIn[29], line 1\u001b[0m\n\u001b[0;32m----> 1\u001b[0m \u001b[38;5;241;43m1\u001b[39;49m\u001b[38;5;241;43m/\u001b[39;49m\u001b[38;5;241;43m0\u001b[39;49m\n",
      "\u001b[0;31mZeroDivisionError\u001b[0m: division by zero"
     ]
    }
   ],
   "source": [
    "1/0"
   ]
  },
  {
   "cell_type": "code",
   "execution_count": 33,
   "id": "45acdde7-4539-4dca-8833-1bfe57b80a65",
   "metadata": {},
   "outputs": [],
   "source": [
    "v = 5+8j\n"
   ]
  },
  {
   "cell_type": "code",
   "execution_count": 31,
   "id": "ee920bf4-83ba-4d3c-b757-cf4db628f065",
   "metadata": {},
   "outputs": [
    {
     "data": {
      "text/plain": [
       "complex"
      ]
     },
     "execution_count": 31,
     "metadata": {},
     "output_type": "execute_result"
    }
   ],
   "source": [
    "type(v)\n"
   ]
  },
  {
   "cell_type": "code",
   "execution_count": 34,
   "id": "730fd97c-d6b3-43b7-9759-67d0519ba05a",
   "metadata": {},
   "outputs": [
    {
     "data": {
      "text/plain": [
       "5.0"
      ]
     },
     "execution_count": 34,
     "metadata": {},
     "output_type": "execute_result"
    }
   ],
   "source": [
    "v.real"
   ]
  },
  {
   "cell_type": "code",
   "execution_count": 35,
   "id": "b16db227-5df0-459b-bba5-8bef8b6ccd61",
   "metadata": {},
   "outputs": [
    {
     "data": {
      "text/plain": [
       "8.0"
      ]
     },
     "execution_count": 35,
     "metadata": {},
     "output_type": "execute_result"
    }
   ],
   "source": [
    "v.imag"
   ]
  },
  {
   "cell_type": "code",
   "execution_count": 36,
   "id": "04fd6fba-79c0-47b6-981e-4ea7a2378716",
   "metadata": {},
   "outputs": [
    {
     "data": {
      "text/plain": [
       "8.0"
      ]
     },
     "execution_count": 36,
     "metadata": {},
     "output_type": "execute_result"
    }
   ],
   "source": [
    "v.imag"
   ]
  },
  {
   "cell_type": "code",
   "execution_count": 37,
   "id": "6e64e7fc-6659-4081-9258-af7cd14ca563",
   "metadata": {},
   "outputs": [
    {
     "data": {
      "text/plain": [
       "(5+8j)"
      ]
     },
     "execution_count": 37,
     "metadata": {},
     "output_type": "execute_result"
    }
   ],
   "source": [
    "v"
   ]
  },
  {
   "cell_type": "code",
   "execution_count": 38,
   "id": "db705016-ea13-4c17-ab23-29878fa35a81",
   "metadata": {},
   "outputs": [
    {
     "name": "stdout",
     "output_type": "stream",
     "text": [
      "My name is santosh\n"
     ]
    }
   ],
   "source": [
    "print(\"My name is santosh\")"
   ]
  },
  {
   "cell_type": "code",
   "execution_count": 39,
   "id": "7d2c09b0-007c-47c2-9d4a-eb41ae8fc3e2",
   "metadata": {},
   "outputs": [
    {
     "name": "stdout",
     "output_type": "stream",
     "text": [
      "(5+8j)\n"
     ]
    }
   ],
   "source": [
    "print(v)"
   ]
  },
  {
   "cell_type": "code",
   "execution_count": 40,
   "id": "2db41828-f198-4e10-b826-dabc61bc81d1",
   "metadata": {},
   "outputs": [],
   "source": [
    "s = \"PwSkills\""
   ]
  },
  {
   "cell_type": "code",
   "execution_count": 41,
   "id": "8423693c-23a0-464d-a6fe-2da287a31726",
   "metadata": {},
   "outputs": [
    {
     "data": {
      "text/plain": [
       "str"
      ]
     },
     "execution_count": 41,
     "metadata": {},
     "output_type": "execute_result"
    }
   ],
   "source": [
    "type(s)"
   ]
  },
  {
   "cell_type": "code",
   "execution_count": 47,
   "id": "5564c736-7046-4973-910c-5bfe8611b354",
   "metadata": {},
   "outputs": [
    {
     "data": {
      "text/plain": [
       "'P'"
      ]
     },
     "execution_count": 47,
     "metadata": {},
     "output_type": "execute_result"
    }
   ],
   "source": [
    "s[0]"
   ]
  },
  {
   "cell_type": "code",
   "execution_count": 48,
   "id": "92651ec8-836b-4308-be6c-721085f27abc",
   "metadata": {},
   "outputs": [
    {
     "name": "stdout",
     "output_type": "stream",
     "text": [
      "P\n"
     ]
    }
   ],
   "source": [
    "print(s[0])"
   ]
  },
  {
   "cell_type": "code",
   "execution_count": 49,
   "id": "bf38da64-f404-4eff-bbc8-4ed681cda300",
   "metadata": {},
   "outputs": [
    {
     "data": {
      "text/plain": [
       "'S'"
      ]
     },
     "execution_count": 49,
     "metadata": {},
     "output_type": "execute_result"
    }
   ],
   "source": [
    "s[2]\n"
   ]
  },
  {
   "cell_type": "code",
   "execution_count": 50,
   "id": "cd7dbb24-c856-450d-a0f0-e5d3bb777862",
   "metadata": {},
   "outputs": [
    {
     "data": {
      "text/plain": [
       "'k'"
      ]
     },
     "execution_count": 50,
     "metadata": {},
     "output_type": "execute_result"
    }
   ],
   "source": [
    "s[3]"
   ]
  },
  {
   "cell_type": "code",
   "execution_count": 51,
   "id": "2d6856b8-8685-4edc-af63-2989d5aa6489",
   "metadata": {},
   "outputs": [
    {
     "data": {
      "text/plain": [
       "'s'"
      ]
     },
     "execution_count": 51,
     "metadata": {},
     "output_type": "execute_result"
    }
   ],
   "source": [
    "s[-1]"
   ]
  },
  {
   "cell_type": "code",
   "execution_count": 52,
   "id": "12db1c01-0c4f-40aa-9695-419d30b4fd6e",
   "metadata": {},
   "outputs": [
    {
     "data": {
      "text/plain": [
       "'P'"
      ]
     },
     "execution_count": 52,
     "metadata": {},
     "output_type": "execute_result"
    }
   ],
   "source": [
    "s[-8]"
   ]
  },
  {
   "cell_type": "code",
   "execution_count": 53,
   "id": "b58f1c3a-e7cc-4003-9574-0ac69ad83edd",
   "metadata": {},
   "outputs": [
    {
     "data": {
      "text/plain": [
       "'Pw'"
      ]
     },
     "execution_count": 53,
     "metadata": {},
     "output_type": "execute_result"
    }
   ],
   "source": [
    "s[0:2]"
   ]
  },
  {
   "cell_type": "code",
   "execution_count": 54,
   "id": "cb361740-6401-427d-978f-4ec276e0c2a1",
   "metadata": {},
   "outputs": [
    {
     "data": {
      "text/plain": [
       "'PwS'"
      ]
     },
     "execution_count": 54,
     "metadata": {},
     "output_type": "execute_result"
    }
   ],
   "source": [
    "s[0:3] #slicing known "
   ]
  },
  {
   "cell_type": "code",
   "execution_count": 55,
   "id": "ed3a5fbc-4be9-4422-8daa-054cdc554327",
   "metadata": {},
   "outputs": [
    {
     "data": {
      "text/plain": [
       "'PwSki'"
      ]
     },
     "execution_count": 55,
     "metadata": {},
     "output_type": "execute_result"
    }
   ],
   "source": [
    "s[0:5] #by default 1 putted"
   ]
  },
  {
   "cell_type": "code",
   "execution_count": 56,
   "id": "e4de8de9-b639-46ca-b799-38f175c80161",
   "metadata": {},
   "outputs": [
    {
     "data": {
      "text/plain": [
       "'PwSkills'"
      ]
     },
     "execution_count": 56,
     "metadata": {},
     "output_type": "execute_result"
    }
   ],
   "source": [
    "s[0:8:1]"
   ]
  },
  {
   "cell_type": "code",
   "execution_count": 57,
   "id": "7047c624-7528-4aa5-a267-5abd03177663",
   "metadata": {},
   "outputs": [
    {
     "data": {
      "text/plain": [
       "'PSil'"
      ]
     },
     "execution_count": 57,
     "metadata": {},
     "output_type": "execute_result"
    }
   ],
   "source": [
    "s[0:8:2]"
   ]
  },
  {
   "cell_type": "code",
   "execution_count": 58,
   "id": "e6d736b5-ce1b-460d-a2c1-6424c18d4abe",
   "metadata": {},
   "outputs": [
    {
     "data": {
      "text/plain": [
       "'PSil'"
      ]
     },
     "execution_count": 58,
     "metadata": {},
     "output_type": "execute_result"
    }
   ],
   "source": [
    "s[0::2]"
   ]
  },
  {
   "cell_type": "code",
   "execution_count": 60,
   "id": "027c5f9d-9cd6-4576-8387-4c877a919592",
   "metadata": {},
   "outputs": [
    {
     "data": {
      "text/plain": [
       "'Skills'"
      ]
     },
     "execution_count": 60,
     "metadata": {},
     "output_type": "execute_result"
    }
   ],
   "source": [
    "s[2::1]"
   ]
  },
  {
   "cell_type": "code",
   "execution_count": 61,
   "id": "2cff17fc-2f0d-48c8-af93-237dd0a7aec4",
   "metadata": {},
   "outputs": [
    {
     "data": {
      "text/plain": [
       "'sllikSwP'"
      ]
     },
     "execution_count": 61,
     "metadata": {},
     "output_type": "execute_result"
    }
   ],
   "source": [
    "s[::-1] "
   ]
  },
  {
   "cell_type": "code",
   "execution_count": 62,
   "id": "d8e39dd1-a827-4898-8d4d-479e90edf37a",
   "metadata": {},
   "outputs": [
    {
     "data": {
      "text/plain": [
       "''"
      ]
     },
     "execution_count": 62,
     "metadata": {},
     "output_type": "execute_result"
    }
   ],
   "source": [
    "s[2:7:-1] #conflict arrise as same tme because\n",
    "#2 is going to upword "
   ]
  },
  {
   "cell_type": "code",
   "execution_count": 63,
   "id": "62715d08-27a7-4a70-bf25-ef8e0888f5bc",
   "metadata": {},
   "outputs": [
    {
     "data": {
      "text/plain": [
       "''"
      ]
     },
     "execution_count": 63,
     "metadata": {},
     "output_type": "execute_result"
    }
   ],
   "source": [
    "s[8:0] #here 1 behave as +1 thats why conflict create"
   ]
  },
  {
   "cell_type": "code",
   "execution_count": 64,
   "id": "2b424fa0-fb60-46f7-b0c5-740bb9a50b91",
   "metadata": {},
   "outputs": [
    {
     "data": {
      "text/plain": [
       "'sllikSw'"
      ]
     },
     "execution_count": 64,
     "metadata": {},
     "output_type": "execute_result"
    }
   ],
   "source": [
    "s[8:0:-1]"
   ]
  },
  {
   "cell_type": "code",
   "execution_count": 65,
   "id": "c11a2cb8-fde5-4089-bf77-d3d12342d93b",
   "metadata": {},
   "outputs": [
    {
     "data": {
      "text/plain": [
       "'llikSw'"
      ]
     },
     "execution_count": 65,
     "metadata": {},
     "output_type": "execute_result"
    }
   ],
   "source": [
    "s[-2:-8:-1]"
   ]
  },
  {
   "cell_type": "code",
   "execution_count": 66,
   "id": "3fc6e885-ad79-4865-978b-2cb031a32ee4",
   "metadata": {},
   "outputs": [
    {
     "data": {
      "text/plain": [
       "''"
      ]
     },
     "execution_count": 66,
     "metadata": {},
     "output_type": "execute_result"
    }
   ],
   "source": [
    "s[-2:-8:1]"
   ]
  },
  {
   "cell_type": "code",
   "execution_count": 67,
   "id": "49f41c5c-759c-44de-8d00-02164bc606d4",
   "metadata": {},
   "outputs": [
    {
     "data": {
      "text/plain": [
       "'sllikSwP'"
      ]
     },
     "execution_count": 67,
     "metadata": {},
     "output_type": "execute_result"
    }
   ],
   "source": [
    "s[::-1]"
   ]
  },
  {
   "cell_type": "code",
   "execution_count": 68,
   "id": "7f994d7b-2194-4935-898f-52e9c5f67821",
   "metadata": {},
   "outputs": [
    {
     "data": {
      "text/plain": [
       "'PwSkills'"
      ]
     },
     "execution_count": 68,
     "metadata": {},
     "output_type": "execute_result"
    }
   ],
   "source": [
    "s[::]"
   ]
  },
  {
   "cell_type": "code",
   "execution_count": 69,
   "id": "87dc331d-bb3d-42d6-90f6-486b8c013b6c",
   "metadata": {},
   "outputs": [],
   "source": [
    "c = 200\n"
   ]
  },
  {
   "cell_type": "code",
   "execution_count": 72,
   "id": "259cda2f-4f4a-486b-94b3-626e98fbf929",
   "metadata": {},
   "outputs": [],
   "source": [
    "s1 = \"this is my string class\""
   ]
  },
  {
   "cell_type": "code",
   "execution_count": 74,
   "id": "fa433b5f-26a9-422e-b2dd-bbe3ca2e9ad4",
   "metadata": {},
   "outputs": [
    {
     "data": {
      "text/plain": [
       "23"
      ]
     },
     "execution_count": 74,
     "metadata": {},
     "output_type": "execute_result"
    }
   ],
   "source": [
    "len(s1)"
   ]
  },
  {
   "cell_type": "code",
   "execution_count": 75,
   "id": "a9dc3222-df2a-4a21-bc13-d325157cad73",
   "metadata": {},
   "outputs": [
    {
     "data": {
      "text/plain": [
       "3"
      ]
     },
     "execution_count": 75,
     "metadata": {},
     "output_type": "execute_result"
    }
   ],
   "source": [
    "s1.find('s')"
   ]
  },
  {
   "cell_type": "code",
   "execution_count": 76,
   "id": "7579bfc0-796c-4127-9f57-503b457d3c28",
   "metadata": {},
   "outputs": [
    {
     "data": {
      "text/plain": [
       "13"
      ]
     },
     "execution_count": 76,
     "metadata": {},
     "output_type": "execute_result"
    }
   ],
   "source": [
    "s1.find('r')"
   ]
  },
  {
   "cell_type": "code",
   "execution_count": 77,
   "id": "cdd1d39c-e9f4-43e9-9ab2-50654e71581e",
   "metadata": {},
   "outputs": [
    {
     "data": {
      "text/plain": [
       "-1"
      ]
     },
     "execution_count": 77,
     "metadata": {},
     "output_type": "execute_result"
    }
   ],
   "source": [
    "s1.find('z')"
   ]
  },
  {
   "cell_type": "code",
   "execution_count": 78,
   "id": "3dbfc539-dfb3-41ea-88f6-2fa06bbbde8a",
   "metadata": {},
   "outputs": [
    {
     "data": {
      "text/plain": [
       "0"
      ]
     },
     "execution_count": 78,
     "metadata": {},
     "output_type": "execute_result"
    }
   ],
   "source": [
    "s1.count('z')"
   ]
  },
  {
   "cell_type": "code",
   "execution_count": 79,
   "id": "c6d3e19a-65a9-4886-925e-9b15aba8606d",
   "metadata": {},
   "outputs": [
    {
     "data": {
      "text/plain": [
       "'THIS IS MY STRING CLASS'"
      ]
     },
     "execution_count": 79,
     "metadata": {},
     "output_type": "execute_result"
    }
   ],
   "source": [
    "s1.upper()"
   ]
  },
  {
   "cell_type": "code",
   "execution_count": 80,
   "id": "42b67e31-31ee-4d69-bc65-28c2cfe8dd5c",
   "metadata": {},
   "outputs": [
    {
     "data": {
      "text/plain": [
       "'this is my string class'"
      ]
     },
     "execution_count": 80,
     "metadata": {},
     "output_type": "execute_result"
    }
   ],
   "source": [
    "s1.lower()"
   ]
  },
  {
   "cell_type": "code",
   "execution_count": 81,
   "id": "57af7b90-00ae-48f0-b955-c3bcf756d93d",
   "metadata": {},
   "outputs": [
    {
     "data": {
      "text/plain": [
       "'This Is My String Class'"
      ]
     },
     "execution_count": 81,
     "metadata": {},
     "output_type": "execute_result"
    }
   ],
   "source": [
    "s1.title()\n"
   ]
  },
  {
   "cell_type": "code",
   "execution_count": 83,
   "id": "efb92d6a-fcaf-4d4a-b428-d6de1e5203bb",
   "metadata": {},
   "outputs": [
    {
     "data": {
      "text/plain": [
       "'This is my string class'"
      ]
     },
     "execution_count": 83,
     "metadata": {},
     "output_type": "execute_result"
    }
   ],
   "source": [
    "s1.capitalize()"
   ]
  },
  {
   "cell_type": "code",
   "execution_count": 84,
   "id": "91639545-99c6-48f7-a470-0e3c58ae75c0",
   "metadata": {},
   "outputs": [],
   "source": [
    "s = \"pwskills\""
   ]
  },
  {
   "cell_type": "code",
   "execution_count": 86,
   "id": "2403d0a2-f0c4-4d2e-91b4-23f854a4ad28",
   "metadata": {},
   "outputs": [
    {
     "data": {
      "text/plain": [
       "'pwskillsdhfdshfjhdj'"
      ]
     },
     "execution_count": 86,
     "metadata": {},
     "output_type": "execute_result"
    }
   ],
   "source": [
    "s+\"dhfdshfjhdj\""
   ]
  },
  {
   "cell_type": "code",
   "execution_count": 4,
   "id": "09836919-cb6f-42bc-a3cc-52ba86a2d1dd",
   "metadata": {},
   "outputs": [
    {
     "ename": "NameError",
     "evalue": "name 's' is not defined",
     "output_type": "error",
     "traceback": [
      "\u001b[0;31m---------------------------------------------------------------------------\u001b[0m",
      "\u001b[0;31mNameError\u001b[0m                                 Traceback (most recent call last)",
      "Cell \u001b[0;32mIn[4], line 1\u001b[0m\n\u001b[0;32m----> 1\u001b[0m \u001b[43ms\u001b[49m\u001b[38;5;241m+\u001b[39m\u001b[38;5;28mstr\u001b[39m(\u001b[38;5;241m2\u001b[39m)\n",
      "\u001b[0;31mNameError\u001b[0m: name 's' is not defined"
     ]
    }
   ],
   "source": [
    "s+str(2)"
   ]
  },
  {
   "cell_type": "code",
   "execution_count": 89,
   "id": "b19e164a-aff6-412d-93ca-711a68c1231e",
   "metadata": {},
   "outputs": [
    {
     "data": {
      "text/plain": [
       "'santoshsantoshsantoshsantosh'"
      ]
     },
     "execution_count": 89,
     "metadata": {},
     "output_type": "execute_result"
    }
   ],
   "source": [
    "'santosh'*4"
   ]
  },
  {
   "cell_type": "code",
   "execution_count": 90,
   "id": "ad0b351b-73b0-4d80-ae39-362dd6bb9414",
   "metadata": {},
   "outputs": [
    {
     "ename": "SyntaxError",
     "evalue": "unterminated string literal (detected at line 1) (1811489030.py, line 1)",
     "output_type": "error",
     "traceback": [
      "\u001b[0;36m  Cell \u001b[0;32mIn[90], line 1\u001b[0;36m\u001b[0m\n\u001b[0;31m    'don't do copy and paste in my class'\u001b[0m\n\u001b[0m                                        ^\u001b[0m\n\u001b[0;31mSyntaxError\u001b[0m\u001b[0;31m:\u001b[0m unterminated string literal (detected at line 1)\n"
     ]
    }
   ],
   "source": [
    "'don't do copy and paste in my class'"
   ]
  },
  {
   "cell_type": "code",
   "execution_count": 91,
   "id": "5dbc6661-8bec-477e-a4fe-8fedcfa04252",
   "metadata": {},
   "outputs": [
    {
     "data": {
      "text/plain": [
       "'dont do copy and paste in my class'"
      ]
     },
     "execution_count": 91,
     "metadata": {},
     "output_type": "execute_result"
    }
   ],
   "source": [
    "'dont do copy and paste in my class'"
   ]
  },
  {
   "cell_type": "code",
   "execution_count": 93,
   "id": "d64ff83e-a0c6-438e-9a33-5f5fc7481f4b",
   "metadata": {},
   "outputs": [
    {
     "data": {
      "text/plain": [
       "'jffhjfhjhfdjkhf\\nkfkjdifdiofidhiodh\\ndpihiodhfuohfuod'"
      ]
     },
     "execution_count": 93,
     "metadata": {},
     "output_type": "execute_result"
    }
   ],
   "source": [
    "# \"\"\"jffhjfhjhfdjkhf\n",
    "# kfkjdifdiofidhiodh\n",
    "# dpihiodhfuohfuod\"\"\""
   ]
  },
  {
   "cell_type": "code",
   "execution_count": 1,
   "id": "f9799c64-8ede-4b8b-9f7f-f2e84ac11f5e",
   "metadata": {},
   "outputs": [
    {
     "ename": "NameError",
     "evalue": "name 'l' is not defined",
     "output_type": "error",
     "traceback": [
      "\u001b[0;31m---------------------------------------------------------------------------\u001b[0m",
      "\u001b[0;31mNameError\u001b[0m                                 Traceback (most recent call last)",
      "Cell \u001b[0;32mIn[1], line 1\u001b[0m\n\u001b[0;32m----> 1\u001b[0m \u001b[43ml\u001b[49m[\u001b[38;5;241m90\u001b[39m]\n",
      "\u001b[0;31mNameError\u001b[0m: name 'l' is not defined"
     ]
    }
   ],
   "source": [
    "l[90]"
   ]
  },
  {
   "cell_type": "code",
   "execution_count": 2,
   "id": "2fbc5b26-7cfe-4d06-b19f-75271910c07e",
   "metadata": {},
   "outputs": [],
   "source": [
    "l = [345,1,45,'sant', True , (5+7j), 345 , 654 ]"
   ]
  },
  {
   "cell_type": "code",
   "execution_count": 3,
   "id": "10570bb4-d622-4192-b962-36ec41b50fb7",
   "metadata": {},
   "outputs": [
    {
     "data": {
      "text/plain": [
       "345"
      ]
     },
     "execution_count": 3,
     "metadata": {},
     "output_type": "execute_result"
    }
   ],
   "source": [
    "l[0]"
   ]
  },
  {
   "cell_type": "code",
   "execution_count": 4,
   "id": "1d7a70de-397d-4979-a3b4-9c3d6ce88381",
   "metadata": {},
   "outputs": [
    {
     "data": {
      "text/plain": [
       "[345, 45, True, 345]"
      ]
     },
     "execution_count": 4,
     "metadata": {},
     "output_type": "execute_result"
    }
   ],
   "source": [
    "l[::2]"
   ]
  },
  {
   "cell_type": "code",
   "execution_count": 5,
   "id": "2dfc9cad-bac7-42fb-9db3-0679299198e9",
   "metadata": {},
   "outputs": [
    {
     "data": {
      "text/plain": [
       "654"
      ]
     },
     "execution_count": 5,
     "metadata": {},
     "output_type": "execute_result"
    }
   ],
   "source": [
    "l[-1]"
   ]
  },
  {
   "cell_type": "code",
   "execution_count": 6,
   "id": "9df57dc8-c8ab-4869-aea5-779c2bcc8e7f",
   "metadata": {},
   "outputs": [
    {
     "data": {
      "text/plain": [
       "[654, 345, (5+7j), True, 'sant', 45, 1, 345]"
      ]
     },
     "execution_count": 6,
     "metadata": {},
     "output_type": "execute_result"
    }
   ],
   "source": [
    "l[::-1]"
   ]
  },
  {
   "cell_type": "code",
   "execution_count": 18,
   "id": "8d65c9f5-a758-4402-8d37-175224ee1b80",
   "metadata": {},
   "outputs": [
    {
     "data": {
      "text/plain": [
       "'sllikswp'"
      ]
     },
     "execution_count": 18,
     "metadata": {},
     "output_type": "execute_result"
    }
   ],
   "source": [
    "l[::-1]"
   ]
  },
  {
   "cell_type": "code",
   "execution_count": 19,
   "id": "3a4d1614-0464-4e55-9a6e-274b14a35ff7",
   "metadata": {},
   "outputs": [],
   "source": [
    "l1 = [3,4,6]"
   ]
  },
  {
   "cell_type": "code",
   "execution_count": 20,
   "id": "c149fbf6-655d-4dba-a840-4ac3e62e15e1",
   "metadata": {},
   "outputs": [
    {
     "ename": "TypeError",
     "evalue": "can only concatenate str (not \"list\") to str",
     "output_type": "error",
     "traceback": [
      "\u001b[0;31m---------------------------------------------------------------------------\u001b[0m",
      "\u001b[0;31mTypeError\u001b[0m                                 Traceback (most recent call last)",
      "Cell \u001b[0;32mIn[20], line 1\u001b[0m\n\u001b[0;32m----> 1\u001b[0m \u001b[43ml\u001b[49m\u001b[38;5;241;43m+\u001b[39;49m\u001b[43ml1\u001b[49m\n",
      "\u001b[0;31mTypeError\u001b[0m: can only concatenate str (not \"list\") to str"
     ]
    }
   ],
   "source": [
    "l+l1"
   ]
  },
  {
   "cell_type": "code",
   "execution_count": 21,
   "id": "9b6b67d4-24e6-4670-9a51-b4de43aa25a3",
   "metadata": {},
   "outputs": [],
   "source": [
    "l=[2,'dddg',(5+8j),True,97,989]"
   ]
  },
  {
   "cell_type": "code",
   "execution_count": 22,
   "id": "ad84f5ef-92dc-4b20-ae4a-d2c490c02431",
   "metadata": {},
   "outputs": [],
   "source": [
    "l1=[3,45,67]"
   ]
  },
  {
   "cell_type": "code",
   "execution_count": 23,
   "id": "18d58c0a-e961-408b-8928-4e60f3e23cf7",
   "metadata": {},
   "outputs": [],
   "source": [
    "l.append(l1)"
   ]
  },
  {
   "cell_type": "code",
   "execution_count": 24,
   "id": "64e8f40a-4f2f-4f5a-be5c-a93405e6ff1e",
   "metadata": {},
   "outputs": [
    {
     "data": {
      "text/plain": [
       "18"
      ]
     },
     "execution_count": 24,
     "metadata": {},
     "output_type": "execute_result"
    }
   ],
   "source": [
    "9+9"
   ]
  },
  {
   "cell_type": "code",
   "execution_count": 25,
   "id": "c262686d-7602-4923-bd0e-d6c8842b5bd7",
   "metadata": {},
   "outputs": [
    {
     "data": {
      "text/plain": [
       "[2, 'dddg', (5+8j), True, 97, 989, [3, 45, 67]]"
      ]
     },
     "execution_count": 25,
     "metadata": {},
     "output_type": "execute_result"
    }
   ],
   "source": [
    "l"
   ]
  },
  {
   "cell_type": "code",
   "execution_count": 28,
   "id": "4bc4389e-c218-4a2f-82f0-e74dac987f2b",
   "metadata": {},
   "outputs": [
    {
     "ename": "TypeError",
     "evalue": "'int' object is not iterable",
     "output_type": "error",
     "traceback": [
      "\u001b[0;31m---------------------------------------------------------------------------\u001b[0m",
      "\u001b[0;31mTypeError\u001b[0m                                 Traceback (most recent call last)",
      "Cell \u001b[0;32mIn[28], line 1\u001b[0m\n\u001b[0;32m----> 1\u001b[0m \u001b[43ml\u001b[49m\u001b[38;5;241;43m.\u001b[39;49m\u001b[43mextend\u001b[49m\u001b[43m(\u001b[49m\u001b[38;5;241;43m4\u001b[39;49m\u001b[43m)\u001b[49m\n",
      "\u001b[0;31mTypeError\u001b[0m: 'int' object is not iterable"
     ]
    }
   ],
   "source": [
    "l.extend(4)\n"
   ]
  },
  {
   "cell_type": "code",
   "execution_count": 29,
   "id": "4c4b12c6-cf14-41cd-a8b8-6ac98de6ef24",
   "metadata": {},
   "outputs": [],
   "source": [
    "l.extend(\"sudh\")"
   ]
  },
  {
   "cell_type": "code",
   "execution_count": 30,
   "id": "b7592cea-35d8-4792-94e9-02d04cef59cf",
   "metadata": {},
   "outputs": [
    {
     "data": {
      "text/plain": [
       "[2, 'dddg', (5+8j), True, 97, 989, [3, 45, 67], 's', 'u', 'd', 'h']"
      ]
     },
     "execution_count": 30,
     "metadata": {},
     "output_type": "execute_result"
    }
   ],
   "source": [
    "l"
   ]
  },
  {
   "cell_type": "code",
   "execution_count": 32,
   "id": "99ea52e7-54d2-45e4-b8e1-716e1fe52940",
   "metadata": {},
   "outputs": [],
   "source": [
    "l.insert(1,\"sudh\")"
   ]
  },
  {
   "cell_type": "code",
   "execution_count": 33,
   "id": "a5f7fb71-a020-4118-9c11-e520ec909336",
   "metadata": {},
   "outputs": [
    {
     "data": {
      "text/plain": [
       "[2,\n",
       " 'sudh',\n",
       " 'sudh',\n",
       " 'dddg',\n",
       " (5+8j),\n",
       " True,\n",
       " 97,\n",
       " 989,\n",
       " [3, 45, 67],\n",
       " 's',\n",
       " 'u',\n",
       " 'd',\n",
       " 'h']"
      ]
     },
     "execution_count": 33,
     "metadata": {},
     "output_type": "execute_result"
    }
   ],
   "source": [
    "l"
   ]
  },
  {
   "cell_type": "code",
   "execution_count": 34,
   "id": "91e79081-81d1-44c7-bef2-19965ecdd2e4",
   "metadata": {},
   "outputs": [
    {
     "data": {
      "text/plain": [
       "[3, 45, 67]"
      ]
     },
     "execution_count": 34,
     "metadata": {},
     "output_type": "execute_result"
    }
   ],
   "source": [
    "l1"
   ]
  },
  {
   "cell_type": "code",
   "execution_count": 40,
   "id": "2770d30b-6fa1-4a2a-93d5-e9b0f1557b53",
   "metadata": {},
   "outputs": [],
   "source": [
    "l1=l1[::-1]"
   ]
  },
  {
   "cell_type": "code",
   "execution_count": 36,
   "id": "deab1bee-b8af-43b4-a7ef-6e2bebe7d62f",
   "metadata": {},
   "outputs": [],
   "source": [
    "l1.reverse()"
   ]
  },
  {
   "cell_type": "code",
   "execution_count": 37,
   "id": "7360838c-e9b5-440b-8ec9-a6eeb4774328",
   "metadata": {},
   "outputs": [
    {
     "data": {
      "text/plain": [
       "[67, 45, 3]"
      ]
     },
     "execution_count": 37,
     "metadata": {},
     "output_type": "execute_result"
    }
   ],
   "source": [
    "l1\n"
   ]
  },
  {
   "cell_type": "code",
   "execution_count": 38,
   "id": "fda1a41f-789a-4e88-9c3f-7e9fd04fadeb",
   "metadata": {},
   "outputs": [],
   "source": [
    "l1.append(\"sudh\")"
   ]
  },
  {
   "cell_type": "code",
   "execution_count": 39,
   "id": "7cc84a02-5a5b-4d88-a5bc-fe7981509cdc",
   "metadata": {},
   "outputs": [
    {
     "data": {
      "text/plain": [
       "[67, 45, 3, 'sudh']"
      ]
     },
     "execution_count": 39,
     "metadata": {},
     "output_type": "execute_result"
    }
   ],
   "source": [
    "l1"
   ]
  },
  {
   "cell_type": "code",
   "execution_count": 41,
   "id": "267115e3-f4e7-42c2-9b29-335ffa3dfca2",
   "metadata": {},
   "outputs": [
    {
     "data": {
      "text/plain": [
       "['sudh', 3, 45, 67]"
      ]
     },
     "execution_count": 41,
     "metadata": {},
     "output_type": "execute_result"
    }
   ],
   "source": [
    "l1"
   ]
  },
  {
   "cell_type": "code",
   "execution_count": 42,
   "id": "9ebcf2df-0227-4409-8412-2f69f86fc0e9",
   "metadata": {},
   "outputs": [
    {
     "ename": "TypeError",
     "evalue": "'<' not supported between instances of 'int' and 'str'",
     "output_type": "error",
     "traceback": [
      "\u001b[0;31m---------------------------------------------------------------------------\u001b[0m",
      "\u001b[0;31mTypeError\u001b[0m                                 Traceback (most recent call last)",
      "Cell \u001b[0;32mIn[42], line 1\u001b[0m\n\u001b[0;32m----> 1\u001b[0m \u001b[43ml1\u001b[49m\u001b[38;5;241;43m.\u001b[39;49m\u001b[43msort\u001b[49m\u001b[43m(\u001b[49m\u001b[43m)\u001b[49m\n",
      "\u001b[0;31mTypeError\u001b[0m: '<' not supported between instances of 'int' and 'str'"
     ]
    }
   ],
   "source": [
    "l1.sort()\n"
   ]
  },
  {
   "cell_type": "code",
   "execution_count": 46,
   "id": "15697244-a3c9-43d8-9be8-a35a0e02f887",
   "metadata": {},
   "outputs": [
    {
     "ename": "SyntaxError",
     "evalue": "invalid syntax. Perhaps you forgot a comma? (232319225.py, line 1)",
     "output_type": "error",
     "traceback": [
      "\u001b[0;36m  Cell \u001b[0;32mIn[46], line 1\u001b[0;36m\u001b[0m\n\u001b[0;31m    l2= [3,4,5,89.0.93.6,7,45,6,555]\u001b[0m\n\u001b[0m               ^\u001b[0m\n\u001b[0;31mSyntaxError\u001b[0m\u001b[0;31m:\u001b[0m invalid syntax. Perhaps you forgot a comma?\n"
     ]
    }
   ],
   "source": [
    "l2= [3,4,5,89.0.93.6,7,45,6,555]"
   ]
  },
  {
   "cell_type": "code",
   "execution_count": 47,
   "id": "c69f382a-971c-4d03-a63b-190a5e6bd549",
   "metadata": {},
   "outputs": [],
   "source": [
    "l2.sort()"
   ]
  },
  {
   "cell_type": "code",
   "execution_count": 48,
   "id": "45e20856-4429-45c8-ac8b-40a35da55bdd",
   "metadata": {},
   "outputs": [
    {
     "data": {
      "text/plain": [
       "[3, 4, 5, 6, 6, 7, 45, 555]"
      ]
     },
     "execution_count": 48,
     "metadata": {},
     "output_type": "execute_result"
    }
   ],
   "source": [
    "l2"
   ]
  },
  {
   "cell_type": "code",
   "execution_count": 49,
   "id": "80afbd1a-646a-4e48-ac21-142f64bf9038",
   "metadata": {},
   "outputs": [
    {
     "data": {
      "text/plain": [
       "[3, 4, 5, 6, 6, 7, 45, 555]"
      ]
     },
     "execution_count": 49,
     "metadata": {},
     "output_type": "execute_result"
    }
   ],
   "source": [
    "l2\n"
   ]
  },
  {
   "cell_type": "code",
   "execution_count": 50,
   "id": "325d898f-6042-49f8-91f8-7c1b9cb98c22",
   "metadata": {},
   "outputs": [],
   "source": [
    "l3 = [45,\"sant\",7587,8374]"
   ]
  },
  {
   "cell_type": "code",
   "execution_count": 51,
   "id": "b8e316e1-81c7-4173-95f4-e3b252d10142",
   "metadata": {},
   "outputs": [
    {
     "ename": "TypeError",
     "evalue": "'<' not supported between instances of 'str' and 'int'",
     "output_type": "error",
     "traceback": [
      "\u001b[0;31m---------------------------------------------------------------------------\u001b[0m",
      "\u001b[0;31mTypeError\u001b[0m                                 Traceback (most recent call last)",
      "Cell \u001b[0;32mIn[51], line 1\u001b[0m\n\u001b[0;32m----> 1\u001b[0m \u001b[43ml3\u001b[49m\u001b[38;5;241;43m.\u001b[39;49m\u001b[43msort\u001b[49m\u001b[43m(\u001b[49m\u001b[43m)\u001b[49m\n",
      "\u001b[0;31mTypeError\u001b[0m: '<' not supported between instances of 'str' and 'int'"
     ]
    }
   ],
   "source": [
    "l3.sort()"
   ]
  },
  {
   "cell_type": "code",
   "execution_count": 52,
   "id": "b43ca6c1-e378-47fd-8b99-eaf67f6b0a1d",
   "metadata": {},
   "outputs": [],
   "source": [
    "l4 = [\"san\",\"kumar\",\"data science\"]"
   ]
  },
  {
   "cell_type": "code",
   "execution_count": 55,
   "id": "41d14cd1-ddad-424a-894e-b087ce69b30b",
   "metadata": {},
   "outputs": [],
   "source": [
    "l4.sort(reverse=True)"
   ]
  },
  {
   "cell_type": "code",
   "execution_count": 56,
   "id": "03b86319-9e1e-44fb-9f69-7039cd137534",
   "metadata": {},
   "outputs": [
    {
     "data": {
      "text/plain": [
       "['san', 'kumar', 'data science']"
      ]
     },
     "execution_count": 56,
     "metadata": {},
     "output_type": "execute_result"
    }
   ],
   "source": [
    "l4"
   ]
  },
  {
   "cell_type": "code",
   "execution_count": 58,
   "id": "4d5274c3-ecb7-43d0-905b-72dd3abcce1f",
   "metadata": {},
   "outputs": [
    {
     "data": {
      "text/plain": [
       "0"
      ]
     },
     "execution_count": 58,
     "metadata": {},
     "output_type": "execute_result"
    }
   ],
   "source": [
    "l4.index(\"san\")"
   ]
  },
  {
   "cell_type": "code",
   "execution_count": 59,
   "id": "22c5ee28-61c5-4d4e-86c2-c09120448208",
   "metadata": {},
   "outputs": [
    {
     "data": {
      "text/plain": [
       "1"
      ]
     },
     "execution_count": 59,
     "metadata": {},
     "output_type": "execute_result"
    }
   ],
   "source": [
    "l4.count(\"san\")"
   ]
  },
  {
   "cell_type": "code",
   "execution_count": 60,
   "id": "79bff8b2-8634-491b-85cf-77afd0898784",
   "metadata": {},
   "outputs": [],
   "source": [
    "l4.append(\"mask\")"
   ]
  },
  {
   "cell_type": "code",
   "execution_count": 61,
   "id": "0ac8695a-001e-48bc-8f3d-1accd853bb52",
   "metadata": {},
   "outputs": [
    {
     "data": {
      "text/plain": [
       "['san', 'kumar', 'data science', 'mask']"
      ]
     },
     "execution_count": 61,
     "metadata": {},
     "output_type": "execute_result"
    }
   ],
   "source": [
    "l4"
   ]
  },
  {
   "cell_type": "code",
   "execution_count": 62,
   "id": "0d915fc7-7584-439c-8f15-db0ead9fb620",
   "metadata": {},
   "outputs": [],
   "source": [
    "s = \"santosh\"\n"
   ]
  },
  {
   "cell_type": "code",
   "execution_count": 63,
   "id": "3dff9b3f-31be-4fef-82b3-6bab84f97bb6",
   "metadata": {},
   "outputs": [],
   "source": [
    "l5 = [4,6,7,8]"
   ]
  },
  {
   "cell_type": "code",
   "execution_count": 64,
   "id": "3bcb3267-f384-4ba5-ad04-97d9294e74b3",
   "metadata": {},
   "outputs": [
    {
     "ename": "TypeError",
     "evalue": "'str' object does not support item assignment",
     "output_type": "error",
     "traceback": [
      "\u001b[0;31m---------------------------------------------------------------------------\u001b[0m",
      "\u001b[0;31mTypeError\u001b[0m                                 Traceback (most recent call last)",
      "Cell \u001b[0;32mIn[64], line 1\u001b[0m\n\u001b[0;32m----> 1\u001b[0m \u001b[43ms\u001b[49m\u001b[43m[\u001b[49m\u001b[38;5;241;43m0\u001b[39;49m\u001b[43m]\u001b[49m\u001b[38;5;241m=\u001b[39m\u001b[38;5;124m'\u001b[39m\u001b[38;5;124ma\u001b[39m\u001b[38;5;124m'\u001b[39m\n",
      "\u001b[0;31mTypeError\u001b[0m: 'str' object does not support item assignment"
     ]
    }
   ],
   "source": [
    "s[0]='a'"
   ]
  },
  {
   "cell_type": "code",
   "execution_count": 66,
   "id": "6f753046-d231-497d-be78-7ad86efcae05",
   "metadata": {},
   "outputs": [],
   "source": [
    "l5[0]=30"
   ]
  },
  {
   "cell_type": "code",
   "execution_count": 67,
   "id": "6ef3f572-72e7-48cf-97d7-eb0ecf4e4eaf",
   "metadata": {},
   "outputs": [
    {
     "data": {
      "text/plain": [
       "[30, 6, 7, 8]"
      ]
     },
     "execution_count": 67,
     "metadata": {},
     "output_type": "execute_result"
    }
   ],
   "source": [
    "l5"
   ]
  },
  {
   "cell_type": "code",
   "execution_count": 68,
   "id": "91ffdc3b-5d48-4cea-a194-aa8adf9bfa92",
   "metadata": {},
   "outputs": [
    {
     "data": {
      "text/plain": [
       "[30, 6, 7, 8]"
      ]
     },
     "execution_count": 68,
     "metadata": {},
     "output_type": "execute_result"
    }
   ],
   "source": [
    "l5"
   ]
  },
  {
   "cell_type": "code",
   "execution_count": 69,
   "id": "2048431e-2a76-45f3-8ec3-5bdc85b7567e",
   "metadata": {},
   "outputs": [
    {
     "data": {
      "text/plain": [
       "'aantoah'"
      ]
     },
     "execution_count": 69,
     "metadata": {},
     "output_type": "execute_result"
    }
   ],
   "source": [
    "s.replace('s', 'a')"
   ]
  },
  {
   "cell_type": "code",
   "execution_count": 70,
   "id": "4ab0c575-25b2-4c29-b8de-d95859b4508a",
   "metadata": {},
   "outputs": [
    {
     "data": {
      "text/plain": [
       "'ssntosh'"
      ]
     },
     "execution_count": 70,
     "metadata": {},
     "output_type": "execute_result"
    }
   ],
   "source": [
    "s.replace('a','s')"
   ]
  },
  {
   "cell_type": "code",
   "execution_count": 71,
   "id": "43f2e0da-3b14-4d09-a249-5f0fd7f8a236",
   "metadata": {},
   "outputs": [
    {
     "data": {
      "text/plain": [
       "'santosh'"
      ]
     },
     "execution_count": 71,
     "metadata": {},
     "output_type": "execute_result"
    }
   ],
   "source": [
    "s"
   ]
  },
  {
   "cell_type": "code",
   "execution_count": 74,
   "id": "6c781ff2-6883-48df-a422-a6935cb7e485",
   "metadata": {},
   "outputs": [],
   "source": [
    "t = (2,3,4,5,6,'sudh',45,False,6+9j,[3,4,5,])"
   ]
  },
  {
   "cell_type": "code",
   "execution_count": 75,
   "id": "8ad36481-f434-4ec6-be5c-1f8a6339f947",
   "metadata": {},
   "outputs": [
    {
     "data": {
      "text/plain": [
       "(2, 3, 4, 5, 6, 'sudh', 45, False, (6+9j), [3, 4, 5])"
      ]
     },
     "execution_count": 75,
     "metadata": {},
     "output_type": "execute_result"
    }
   ],
   "source": [
    "t"
   ]
  },
  {
   "cell_type": "code",
   "execution_count": 76,
   "id": "328b1721-9dc6-444c-8b80-c1617d65fcff",
   "metadata": {},
   "outputs": [
    {
     "data": {
      "text/plain": [
       "tuple"
      ]
     },
     "execution_count": 76,
     "metadata": {},
     "output_type": "execute_result"
    }
   ],
   "source": [
    "type(t)"
   ]
  },
  {
   "cell_type": "code",
   "execution_count": 77,
   "id": "836497a5-129b-423e-8153-c314ba61985a",
   "metadata": {},
   "outputs": [
    {
     "data": {
      "text/plain": [
       "10"
      ]
     },
     "execution_count": 77,
     "metadata": {},
     "output_type": "execute_result"
    }
   ],
   "source": [
    "len(t)"
   ]
  },
  {
   "cell_type": "code",
   "execution_count": 78,
   "id": "907407bc-da55-4ef6-b918-0ccd25c68bbd",
   "metadata": {},
   "outputs": [
    {
     "data": {
      "text/plain": [
       "2"
      ]
     },
     "execution_count": 78,
     "metadata": {},
     "output_type": "execute_result"
    }
   ],
   "source": [
    "t[0]"
   ]
  },
  {
   "cell_type": "code",
   "execution_count": 79,
   "id": "f633ceda-1d2f-455c-807a-c40a4fadf079",
   "metadata": {},
   "outputs": [
    {
     "data": {
      "text/plain": [
       "[3, 4, 5]"
      ]
     },
     "execution_count": 79,
     "metadata": {},
     "output_type": "execute_result"
    }
   ],
   "source": [
    "t[-1]"
   ]
  },
  {
   "cell_type": "code",
   "execution_count": 80,
   "id": "ba9262bc-8b2e-4f7e-b130-56a98fc70352",
   "metadata": {},
   "outputs": [
    {
     "data": {
      "text/plain": [
       "([3, 4, 5], (6+9j), False, 45, 'sudh', 6, 5, 4, 3, 2)"
      ]
     },
     "execution_count": 80,
     "metadata": {},
     "output_type": "execute_result"
    }
   ],
   "source": [
    "t[::-1]"
   ]
  },
  {
   "cell_type": "code",
   "execution_count": 81,
   "id": "f15c8188-3591-4a89-a3a6-bae5ff9a1f14",
   "metadata": {},
   "outputs": [
    {
     "data": {
      "text/plain": [
       "(2, 3, 4, 5, 6, 'sudh', 45, False, (6+9j), [3, 4, 5])"
      ]
     },
     "execution_count": 81,
     "metadata": {},
     "output_type": "execute_result"
    }
   ],
   "source": [
    "t"
   ]
  },
  {
   "cell_type": "code",
   "execution_count": 84,
   "id": "98a922fe-8201-4d67-a712-065ce2d63db7",
   "metadata": {},
   "outputs": [],
   "source": [
    "l4[0] = 8578\n"
   ]
  },
  {
   "cell_type": "code",
   "execution_count": 86,
   "id": "ff941add-7633-4c0c-9c28-d9b61163c9c4",
   "metadata": {},
   "outputs": [
    {
     "data": {
      "text/plain": [
       "[8578, 'kumar', 'data science', 'mask']"
      ]
     },
     "execution_count": 86,
     "metadata": {},
     "output_type": "execute_result"
    }
   ],
   "source": [
    "l4\n"
   ]
  },
  {
   "cell_type": "code",
   "execution_count": 87,
   "id": "efcae826-bb43-4c4f-9bf0-e83f8b8ba0d8",
   "metadata": {},
   "outputs": [
    {
     "data": {
      "text/plain": [
       "(2, 3, 4, 5, 6, 'sudh', 45, False, (6+9j), [3, 4, 5])"
      ]
     },
     "execution_count": 87,
     "metadata": {},
     "output_type": "execute_result"
    }
   ],
   "source": [
    "t"
   ]
  },
  {
   "cell_type": "code",
   "execution_count": 88,
   "id": "842df07d-9493-46a5-9505-97a42342a7cf",
   "metadata": {},
   "outputs": [
    {
     "ename": "TypeError",
     "evalue": "'tuple' object does not support item assignment",
     "output_type": "error",
     "traceback": [
      "\u001b[0;31m---------------------------------------------------------------------------\u001b[0m",
      "\u001b[0;31mTypeError\u001b[0m                                 Traceback (most recent call last)",
      "Cell \u001b[0;32mIn[88], line 1\u001b[0m\n\u001b[0;32m----> 1\u001b[0m \u001b[43mt\u001b[49m\u001b[43m[\u001b[49m\u001b[38;5;241;43m0\u001b[39;49m\u001b[43m]\u001b[49m\u001b[38;5;241m=\u001b[39m\u001b[38;5;124m'\u001b[39m\u001b[38;5;124msudh\u001b[39m\u001b[38;5;124m'\u001b[39m\n",
      "\u001b[0;31mTypeError\u001b[0m: 'tuple' object does not support item assignment"
     ]
    }
   ],
   "source": [
    "t[0]='sudh'"
   ]
  },
  {
   "cell_type": "code",
   "execution_count": 89,
   "id": "21c20038-159d-4269-a88d-f853cae3b66c",
   "metadata": {},
   "outputs": [
    {
     "data": {
      "text/plain": [
       "([3, 4, 5], (6+9j), False, 45, 'sudh', 6, 5, 4, 3, 2)"
      ]
     },
     "execution_count": 89,
     "metadata": {},
     "output_type": "execute_result"
    }
   ],
   "source": [
    "t[::-1]"
   ]
  },
  {
   "cell_type": "code",
   "execution_count": 90,
   "id": "baf31bc8-05f6-4d7f-a5db-e3a100db04e2",
   "metadata": {},
   "outputs": [
    {
     "data": {
      "text/plain": [
       "7"
      ]
     },
     "execution_count": 90,
     "metadata": {},
     "output_type": "execute_result"
    }
   ],
   "source": [
    "t.index(False)"
   ]
  },
  {
   "cell_type": "code",
   "execution_count": 91,
   "id": "2327d2a9-4f91-4196-a9e7-6beaa72c055a",
   "metadata": {},
   "outputs": [],
   "source": [
    "s1 = {}"
   ]
  },
  {
   "cell_type": "code",
   "execution_count": 92,
   "id": "28dde81e-50f7-4cc0-a4ed-a61c83a9e568",
   "metadata": {},
   "outputs": [
    {
     "data": {
      "text/plain": [
       "dict"
      ]
     },
     "execution_count": 92,
     "metadata": {},
     "output_type": "execute_result"
    }
   ],
   "source": [
    "type(s1)"
   ]
  },
  {
   "cell_type": "code",
   "execution_count": 93,
   "id": "e05a8263-c715-4905-b1e9-40c1425b49cb",
   "metadata": {},
   "outputs": [],
   "source": [
    "s2 = {2,43,5,6,3,46}"
   ]
  },
  {
   "cell_type": "code",
   "execution_count": 94,
   "id": "43ed3180-8408-4ad2-ac9f-3f8594617462",
   "metadata": {},
   "outputs": [
    {
     "data": {
      "text/plain": [
       "set"
      ]
     },
     "execution_count": 94,
     "metadata": {},
     "output_type": "execute_result"
    }
   ],
   "source": [
    "type(s2)"
   ]
  },
  {
   "cell_type": "code",
   "execution_count": 98,
   "id": "af3d7c62-3306-449e-9947-f2008769b614",
   "metadata": {},
   "outputs": [],
   "source": [
    "s3 = {4354,45,65,6,67,'sudh',6+9j,87,(4,57,8,)}"
   ]
  },
  {
   "cell_type": "code",
   "execution_count": 99,
   "id": "3a95bde7-9884-4885-be8c-9f9d5ba46dd8",
   "metadata": {},
   "outputs": [
    {
     "data": {
      "text/plain": [
       "{(4, 57, 8), (6+9j), 4354, 45, 6, 65, 67, 87, 'sudh'}"
      ]
     },
     "execution_count": 99,
     "metadata": {},
     "output_type": "execute_result"
    }
   ],
   "source": [
    "s3"
   ]
  },
  {
   "cell_type": "code",
   "execution_count": 105,
   "id": "4ba065e6-cf5f-4ed7-888a-4d590e529b6f",
   "metadata": {},
   "outputs": [],
   "source": [
    "s4 = {2,3,4,5,63,32,2,3,1,35,6,7,'sudh','Sudh'}"
   ]
  },
  {
   "cell_type": "code",
   "execution_count": 106,
   "id": "9487403c-a2e6-4b6d-b903-894ec21d88ab",
   "metadata": {},
   "outputs": [
    {
     "data": {
      "text/plain": [
       "{1, 2, 3, 32, 35, 4, 5, 6, 63, 7, 'Sudh', 'sudh'}"
      ]
     },
     "execution_count": 106,
     "metadata": {},
     "output_type": "execute_result"
    }
   ],
   "source": [
    "s4"
   ]
  },
  {
   "cell_type": "code",
   "execution_count": 107,
   "id": "fc7d26a1-72b8-497a-8f91-bfb8fa8bf6d7",
   "metadata": {},
   "outputs": [],
   "source": [
    "l6 = [2,3,4,5,63,32,2,3,1,35,6,7,'sudh','Sudh']"
   ]
  },
  {
   "cell_type": "code",
   "execution_count": 108,
   "id": "aceca292-8194-40aa-88af-1bc47a9424be",
   "metadata": {},
   "outputs": [],
   "source": [
    "l6= list(set(l6))"
   ]
  },
  {
   "cell_type": "code",
   "execution_count": 109,
   "id": "ce2fd70f-f582-49ec-8442-129e137bc30a",
   "metadata": {},
   "outputs": [
    {
     "data": {
      "text/plain": [
       "[32, 1, 2, 3, 4, 5, 35, 6, 7, 'Sudh', 'sudh', 63]"
      ]
     },
     "execution_count": 109,
     "metadata": {},
     "output_type": "execute_result"
    }
   ],
   "source": [
    "l6"
   ]
  },
  {
   "cell_type": "code",
   "execution_count": 110,
   "id": "4e2cd7e2-cc36-46f4-8055-899590644fae",
   "metadata": {},
   "outputs": [
    {
     "data": {
      "text/plain": [
       "[32, 1, 2, 3, 4, 5, 35, 6, 7, 'Sudh', 'sudh', 63]"
      ]
     },
     "execution_count": 110,
     "metadata": {},
     "output_type": "execute_result"
    }
   ],
   "source": [
    "l6"
   ]
  },
  {
   "cell_type": "code",
   "execution_count": 113,
   "id": "125f1823-e127-49c5-9642-b84170bdc4a6",
   "metadata": {},
   "outputs": [],
   "source": [
    "s5 = {354,545,656,76,7,87,34,35685,3,5789,4,76,45}"
   ]
  },
  {
   "cell_type": "code",
   "execution_count": 114,
   "id": "e011a4b7-2c0f-48ab-9c31-205ade4594b6",
   "metadata": {},
   "outputs": [
    {
     "data": {
      "text/plain": [
       "{3, 4, 7, 34, 45, 76, 87, 354, 545, 656, 5789, 35685}"
      ]
     },
     "execution_count": 114,
     "metadata": {},
     "output_type": "execute_result"
    }
   ],
   "source": [
    "s5"
   ]
  },
  {
   "cell_type": "code",
   "execution_count": 115,
   "id": "972274d9-5f96-4393-9819-3b5e970bc235",
   "metadata": {},
   "outputs": [
    {
     "ename": "TypeError",
     "evalue": "'set' object is not subscriptable",
     "output_type": "error",
     "traceback": [
      "\u001b[0;31m---------------------------------------------------------------------------\u001b[0m",
      "\u001b[0;31mTypeError\u001b[0m                                 Traceback (most recent call last)",
      "Cell \u001b[0;32mIn[115], line 1\u001b[0m\n\u001b[0;32m----> 1\u001b[0m \u001b[43ms5\u001b[49m\u001b[43m[\u001b[49m\u001b[38;5;241;43m0\u001b[39;49m\u001b[43m]\u001b[49m\n",
      "\u001b[0;31mTypeError\u001b[0m: 'set' object is not subscriptable"
     ]
    }
   ],
   "source": [
    "s5[0]"
   ]
  },
  {
   "cell_type": "code",
   "execution_count": 116,
   "id": "d48f4634-a06f-487f-acd2-d486aa753ad5",
   "metadata": {},
   "outputs": [
    {
     "data": {
      "text/plain": [
       "{3, 4, 7, 34, 45, 76, 87, 354, 545, 656, 5789, 35685}"
      ]
     },
     "execution_count": 116,
     "metadata": {},
     "output_type": "execute_result"
    }
   ],
   "source": [
    "s5"
   ]
  },
  {
   "cell_type": "code",
   "execution_count": 117,
   "id": "166481f6-5be0-4db2-9071-5c364824aeb4",
   "metadata": {},
   "outputs": [],
   "source": [
    "s5.add(4)"
   ]
  },
  {
   "cell_type": "code",
   "execution_count": 118,
   "id": "4d816b81-2346-4b4f-8946-47705227379a",
   "metadata": {},
   "outputs": [
    {
     "data": {
      "text/plain": [
       "{3, 4, 7, 34, 45, 76, 87, 354, 545, 656, 5789, 35685}"
      ]
     },
     "execution_count": 118,
     "metadata": {},
     "output_type": "execute_result"
    }
   ],
   "source": [
    "s5"
   ]
  },
  {
   "cell_type": "code",
   "execution_count": 120,
   "id": "4698f0d3-c81c-49e0-ad34-7dc4bfdd195f",
   "metadata": {},
   "outputs": [],
   "source": [
    "s5.remove(4)"
   ]
  },
  {
   "cell_type": "code",
   "execution_count": 121,
   "id": "568b544f-4695-4ba8-ad6c-5c1eeb10016e",
   "metadata": {},
   "outputs": [
    {
     "data": {
      "text/plain": [
       "{3, 7, 34, 45, 76, 87, 354, 545, 656, 5789, 35685}"
      ]
     },
     "execution_count": 121,
     "metadata": {},
     "output_type": "execute_result"
    }
   ],
   "source": [
    "s5"
   ]
  },
  {
   "cell_type": "code",
   "execution_count": null,
   "id": "314047b8-8c24-47c3-8510-0b8725380ac0",
   "metadata": {},
   "outputs": [],
   "source": []
  }
 ],
 "metadata": {
  "kernelspec": {
   "display_name": "Python 3 (ipykernel)",
   "language": "python",
   "name": "python3"
  },
  "language_info": {
   "codemirror_mode": {
    "name": "ipython",
    "version": 3
   },
   "file_extension": ".py",
   "mimetype": "text/x-python",
   "name": "python",
   "nbconvert_exporter": "python",
   "pygments_lexer": "ipython3",
   "version": "3.10.8"
  }
 },
 "nbformat": 4,
 "nbformat_minor": 5
}
