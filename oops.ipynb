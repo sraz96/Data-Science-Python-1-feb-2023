{
 "cells": [
  {
   "cell_type": "code",
   "execution_count": null,
   "id": "bfa8df79-3097-41f7-959c-5c966b93bda6",
   "metadata": {},
   "outputs": [],
   "source": [
    "\"Oops\" stands for Object Oriented Programming System"
   ]
  },
  {
   "cell_type": "code",
   "execution_count": 1,
   "id": "1c70b082-bf5d-4fd4-8277-96adbd7963a3",
   "metadata": {},
   "outputs": [],
   "source": [
    "a = 1"
   ]
  },
  {
   "cell_type": "code",
   "execution_count": 2,
   "id": "12778a74-7c71-43a7-912c-17654fbb591d",
   "metadata": {},
   "outputs": [
    {
     "name": "stdout",
     "output_type": "stream",
     "text": [
      "<class 'int'>\n"
     ]
    }
   ],
   "source": [
    "print(type(a))"
   ]
  },
  {
   "cell_type": "code",
   "execution_count": 3,
   "id": "8f174517-5769-4a04-a410-ee5b54224ebd",
   "metadata": {},
   "outputs": [
    {
     "name": "stdout",
     "output_type": "stream",
     "text": [
      "<class 'str'>\n"
     ]
    }
   ],
   "source": [
    "print(type(\"pwskills\"))"
   ]
  },
  {
   "cell_type": "code",
   "execution_count": 5,
   "id": "da26a12b-2e3e-40ba-b312-ffcb9d1ed54d",
   "metadata": {},
   "outputs": [],
   "source": [
    "class test :\n",
    "    pass "
   ]
  },
  {
   "cell_type": "code",
   "execution_count": 6,
   "id": "05f7dfaf-d1e4-4234-b946-1477b7980d66",
   "metadata": {},
   "outputs": [],
   "source": [
    "a = test()"
   ]
  },
  {
   "cell_type": "code",
   "execution_count": 7,
   "id": "8e2763e7-76ba-4471-bc6e-deb3cd04933f",
   "metadata": {},
   "outputs": [
    {
     "data": {
      "text/plain": [
       "__main__.test"
      ]
     },
     "execution_count": 7,
     "metadata": {},
     "output_type": "execute_result"
    }
   ],
   "source": [
    "type(a)"
   ]
  },
  {
   "cell_type": "code",
   "execution_count": 8,
   "id": "f06f2fe9-1de3-47a2-baee-3016c8c05f68",
   "metadata": {},
   "outputs": [
    {
     "name": "stdout",
     "output_type": "stream",
     "text": [
      "<class '__main__.test'>\n"
     ]
    }
   ],
   "source": [
    "print(type(a))"
   ]
  },
  {
   "cell_type": "code",
   "execution_count": 14,
   "id": "88a3fac9-4cff-4271-9cf3-1a7624c37f6d",
   "metadata": {},
   "outputs": [],
   "source": [
    "class pwskills :\n",
    "    def welcome_message(self):\n",
    "        print(\"Welcome to pwskills\")"
   ]
  },
  {
   "cell_type": "code",
   "execution_count": 15,
   "id": "73f6cb1e-0021-47da-8b09-2bffa32480bb",
   "metadata": {},
   "outputs": [],
   "source": [
    "rohan = pwskills()"
   ]
  },
  {
   "cell_type": "code",
   "execution_count": 16,
   "id": "f9526e50-225c-47d5-875c-a23e7c067589",
   "metadata": {},
   "outputs": [
    {
     "name": "stdout",
     "output_type": "stream",
     "text": [
      "<class '__main__.pwskills'>\n"
     ]
    }
   ],
   "source": [
    "print(type(rohan))"
   ]
  },
  {
   "cell_type": "code",
   "execution_count": 20,
   "id": "5f5ceb2b-ccbe-4093-a639-e4bb05940dd3",
   "metadata": {},
   "outputs": [
    {
     "name": "stdout",
     "output_type": "stream",
     "text": [
      "Welcome to pwskills\n"
     ]
    }
   ],
   "source": [
    "rohan.welcome_message()"
   ]
  },
  {
   "cell_type": "code",
   "execution_count": 21,
   "id": "b4b2a7e6-1df0-430d-b79c-40e8a27a30cb",
   "metadata": {},
   "outputs": [],
   "source": [
    "gaurav = pwskills()"
   ]
  },
  {
   "cell_type": "code",
   "execution_count": 22,
   "id": "19a1089d-72cc-40d2-a4ee-7bdbea7dd2fb",
   "metadata": {},
   "outputs": [
    {
     "name": "stdout",
     "output_type": "stream",
     "text": [
      "Welcome to pwskills\n"
     ]
    }
   ],
   "source": [
    "gaurav.welcome_message()"
   ]
  },
  {
   "cell_type": "code",
   "execution_count": 2,
   "id": "48beb582-8cc8-4366-9a9c-3b30d1d6252e",
   "metadata": {},
   "outputs": [],
   "source": [
    "class pwskills1 :\n",
    "    def __init__(self , phone_number , email_id , student_id):\n",
    "        self.phone_number = phone_number\n",
    "        self.email_id = email_id\n",
    "        self.student_id = student_id\n",
    "        \n",
    "    def return_student_details(self):\n",
    "        return self.student_id ,self.email_id , self.phone_number"
   ]
  },
  {
   "cell_type": "code",
   "execution_count": 3,
   "id": "68e04bf6-8206-4117-85c5-f43864c3f9f1",
   "metadata": {},
   "outputs": [],
   "source": [
    "ram = pwskills1(8840996125,\"ram892gmail.com\" , 101)"
   ]
  },
  {
   "cell_type": "code",
   "execution_count": 4,
   "id": "14715e9b-37a3-478b-b3d0-4f4327a832e8",
   "metadata": {},
   "outputs": [
    {
     "data": {
      "text/plain": [
       "(101, 'ram892gmail.com', 8840996125)"
      ]
     },
     "execution_count": 4,
     "metadata": {},
     "output_type": "execute_result"
    }
   ],
   "source": [
    "ram.return_student_details()"
   ]
  },
  {
   "cell_type": "code",
   "execution_count": 5,
   "id": "afdd9e78-7147-47f3-8f07-7036598e3cc3",
   "metadata": {},
   "outputs": [],
   "source": [
    "rohan = pwskills1(9877564545, \"rohan312@gmail.com\",25)"
   ]
  },
  {
   "cell_type": "code",
   "execution_count": 6,
   "id": "ea15b91d-8c30-4366-aa01-174ec9654dc7",
   "metadata": {},
   "outputs": [
    {
     "data": {
      "text/plain": [
       "9877564545"
      ]
     },
     "execution_count": 6,
     "metadata": {},
     "output_type": "execute_result"
    }
   ],
   "source": [
    "rohan.phone_number"
   ]
  },
  {
   "cell_type": "code",
   "execution_count": 7,
   "id": "4d0427c2-7da0-43bb-b8fc-87439af9dc5c",
   "metadata": {},
   "outputs": [
    {
     "data": {
      "text/plain": [
       "'rohan312@gmail.com'"
      ]
     },
     "execution_count": 7,
     "metadata": {},
     "output_type": "execute_result"
    }
   ],
   "source": [
    "rohan.email_id"
   ]
  },
  {
   "cell_type": "code",
   "execution_count": 47,
   "id": "861bad5c-da22-4aea-92ed-a4ed856fc481",
   "metadata": {},
   "outputs": [
    {
     "data": {
      "text/plain": [
       "(25, 'rohan312@gmail.com', 9877564545)"
      ]
     },
     "execution_count": 47,
     "metadata": {},
     "output_type": "execute_result"
    }
   ],
   "source": [
    "rohan.return_student_details()"
   ]
  },
  {
   "cell_type": "code",
   "execution_count": 8,
   "id": "14bf86d0-e7ad-429a-ada9-0328cd866069",
   "metadata": {},
   "outputs": [],
   "source": [
    "class pwskills2 :\n",
    "    def __init__(self , phone_number , email_id , student_id):\n",
    "        self.phone_number1 = phone_number\n",
    "        self.email_id1 = email_id\n",
    "        self.student_id1 = student_id\n",
    "        \n",
    "    def return_student_details(self):\n",
    "        return self.student_id1 ,self.email_id1 , self.phone_number1"
   ]
  },
  {
   "cell_type": "code",
   "execution_count": 9,
   "id": "1be9c911-ba71-40ec-b30d-e0a550feb240",
   "metadata": {},
   "outputs": [],
   "source": [
    "santo = pwskills2(4546546541, \"mouryasantosh43@gmail.com\",78)"
   ]
  },
  {
   "cell_type": "code",
   "execution_count": 11,
   "id": "4d269837-4a05-42c6-8662-678b7ca9c110",
   "metadata": {},
   "outputs": [
    {
     "data": {
      "text/plain": [
       "4546546541"
      ]
     },
     "execution_count": 11,
     "metadata": {},
     "output_type": "execute_result"
    }
   ],
   "source": [
    "santo.phone_number1"
   ]
  },
  {
   "cell_type": "code",
   "execution_count": 12,
   "id": "6158539b-2fbb-421e-ad0b-b03c4a74c04a",
   "metadata": {},
   "outputs": [
    {
     "data": {
      "text/plain": [
       "'mouryasantosh43@gmail.com'"
      ]
     },
     "execution_count": 12,
     "metadata": {},
     "output_type": "execute_result"
    }
   ],
   "source": [
    "santo.email_id1"
   ]
  },
  {
   "cell_type": "code",
   "execution_count": 17,
   "id": "3620d1f2-f776-48c6-99cf-904023a2a7a1",
   "metadata": {},
   "outputs": [
    {
     "data": {
      "text/plain": [
       "<bound method pwskills2.return_student_details of <__main__.pwskills2 object at 0x7f1cf09d7ac0>>"
      ]
     },
     "execution_count": 17,
     "metadata": {},
     "output_type": "execute_result"
    }
   ],
   "source": [
    "santo.return_student_details"
   ]
  },
  {
   "cell_type": "code",
   "execution_count": 15,
   "id": "a2b818b7-be44-49cc-b8e2-a5b31790fbeb",
   "metadata": {},
   "outputs": [
    {
     "data": {
      "text/plain": [
       "78"
      ]
     },
     "execution_count": 15,
     "metadata": {},
     "output_type": "execute_result"
    }
   ],
   "source": [
    "santo.student_id1"
   ]
  },
  {
   "cell_type": "code",
   "execution_count": 19,
   "id": "b54453e6-cf4e-4e97-bcbb-fbe5c7e70dd7",
   "metadata": {},
   "outputs": [],
   "source": [
    "class pwskills3 :\n",
    "    def __init__(santosh , phone_number , email_id , student_id):\n",
    "         santosh.phone_number1 = phone_number\n",
    "         santosh.email_id1 = email_id\n",
    "         santosh.student_id1 = student_id\n",
    "        \n",
    "    def return_student_details( santosh):\n",
    "        return  santosh.student_id1 , santosh.email_id1 ,  santosh.phone_number1"
   ]
  },
  {
   "cell_type": "code",
   "execution_count": 20,
   "id": "d440cf20-73bd-435b-bc2b-9824822abf01",
   "metadata": {},
   "outputs": [],
   "source": [
    "rakesh = pwskills3(65457446545,\"rakesh454@gmail.com\",445)"
   ]
  },
  {
   "cell_type": "code",
   "execution_count": 21,
   "id": "6184e481-c3fc-4d70-9034-46313e37b29d",
   "metadata": {},
   "outputs": [
    {
     "data": {
      "text/plain": [
       "65457446545"
      ]
     },
     "execution_count": 21,
     "metadata": {},
     "output_type": "execute_result"
    }
   ],
   "source": [
    "rakesh.phone_number1"
   ]
  },
  {
   "cell_type": "code",
   "execution_count": null,
   "id": "aaafd2bc-dec0-40e3-910d-92984d011e86",
   "metadata": {},
   "outputs": [],
   "source": []
  }
 ],
 "metadata": {
  "kernelspec": {
   "display_name": "Python 3 (ipykernel)",
   "language": "python",
   "name": "python3"
  },
  "language_info": {
   "codemirror_mode": {
    "name": "ipython",
    "version": 3
   },
   "file_extension": ".py",
   "mimetype": "text/x-python",
   "name": "python",
   "nbconvert_exporter": "python",
   "pygments_lexer": "ipython3",
   "version": "3.10.8"
  }
 },
 "nbformat": 4,
 "nbformat_minor": 5
}
